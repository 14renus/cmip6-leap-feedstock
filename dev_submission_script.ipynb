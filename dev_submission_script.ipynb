{
 "cells": [
  {
   "cell_type": "code",
   "execution_count": 1,
   "id": "c1289bf7-f6dc-46f3-a289-56c35582a82c",
   "metadata": {
    "tags": []
   },
   "outputs": [],
   "source": [
    "# # the dependencies here are a mess, I would love to have these all in the environment.yml file, but I don't know how to pass the \"--no-deps\" flag to pip install from the environment.yml file.\n",
    "# !pip uninstall -y pangeo-forge-runner pangeo-forge-recipes\n",
    "# !pip install git+https://github.com/pangeo-forge/pangeo-forge-runner.git@arbitrary-injections --no-deps\n",
    "# !pip install git+https://github.com/jbusecke/pangeo-forge-recipes.git@dynamic_chunks_2 --no-deps\n",
    "# !pip install ruamel.yaml --no-deps\n"
   ]
  },
  {
   "cell_type": "code",
   "execution_count": 3,
   "id": "5bf5ca6b",
   "metadata": {},
   "outputs": [],
   "source": [
    "# # test bigquery logic (WTF? Why is this working in the other notebook but not here)\n",
    "# from feedstock.recipe import urls_from_bq\n",
    "# urls_from_bq('CMIP6.CMIP.MRI.MRI-ESM2-0.historical.r3i1p1f1.day.pr.gn.v20190603')"
   ]
  },
  {
   "cell_type": "code",
   "execution_count": 4,
   "id": "66459235",
   "metadata": {},
   "outputs": [
    {
     "name": "stdout",
     "output_type": "stream",
     "text": [
      "pangeo-forge-esgf               0.0.5.dev16+g172f1d0\n",
      "pangeo-forge-recipes            0.6.2.dev549+g91eb6a6\n",
      "pangeo-forge-runner             0.7.2\n",
      "Note: you may need to restart the kernel to use updated packages.\n"
     ]
    }
   ],
   "source": [
    "pip list | grep pangeo-forge"
   ]
  },
  {
   "cell_type": "code",
   "execution_count": 5,
   "id": "11aa5ad1-46f1-4be8-95e2-a846221dffd8",
   "metadata": {
    "tags": []
   },
   "outputs": [],
   "source": [
    "# global input args\n",
    "repo = \"https://github.com/jbusecke/cmip6-leap-feedstock.git\"\n",
    "ref = \"beam-dataflow-testing\"\n",
    "# f_name = \"config.json\"\n",
    "# test locally \n",
    "f_name = \"config_local.json\""
   ]
  },
  {
   "cell_type": "code",
   "execution_count": 6,
   "id": "b67b1ebd-b94e-40cb-b745-4b77c31796df",
   "metadata": {
    "tags": []
   },
   "outputs": [],
   "source": [
    "def shorten_id(iid):\n",
    "    iid_stripped = ''.join(iid.lower().split('.')[3:])\n",
    "    assert len(iid_stripped)<66\n",
    "    return iid_stripped"
   ]
  },
  {
   "cell_type": "code",
   "execution_count": 7,
   "id": "5eaedba8-3d55-4ce7-94da-4e781dc1673b",
   "metadata": {
    "tags": []
   },
   "outputs": [
    {
     "name": "stdout",
     "output_type": "stream",
     "text": [
      "Submitting (CMIP6.CMIP.MRI.MRI-ESM2-0.historical.r3i1p1f1.day.pr.gn.v20190603)\n",
      "\n",
      "Submitting job...\n",
      "pangeo-forge-runner bake --repo https://github.com/jbusecke/cmip6-leap-feedstock.git --ref beam-dataflow-testing --json -f config_local.json --Bake.inject {\"get_iid\": {\"iid\": \"CMIP6.CMIP.MRI.MRI-ESM2-0.historical.r3i1p1f1.day.pr.gn.v20190603\"}, \"get_jobname\": {\"jobname\": \"mri-esm2-0historicalr3i1p1f1dayprgnv20190603qwndu53a\"}} --Bake.job_name mri-esm2-0historicalr3i1p1f1dayprgnv20190603qwndu53a --DataflowBakery.machine_type n2-highmem-2\n",
      "Submission FAILED with \n",
      "STDOUT\n",
      "{\"message\": \"Target Storage is FSSpecTarget(LocalFileSystem(, root_path=\\\"local_storage/cache/{job_name}\\\")\\n\", \"status\": \"setup\"}\n",
      "{\"message\": \"Input Cache Storage is CacheFSSpecTarget(LocalFileSystem(, root_path=\\\"local_storage/cache/{job_name}\\\")\\n\", \"status\": \"setup\"}\n",
      "{\"message\": \"Metadata Cache Storage is MetadataTarget(AbstractFileSystem(, root_path=\\\"\\\")\\n\", \"status\": \"setup\"}\n",
      "{\"message\": \"Picked Git content provider.\\n\", \"status\": \"fetching\"}\n",
      "{\"message\": \"Cloning into '/var/folders/_1/1k9jtjl51z333f21s7yht0340000gn/T/tmpy0v9rvyw'...\\n\", \"status\": \"fetching\"}\n",
      "{\"message\": \"HEAD is now at c83067c Remove jobname injection\\n\", \"status\": \"fetching\"}\n",
      "{\"message\": \"Parsing recipes...\", \"status\": \"running\"}\n",
      "{\"message\": \"Fetching urls from GCS for None\", \"status\": \"running\"}\n",
      "{\"message\": \"\\n\", \"status\": \"running\"}\n",
      "{\"message\": \"Error during running: b/leap-persistent/o/jbusecke%2Fcmip6urls%2FNone.json\", \"exc_info\": \"Traceback (most recent call last):\\n  File \\\"/Users/juliusbusecke/miniconda/envs/cmip6-leap-feedstock/bin/pangeo-forge-runner\\\", line 8, in <module>\\n    sys.exit(main())\\n  File \\\"/Users/juliusbusecke/miniconda/envs/cmip6-leap-feedstock/lib/python3.9/site-packages/pangeo_forge_runner/cli.py\\\", line 28, in main\\n    app.start()\\n  File \\\"/Users/juliusbusecke/miniconda/envs/cmip6-leap-feedstock/lib/python3.9/site-packages/pangeo_forge_runner/cli.py\\\", line 23, in start\\n    super().start()\\n  File \\\"/Users/juliusbusecke/miniconda/envs/cmip6-leap-feedstock/lib/python3.9/site-packages/traitlets/config/application.py\\\", line 473, in start\\n    return self.subapp.start()\\n  File \\\"/Users/juliusbusecke/miniconda/envs/cmip6-leap-feedstock/lib/python3.9/site-packages/pangeo_forge_runner/commands/bake.py\\\", line 188, in start\\n    recipes = feedstock.parse_recipes()\\n  File \\\"/Users/juliusbusecke/miniconda/envs/cmip6-leap-feedstock/lib/python3.9/site-packages/pangeo_forge_runner/feedstock.py\\\", line 81, in parse_recipes\\n    recipes[r[\\\"id\\\"]] = self._import(r[\\\"object\\\"])\\n  File \\\"/Users/juliusbusecke/miniconda/envs/cmip6-leap-feedstock/lib/python3.9/site-packages/pangeo_forge_runner/feedstock.py\\\", line 66, in _import\\n    exec(compile(source=rewritten_ast, filename=filename, mode=\\\"exec\\\"), ns)\\n  File \\\"/var/folders/_1/1k9jtjl51z333f21s7yht0340000gn/T/tmpy0v9rvyw/feedstock/recipe.py\\\", line 50, in <module>\\n  File \\\"/var/folders/_1/1k9jtjl51z333f21s7yht0340000gn/T/tmpy0v9rvyw/feedstock/recipe.py\\\", line 24, in urls_from_gcs\\n  File \\\"/Users/juliusbusecke/miniconda/envs/cmip6-leap-feedstock/lib/python3.9/site-packages/fsspec/spec.py\\\", line 1229, in open\\n    self.open(\\n  File \\\"/Users/juliusbusecke/miniconda/envs/cmip6-leap-feedstock/lib/python3.9/site-packages/fsspec/spec.py\\\", line 1241, in open\\n    f = self._open(\\n  File \\\"/Users/juliusbusecke/miniconda/envs/cmip6-leap-feedstock/lib/python3.9/site-packages/gcsfs/core.py\\\", line 1343, in _open\\n    return GCSFile(\\n  File \\\"/Users/juliusbusecke/miniconda/envs/cmip6-leap-feedstock/lib/python3.9/site-packages/gcsfs/core.py\\\", line 1502, in __init__\\n    super().__init__(\\n  File \\\"/Users/juliusbusecke/miniconda/envs/cmip6-leap-feedstock/lib/python3.9/site-packages/fsspec/spec.py\\\", line 1597, in __init__\\n    self.size = self.details[\\\"size\\\"]\\n  File \\\"/Users/juliusbusecke/miniconda/envs/cmip6-leap-feedstock/lib/python3.9/site-packages/gcsfs/core.py\\\", line 1538, in details\\n    self._details = self.fs.info(self.path, generation=self.generation)\\n  File \\\"/Users/juliusbusecke/miniconda/envs/cmip6-leap-feedstock/lib/python3.9/site-packages/fsspec/asyn.py\\\", line 121, in wrapper\\n    return sync(self.loop, func, *args, **kwargs)\\n  File \\\"/Users/juliusbusecke/miniconda/envs/cmip6-leap-feedstock/lib/python3.9/site-packages/fsspec/asyn.py\\\", line 106, in sync\\n    raise return_result\\n  File \\\"/Users/juliusbusecke/miniconda/envs/cmip6-leap-feedstock/lib/python3.9/site-packages/fsspec/asyn.py\\\", line 61, in _runner\\n    result[0] = await coro\\n  File \\\"/Users/juliusbusecke/miniconda/envs/cmip6-leap-feedstock/lib/python3.9/site-packages/gcsfs/core.py\\\", line 809, in _info\\n    out = await self._ls(path, **kwargs)\\n  File \\\"/Users/juliusbusecke/miniconda/envs/cmip6-leap-feedstock/lib/python3.9/site-packages/gcsfs/core.py\\\", line 846, in _ls\\n    for entry in await self._list_objects(\\n  File \\\"/Users/juliusbusecke/miniconda/envs/cmip6-leap-feedstock/lib/python3.9/site-packages/gcsfs/core.py\\\", line 561, in _list_objects\\n    return [await self._get_object(path)]\\n  File \\\"/Users/juliusbusecke/miniconda/envs/cmip6-leap-feedstock/lib/python3.9/site-packages/gcsfs/core.py\\\", line 503, in _get_object\\n    res = await self._call(\\n  File \\\"/Users/juliusbusecke/miniconda/envs/cmip6-leap-feedstock/lib/python3.9/site-packages/gcsfs/core.py\\\", line 430, in _call\\n    status, headers, info, contents = await self._request(\\n  File \\\"/Users/juliusbusecke/miniconda/envs/cmip6-leap-feedstock/lib/python3.9/site-packages/decorator.py\\\", line 221, in fun\\n    return await caller(func, *(extras + args), **kw)\\n  File \\\"/Users/juliusbusecke/miniconda/envs/cmip6-leap-feedstock/lib/python3.9/site-packages/gcsfs/retry.py\\\", line 114, in retry_request\\n    return await func(*args, **kwargs)\\n  File \\\"/Users/juliusbusecke/miniconda/envs/cmip6-leap-feedstock/lib/python3.9/site-packages/gcsfs/core.py\\\", line 423, in _request\\n    validate_response(status, contents, path, args)\\n  File \\\"/Users/juliusbusecke/miniconda/envs/cmip6-leap-feedstock/lib/python3.9/site-packages/gcsfs/retry.py\\\", line 83, in validate_response\\n    raise FileNotFoundError(path)\\nFileNotFoundError: b/leap-persistent/o/jbusecke%2Fcmip6urls%2FNone.json\", \"status\": \"failed\"}\n",
      "STDERR\n",
      "[Bake] WARNING | Config option `inject` not recognized by `Bake`.\n",
      "[Bake] WARNING | Config option `inject` not recognized by `Bake`.\n"
     ]
    }
   ],
   "source": [
    "# from the integration tests of pangeo-forge-runner\n",
    "#https://github.com/pangeo-forge/pangeo-forge-runner/blob/main/tests/integration/test_dataflow_integration.py\n",
    "\n",
    "import subprocess\n",
    "import os\n",
    "import time\n",
    "import xarray as xr\n",
    "import json\n",
    "import random\n",
    "import string\n",
    "\n",
    "# using randomchoice due to this https://stackoverflow.com/questions/13484726/safe-enough-8-character-short-unique-random-string\n",
    "alphabet = string.ascii_lowercase + string.digits\n",
    "\n",
    "# # check written stores (should this just be\n",
    "# iids = []\n",
    "# with open('iids.txt') as f:\n",
    "#     for line in f:\n",
    "#         if not '#' in line:\n",
    "#             iids.append(str(line).replace(\" \", \"\").replace(\"',\\n\", \"\").replace(\"'\",\"\")) # FIXME: This seems ugly haha\n",
    "# print(iids)\n",
    "\n",
    "# iids = [\n",
    "#     'CMIP6.CMIP.IPSL.IPSL-CM6A-LR.historical.r1i1p1f1.Omon.zmeso.gn.v20180803',\n",
    "#     # 'CMIP6.ScenarioMIP.MRI.MRI-ESM2-0.ssp585.r5i1p1f1.day.sfcWind.gn.v20210907'\n",
    "# ]\n",
    "\n",
    "# tims full request (minus the miroc ones that were not available\n",
    "\n",
    "# ec-earth3ssp585r140i1p1f1daypslgrv2020041\n",
    "\n",
    "iids = [\n",
    "#     'CMIP6.ScenarioMIP.EC-Earth-Consortium.EC-Earth3.ssp245.r17i1p1f2.day.sfcWind.gr.v20201015',\n",
    "#  'CMIP6.ScenarioMIP.MRI.MRI-ESM2-0.ssp245.r2i3p1f1.day.pr.gn.v20201222',\n",
    "#  'CMIP6.ScenarioMIP.EC-Earth-Consortium.EC-Earth3.ssp245.r25i1p1f2.day.psl.gr.v20201015',\n",
    "#  'CMIP6.ScenarioMIP.EC-Earth-Consortium.EC-Earth3.ssp585.r127i1p1f1.day.psl.gr.v20200412',\n",
    "#  'CMIP6.ScenarioMIP.EC-Earth-Consortium.EC-Earth3.ssp585.r138i1p1f1.day.psl.gr.v20200412',\n",
    "#  'CMIP6.ScenarioMIP.EC-Earth-Consortium.EC-Earth3.ssp245.r15i1p1f2.day.sfcWind.gr.v20201015',\n",
    "#  'CMIP6.ScenarioMIP.EC-Earth-Consortium.EC-Earth3.ssp585.r134i1p1f1.day.psl.gr.v20200412',\n",
    "#  'CMIP6.ScenarioMIP.EC-Earth-Consortium.EC-Earth3.ssp585.r110i1p1f1.day.psl.gr.v20200412',\n",
    "#  'CMIP6.ScenarioMIP.MRI.MRI-ESM2-0.ssp245.r1i3p1f1.day.pr.gn.v20201222',\n",
    "#  'CMIP6.ScenarioMIP.MRI.MRI-ESM2-0.ssp245.r4i3p1f1.day.pr.gn.v20201222',\n",
    "#  'CMIP6.ScenarioMIP.EC-Earth-Consortium.EC-Earth3.ssp245.r27i1p1f2.day.sfcWind.gr.v20201015',\n",
    "#  'CMIP6.ScenarioMIP.EC-Earth-Consortium.EC-Earth3.ssp585.r103i1p1f1.day.psl.gr.v20200412',\n",
    "#  'CMIP6.ScenarioMIP.EC-Earth-Consortium.EC-Earth3.ssp245.r1i1p1f2.day.pr.gr.v20201015',\n",
    "#  'CMIP6.ScenarioMIP.EC-Earth-Consortium.EC-Earth3.ssp585.r142i1p1f1.day.psl.gr.v20200412',\n",
    "#  'CMIP6.ScenarioMIP.EC-Earth-Consortium.EC-Earth3.ssp585.r124i1p1f1.day.psl.gr.v20200412',\n",
    "#  'CMIP6.ScenarioMIP.EC-Earth-Consortium.EC-Earth3.ssp245.r29i1p1f2.day.psl.gr.v20201015',\n",
    "#  'CMIP6.ScenarioMIP.EC-Earth-Consortium.EC-Earth3.ssp245.r7i1p1f2.day.pr.gr.v20210218',\n",
    "#  'CMIP6.ScenarioMIP.EC-Earth-Consortium.EC-Earth3.ssp245.r2i1p1f2.day.sfcWind.gr.v20201015',\n",
    "#  'CMIP6.ScenarioMIP.MIROC.MIROC6.ssp245.r4i1p1f1.day.pr.gn.v20200623',\n",
    "#  'CMIP6.ScenarioMIP.EC-Earth-Consortium.EC-Earth3.ssp245.r15i1p1f2.day.pr.gr.v20201015',\n",
    "#  'CMIP6.ScenarioMIP.EC-Earth-Consortium.EC-Earth3.ssp585.r111i1p1f1.day.psl.gr.v20200412',\n",
    "#  'CMIP6.ScenarioMIP.EC-Earth-Consortium.EC-Earth3.ssp585.r126i1p1f1.day.psl.gr.v20200412',\n",
    "#  'CMIP6.ScenarioMIP.EC-Earth-Consortium.EC-Earth3.ssp585.r136i1p1f1.day.psl.gr.v20200412',\n",
    "#  'CMIP6.ScenarioMIP.MIROC.MIROC6.ssp245.r20i1p1f1.day.pr.gn.v20200623',\n",
    "#  'CMIP6.ScenarioMIP.EC-Earth-Consortium.EC-Earth3.ssp585.r122i1p1f1.day.psl.gr.v20200412',\n",
    "#  'CMIP6.ScenarioMIP.EC-Earth-Consortium.EC-Earth3.ssp585.r131i1p1f1.day.psl.gr.v20200412',\n",
    "#  'CMIP6.ScenarioMIP.EC-Earth-Consortium.EC-Earth3.ssp245.r7i1p1f2.day.sfcWind.gr.v20210218',\n",
    "#  'CMIP6.ScenarioMIP.EC-Earth-Consortium.EC-Earth3.ssp245.r24i1p1f2.day.pr.gr.v20210407',\n",
    "#  'CMIP6.ScenarioMIP.EC-Earth-Consortium.EC-Earth3.ssp245.r1i1p1f2.day.psl.gr.v20201015',\n",
    "#  'CMIP6.ScenarioMIP.EC-Earth-Consortium.EC-Earth3.ssp585.r133i1p1f1.day.psl.gr.v20200412',\n",
    "#  'CMIP6.ScenarioMIP.MIROC.MIROC6.ssp245.r13i1p1f1.day.pr.gn.v20200623',\n",
    "#  'CMIP6.ScenarioMIP.EC-Earth-Consortium.EC-Earth3.ssp585.r141i1p1f1.day.psl.gr.v20200412',\n",
    "#  'CMIP6.ScenarioMIP.MIROC.MIROC6.ssp245.r19i1p1f1.day.pr.gn.v20200623',\n",
    "#  'CMIP6.ScenarioMIP.EC-Earth-Consortium.EC-Earth3.ssp245.r30i1p1f2.day.psl.gr.v20201015',\n",
    "#  'CMIP6.ScenarioMIP.EC-Earth-Consortium.EC-Earth3.ssp245.r18i1p1f2.day.pr.gr.v20210407',\n",
    "#  'CMIP6.ScenarioMIP.EC-Earth-Consortium.EC-Earth3.ssp585.r123i1p1f1.day.psl.gr.v20200412',\n",
    "#  'CMIP6.ScenarioMIP.EC-Earth-Consortium.EC-Earth3.ssp245.r8i1p1f2.day.sfcWind.gr.v20201015',\n",
    "#  'CMIP6.ScenarioMIP.EC-Earth-Consortium.EC-Earth3.ssp585.r121i1p1f1.day.psl.gr.v20200412',\n",
    "#  'CMIP6.ScenarioMIP.EC-Earth-Consortium.EC-Earth3.ssp245.r23i1p1f2.day.sfcWind.gr.v20201015',\n",
    "#  'CMIP6.ScenarioMIP.EC-Earth-Consortium.EC-Earth3.ssp585.r146i1p1f1.day.psl.gr.v20200412',\n",
    "#  'CMIP6.ScenarioMIP.EC-Earth-Consortium.EC-Earth3.ssp245.r16i1p1f2.day.pr.gr.v20210407',\n",
    "#  'CMIP6.ScenarioMIP.EC-Earth-Consortium.EC-Earth3.ssp245.r2i1p1f2.day.psl.gr.v20201015',\n",
    "#  'CMIP6.ScenarioMIP.EC-Earth-Consortium.EC-Earth3.ssp585.r149i1p1f1.day.psl.gr.v20200412',\n",
    "#  'CMIP6.ScenarioMIP.EC-Earth-Consortium.EC-Earth3.ssp245.r23i1p1f1.day.psl.gr.v20200407',\n",
    "#  'CMIP6.ScenarioMIP.EC-Earth-Consortium.EC-Earth3.ssp585.r145i1p1f1.day.psl.gr.v20200412',\n",
    "#  'CMIP6.ScenarioMIP.EC-Earth-Consortium.EC-Earth3.ssp245.r29i1p1f2.day.pr.gr.v20201015',\n",
    "#  'CMIP6.ScenarioMIP.MOHC.HadGEM3-GC31-MM.ssp585.r2i1p1f3.day.psl.gn.v20200515',\n",
    "#  'CMIP6.ScenarioMIP.EC-Earth-Consortium.EC-Earth3.ssp245.r12i1p1f2.day.pr.gr.v20201015',\n",
    "#  'CMIP6.ScenarioMIP.EC-Earth-Consortium.EC-Earth3.ssp245.r23i1p1f2.day.psl.gr.v20201015',\n",
    "#  'CMIP6.ScenarioMIP.MIROC.MIROC6.ssp245.r7i1p1f1.day.pr.gn.v20200623',\n",
    "#  'CMIP6.ScenarioMIP.EC-Earth-Consortium.EC-Earth3.ssp245.r7i1p1f2.day.psl.gr.v20210218',\n",
    "#  'CMIP6.ScenarioMIP.MIROC.MIROC6.ssp245.r14i1p1f1.day.pr.gn.v20200623',\n",
    "#  'CMIP6.ScenarioMIP.EC-Earth-Consortium.EC-Earth3.ssp585.r132i1p1f1.day.psl.gr.v20200412',\n",
    "#  'CMIP6.ScenarioMIP.MIROC.MIROC6.ssp245.r9i1p1f1.day.pr.gn.v20200623',\n",
    "#  'CMIP6.ScenarioMIP.EC-Earth-Consortium.EC-Earth3.ssp585.r118i1p1f1.day.psl.gr.v20200412',\n",
    "#  'CMIP6.ScenarioMIP.EC-Earth-Consortium.EC-Earth3.ssp245.r21i1p1f2.day.sfcWind.gr.v20201015',\n",
    "#  'CMIP6.ScenarioMIP.EC-Earth-Consortium.EC-Earth3.ssp245.r13i1p1f2.day.pr.gr.v20210407',\n",
    "#  'CMIP6.ScenarioMIP.EC-Earth-Consortium.EC-Earth3.ssp585.r115i1p1f1.day.psl.gr.v20200412',\n",
    "#  'CMIP6.ScenarioMIP.EC-Earth-Consortium.EC-Earth3.ssp245.r26i1p1f2.day.pr.gr.v20210407',\n",
    "#  'CMIP6.ScenarioMIP.EC-Earth-Consortium.EC-Earth3.ssp585.r129i1p1f1.day.psl.gr.v20200412',\n",
    "#  'CMIP6.ScenarioMIP.EC-Earth-Consortium.EC-Earth3.ssp245.r6i1p1f2.day.sfcWind.gr.v20210517',\n",
    "#  'CMIP6.ScenarioMIP.EC-Earth-Consortium.EC-Earth3.ssp245.r12i1p1f2.day.psl.gr.v20201015',\n",
    "#  'CMIP6.ScenarioMIP.EC-Earth-Consortium.EC-Earth3.ssp585.r113i1p1f1.day.psl.gr.v20200412',\n",
    "#  'CMIP6.ScenarioMIP.EC-Earth-Consortium.EC-Earth3.ssp585.r106i1p1f1.day.psl.gr.v20200412',\n",
    "#  'CMIP6.ScenarioMIP.EC-Earth-Consortium.EC-Earth3.ssp245.r15i1p1f2.day.psl.gr.v20201015',\n",
    "#  'CMIP6.ScenarioMIP.MIROC.MIROC6.ssp245.r12i1p1f1.day.pr.gn.v20200623',\n",
    "#  'CMIP6.ScenarioMIP.EC-Earth-Consortium.EC-Earth3.ssp585.r114i1p1f1.day.psl.gr.v20200412',\n",
    "#  'CMIP6.ScenarioMIP.MIROC.MIROC6.ssp245.r6i1p1f1.day.pr.gn.v20200623',\n",
    "#  'CMIP6.ScenarioMIP.EC-Earth-Consortium.EC-Earth3.ssp245.r25i1p1f2.day.pr.gr.v20201015',\n",
    "#  'CMIP6.ScenarioMIP.EC-Earth-Consortium.EC-Earth3.ssp585.r128i1p1f1.day.psl.gr.v20200412',\n",
    "#  'CMIP6.ScenarioMIP.EC-Earth-Consortium.EC-Earth3.ssp245.r12i1p1f2.day.sfcWind.gr.v20201015',\n",
    "#  'CMIP6.ScenarioMIP.MIROC.MIROC6.ssp245.r17i1p1f1.day.pr.gn.v20200623',\n",
    "#  'CMIP6.ScenarioMIP.EC-Earth-Consortium.EC-Earth3.ssp585.r147i1p1f1.day.psl.gr.v20200412',\n",
    "#  'CMIP6.ScenarioMIP.EC-Earth-Consortium.EC-Earth3.ssp245.r17i1p1f2.day.pr.gr.v20201015',\n",
    "#  'CMIP6.ScenarioMIP.EC-Earth-Consortium.EC-Earth3.ssp245.r27i1p1f2.day.pr.gr.v20201015',\n",
    "#  'CMIP6.ScenarioMIP.EC-Earth-Consortium.EC-Earth3.ssp245.r4i1p1f2.day.pr.gr.v20210407',\n",
    "#  'CMIP6.ScenarioMIP.EC-Earth-Consortium.EC-Earth3.ssp245.r21i1p1f2.day.psl.gr.v20201015',\n",
    "#  'CMIP6.ScenarioMIP.EC-Earth-Consortium.EC-Earth3.ssp585.r101i1p1f1.day.psl.gr.v20200412',\n",
    "#  'CMIP6.ScenarioMIP.EC-Earth-Consortium.EC-Earth3.ssp585.r130i1p1f1.day.psl.gr.v20200412',\n",
    "#  'CMIP6.ScenarioMIP.EC-Earth-Consortium.EC-Earth3.ssp245.r2i1p1f2.day.pr.gr.v20201015',\n",
    "#  'CMIP6.ScenarioMIP.EC-Earth-Consortium.EC-Earth3.ssp585.r150i1p1f1.day.psl.gr.v20200412',\n",
    "#  'CMIP6.ScenarioMIP.EC-Earth-Consortium.EC-Earth3.ssp245.r19i1p1f2.day.pr.gr.v20201015',\n",
    "#  'CMIP6.ScenarioMIP.EC-Earth-Consortium.EC-Earth3.ssp245.r17i1p1f2.day.psl.gr.v20201015',\n",
    "#  'CMIP6.ScenarioMIP.EC-Earth-Consortium.EC-Earth3.ssp585.r108i1p1f1.day.psl.gr.v20200412',\n",
    "#  'CMIP6.ScenarioMIP.EC-Earth-Consortium.EC-Earth3.ssp585.r144i1p1f1.day.psl.gr.v20200412',\n",
    "#  'CMIP6.ScenarioMIP.EC-Earth-Consortium.EC-Earth3.ssp245.r21i1p1f2.day.pr.gr.v20201015',\n",
    "#  'CMIP6.ScenarioMIP.EC-Earth-Consortium.EC-Earth3.ssp245.r25i1p1f2.day.sfcWind.gr.v20201015',\n",
    "#  'CMIP6.ScenarioMIP.EC-Earth-Consortium.EC-Earth3.ssp245.r10i1p1f2.day.psl.gr.v20210407',\n",
    "#  'CMIP6.ScenarioMIP.EC-Earth-Consortium.EC-Earth3.ssp585.r120i1p1f1.day.psl.gr.v20200412',\n",
    "#  'CMIP6.ScenarioMIP.EC-Earth-Consortium.EC-Earth3.ssp245.r19i1p1f2.day.psl.gr.v20201015',\n",
    "#  'CMIP6.ScenarioMIP.MRI.MRI-ESM2-0.ssp245.r5i3p1f1.day.pr.gn.v20201222',\n",
    "#  'CMIP6.ScenarioMIP.MIROC.MIROC6.ssp245.r5i1p1f1.day.pr.gn.v20200623',\n",
    "#  'CMIP6.ScenarioMIP.EC-Earth-Consortium.EC-Earth3.ssp585.r125i1p1f1.day.psl.gr.v20200412',\n",
    "#  'CMIP6.ScenarioMIP.MIROC.MIROC6.ssp245.r18i1p1f1.day.pr.gn.v20200623',\n",
    "#  'CMIP6.ScenarioMIP.EC-Earth-Consortium.EC-Earth3.ssp245.r29i1p1f2.day.sfcWind.gr.v20201015',\n",
    "#  'CMIP6.ScenarioMIP.EC-Earth-Consortium.EC-Earth3.ssp245.r28i1p1f2.day.pr.gr.v20210407',\n",
    "#  'CMIP6.ScenarioMIP.EC-Earth-Consortium.EC-Earth3.ssp245.r10i1p1f2.day.pr.gr.v20210407',\n",
    "#  'CMIP6.ScenarioMIP.EC-Earth-Consortium.EC-Earth3.ssp245.r1i1p1f2.day.sfcWind.gr.v20201015',\n",
    "#  'CMIP6.ScenarioMIP.EC-Earth-Consortium.EC-Earth3.ssp585.r112i1p1f1.day.psl.gr.v20200412',\n",
    "#  'CMIP6.ScenarioMIP.EC-Earth-Consortium.EC-Earth3.ssp245.r8i1p1f2.day.psl.gr.v20201015',\n",
    "#  'CMIP6.ScenarioMIP.EC-Earth-Consortium.EC-Earth3.ssp245.r30i1p1f2.day.pr.gr.v20201015',\n",
    "#  'CMIP6.ScenarioMIP.EC-Earth-Consortium.EC-Earth3.ssp245.r30i1p1f2.day.sfcWind.gr.v20201015',\n",
    "#  'CMIP6.ScenarioMIP.MIROC.MIROC6.ssp245.r10i1p1f1.day.pr.gn.v20200623',\n",
    "#  'CMIP6.ScenarioMIP.EC-Earth-Consortium.EC-Earth3.ssp585.r143i1p1f1.day.psl.gr.v20200412',\n",
    "#  'CMIP6.ScenarioMIP.EC-Earth-Consortium.EC-Earth3.ssp585.r139i1p1f1.day.psl.gr.v20200412',\n",
    "#  'CMIP6.ScenarioMIP.EC-Earth-Consortium.EC-Earth3.ssp245.r10i1p1f2.day.sfcWind.gr.v20210407',\n",
    "#  'CMIP6.ScenarioMIP.EC-Earth-Consortium.EC-Earth3.ssp245.r8i1p1f2.day.pr.gr.v20201015',\n",
    "#  'CMIP6.ScenarioMIP.EC-Earth-Consortium.EC-Earth3.ssp585.r137i1p1f1.day.psl.gr.v20200412',\n",
    "#  'CMIP6.ScenarioMIP.EC-Earth-Consortium.EC-Earth3.ssp245.r19i1p1f2.day.sfcWind.gr.v20201015',\n",
    "#  'CMIP6.ScenarioMIP.EC-Earth-Consortium.EC-Earth3.ssp245.r23i1p1f2.day.pr.gr.v20201015',\n",
    "#  'CMIP6.ScenarioMIP.EC-Earth-Consortium.EC-Earth3.ssp585.r140i1p1f1.day.psl.gr.v20200412', # fails with depenency issues? (only intermittent)\n",
    "#  'CMIP6.ScenarioMIP.EC-Earth-Consortium.EC-Earth3.ssp585.r148i1p1f1.day.psl.gr.v20200412',\n",
    "#  'CMIP6.ScenarioMIP.EC-Earth-Consortium.EC-Earth3.ssp245.r27i1p1f2.day.psl.gr.v20201015',\n",
    "#  'CMIP6.ScenarioMIP.EC-Earth-Consortium.EC-Earth3.ssp585.r119i1p1f1.day.psl.gr.v20200412',\n",
    "#  'CMIP6.ScenarioMIP.EC-Earth-Consortium.EC-Earth3.ssp585.r105i1p1f1.day.psl.gr.v20200412',\n",
    "#  'CMIP6.ScenarioMIP.MIROC.MIROC6.ssp245.r8i1p1f1.day.pr.gn.v20200623',\n",
    "#  'CMIP6.ScenarioMIP.EC-Earth-Consortium.EC-Earth3.ssp585.r116i1p1f1.day.psl.gr.v20200412',\n",
    "#  'CMIP6.ScenarioMIP.MIROC.MIROC6.ssp245.r11i1p1f1.day.pr.gn.v20200623',\n",
    "#  'CMIP6.ScenarioMIP.MIROC.MIROC6.ssp245.r15i1p1f1.day.pr.gn.v20200623',\n",
    "#  'CMIP6.ScenarioMIP.EC-Earth-Consortium.EC-Earth3.ssp245.r20i1p1f2.day.pr.gr.v20210407',\n",
    "#  'CMIP6.ScenarioMIP.EC-Earth-Consortium.EC-Earth3.ssp245.r22i1p1f2.day.pr.gr.v20210407',\n",
    "#  'CMIP6.ScenarioMIP.EC-Earth-Consortium.EC-Earth3.ssp585.r117i1p1f1.day.psl.gr.v20200412',\n",
    "#  'CMIP6.ScenarioMIP.EC-Earth-Consortium.EC-Earth3.ssp585.r107i1p1f1.day.psl.gr.v20200412',\n",
    "#  'CMIP6.ScenarioMIP.MRI.MRI-ESM2-0.ssp245.r3i3p1f1.day.pr.gn.v20201222',\n",
    "#  'CMIP6.ScenarioMIP.MIROC.MIROC6.ssp245.r16i1p1f1.day.pr.gn.v20200623',\n",
    "#  'CMIP6.CMIP.MRI.MRI-ESM2-0.historical.r4i1p1f1.day.pr.gn.v20190603',\n",
    "#  'CMIP6.CMIP.MRI.MRI-ESM2-0.historical.r5i1p1f1.day.pr.gn.v20190603',\n",
    "#  'CMIP6.CMIP.MRI.MRI-ESM2-0.historical.r2i1p1f1.day.pr.gn.v20190603',\n",
    " 'CMIP6.CMIP.MRI.MRI-ESM2-0.historical.r3i1p1f1.day.pr.gn.v20190603',\n",
    "       ]\n",
    "\n",
    "\n",
    "# iids = [\n",
    "#     # 'CMIP6.ScenarioMIP.MOHC.HadGEM3-GC31-MM.ssp585.r2i1p1f3.day.psl.gn.v20200515',\n",
    "#     # 'CMIP6.ScenarioMIP.MOHC.HadGEM3-GC31-MM.ssp585.r3i1p1f3.day.psl.gn.v20200507',\n",
    "#     # 'CMIP6.ScenarioMIP.EC-Earth-Consortium.EC-Earth3.ssp585.r140i1p1f1.day.psl.gr.v20200412', # fails with depenency issues?\n",
    "#     # 'CMIP6.CMIP.IPSL.IPSL-CM5A2-INCA.historical.r1i1p1f1.Omon.zmeso.gn.v20200729',\n",
    "# ]\n",
    "\n",
    "# ## Testing 'throwing mem at the problem'\n",
    "# high_mem_iids = [\n",
    "#     'CMIP6.CMIP.NCC.NorESM2-LM.historical.r1i1p1f1.Omon.umo.gn.v20190815',\n",
    "#     'CMIP6.CMIP.IPSL.IPSL-CM6A-LR.historical.r1i1p1f1.Omon.zmeso.gn.v20180803',\n",
    "# ]\n",
    "# iids = high_mem_iids\n",
    "# # I know these failed with high mem use :https://console.cloud.google.com/dataflow/jobs/us-central1/2023-03-29_16_00_29-11923246449479218691;graphView=0?project=leap-pangeo&authuser=2&pageState=(%22dfTime%22:(%22l%22:%22dfJobMaxTime%22))\n",
    "# # and https://console.cloud.google.com/dataflow/jobs/us-central1/2023-03-29_16_29_49-6440994980175925686;graphView=0?project=leap-pangeo&authuser=2&pageState=(%22dfTime%22:(%22l%22:%22dfJobMaxTime%22))\n",
    "# # lets see if these beast machines can solve this issue?\n",
    "# # maybe Ryans PR will alleviate this? It seems to do!\n",
    "\n",
    "my_env = os.environ.copy()\n",
    "my_env[\"GOOGLE_APPLICATION_CREDENTIALS\"] = \"/Users/juliusbusecke/Downloads/keys/leap-pangeo-dataflow_service_account.json\"\n",
    "\n",
    "def submit_job(repo, ref, f_name, iid, jobname, machine_type):\n",
    "    inject_dict = {\n",
    "        \"get_iid\": {\"iid\":iid}, \n",
    "        \"get_jobname\":{\"jobname\": jobname}\n",
    "    }\n",
    "\n",
    "    cmd = [\n",
    "        \"pangeo-forge-runner\",\n",
    "        \"bake\",\n",
    "        \"--repo\",\n",
    "        repo,\n",
    "        \"--ref\",\n",
    "        ref,\n",
    "        \"--json\",\n",
    "        \"-f\",\n",
    "        f_name,\n",
    "        \"--Bake.inject\",\n",
    "        json.dumps(inject_dict),\n",
    "        \"--Bake.job_name\",\n",
    "        jobname,\n",
    "        \"--DataflowBakery.machine_type\", # i hope this is just ignored in the local case?\n",
    "        machine_type,\n",
    "    ]\n",
    "\n",
    "    print(\"\\nSubmitting job...\")\n",
    "    print(f\"{' '.join(cmd)}\")\n",
    "    submit_proc = subprocess.run(cmd, capture_output=True, env=my_env)\n",
    "    return submit_proc\n",
    "\n",
    "\n",
    "\n",
    "for iid in iids:\n",
    "    print(f\"\"\"Submitting ({iid})\"\"\")\n",
    "    unique_iid = iid+'.'+''.join(random.choices(alphabet, k=8))\n",
    "    jobname=shorten_id(unique_iid)\n",
    "    # machine_type = \"e2-highmem-16\" # Ill have to experiment with that\n",
    "    # machine_type = \"e2-highmem-8\" # seems i had some other errors here...\n",
    "    # As far as I can see in the recent 'job metrics', we never go above 1 core. So we only need the beast machines for the larger models\n",
    "    # machine_type = \"e2-standard-2\"\n",
    "    machine_type = \"n2-highmem-2\"\n",
    "    # if iid in high_mem_iids:\n",
    "    #     machine_type = \"n2-highmem-16\"\n",
    "    # there are definitely some jobs failing with high mem useage. TODO: I need a way to override this for some of them...\n",
    "    \n",
    "    try:\n",
    "        submit_proc = submit_job(repo, ref, f_name, iid, jobname, machine_type)\n",
    "        assert submit_proc.returncode == 0\n",
    "        lastline = json.loads(submit_proc.stdout.decode().splitlines()[-1])\n",
    "        assert lastline[\"status\"] == \"submitted\"\n",
    "        job_id = lastline[\"job_id\"]\n",
    "        job_name = lastline[\"job_name\"]\n",
    "        \n",
    "        print(f\"Job submitted with {job_id = }\")\n",
    "        with open('submitted_iids.txt', 'a') as f:\n",
    "            f.write(iid+'\\n')\n",
    "    except Exception as err:\n",
    "        print(f'Submission FAILED with {err}')\n",
    "        print('STDOUT')\n",
    "        for line in submit_proc.stdout.decode().splitlines():\n",
    "            print(line)\n",
    "        print('STDERR')\n",
    "        for line in submit_proc.stderr.decode().splitlines():\n",
    "            print(line)"
   ]
  },
  {
   "cell_type": "code",
   "execution_count": 11,
   "id": "c8f40397",
   "metadata": {},
   "outputs": [
    {
     "name": "stdout",
     "output_type": "stream",
     "text": [
      "[Bake] WARNING | Config option `inject` not recognized by `Bake`.\n",
      "[Bake] WARNING | Config option `inject` not recognized by `Bake`.\n"
     ]
    }
   ],
   "source": [
    "for line in submit_proc.stderr.decode().splitlines():\n",
    "    print(line)"
   ]
  },
  {
   "cell_type": "code",
   "execution_count": 10,
   "id": "09284668",
   "metadata": {},
   "outputs": [
    {
     "data": {
      "text/plain": [
       "'[Bake] WARNING | Config option `inject` not recognized by `Bake`.'"
      ]
     },
     "execution_count": 10,
     "metadata": {},
     "output_type": "execute_result"
    }
   ],
   "source": [
    "line"
   ]
  },
  {
   "cell_type": "code",
   "execution_count": 7,
   "id": "4b581d3a",
   "metadata": {},
   "outputs": [
    {
     "data": {
      "text/plain": [
       "['{\"message\": \"Target Storage is FSSpecTarget(LocalFileSystem(, root_path=\\\\\"local_storage/cache/{job_name}\\\\\")\\\\n\", \"status\": \"setup\"}',\n",
       " '{\"message\": \"Input Cache Storage is CacheFSSpecTarget(LocalFileSystem(, root_path=\\\\\"local_storage/cache/{job_name}\\\\\")\\\\n\", \"status\": \"setup\"}',\n",
       " '{\"message\": \"Metadata Cache Storage is MetadataTarget(AbstractFileSystem(, root_path=\\\\\"\\\\\")\\\\n\", \"status\": \"setup\"}',\n",
       " '{\"message\": \"Picked Git content provider.\\\\n\", \"status\": \"fetching\"}',\n",
       " '{\"message\": \"Cloning into \\'/var/folders/_1/1k9jtjl51z333f21s7yht0340000gn/T/tmpngmbbcga\\'...\\\\n\", \"status\": \"fetching\"}',\n",
       " '{\"message\": \"HEAD is now at c83067c Remove jobname injection\\\\n\", \"status\": \"fetching\"}',\n",
       " '{\"message\": \"Parsing recipes...\", \"status\": \"running\"}',\n",
       " '{\"message\": \"Fetching urls from GCS for None\", \"status\": \"running\"}',\n",
       " '{\"message\": \"\\\\n\", \"status\": \"running\"}',\n",
       " '{\"message\": \"Error during running: b/leap-persistent/o/jbusecke%2Fcmip6urls%2FNone.json\", \"exc_info\": \"Traceback (most recent call last):\\\\n  File \\\\\"/Users/juliusbusecke/miniconda/envs/cmip6-leap-feedstock/bin/pangeo-forge-runner\\\\\", line 8, in <module>\\\\n    sys.exit(main())\\\\n  File \\\\\"/Users/juliusbusecke/miniconda/envs/cmip6-leap-feedstock/lib/python3.9/site-packages/pangeo_forge_runner/cli.py\\\\\", line 28, in main\\\\n    app.start()\\\\n  File \\\\\"/Users/juliusbusecke/miniconda/envs/cmip6-leap-feedstock/lib/python3.9/site-packages/pangeo_forge_runner/cli.py\\\\\", line 23, in start\\\\n    super().start()\\\\n  File \\\\\"/Users/juliusbusecke/miniconda/envs/cmip6-leap-feedstock/lib/python3.9/site-packages/traitlets/config/application.py\\\\\", line 473, in start\\\\n    return self.subapp.start()\\\\n  File \\\\\"/Users/juliusbusecke/miniconda/envs/cmip6-leap-feedstock/lib/python3.9/site-packages/pangeo_forge_runner/commands/bake.py\\\\\", line 188, in start\\\\n    recipes = feedstock.parse_recipes()\\\\n  File \\\\\"/Users/juliusbusecke/miniconda/envs/cmip6-leap-feedstock/lib/python3.9/site-packages/pangeo_forge_runner/feedstock.py\\\\\", line 81, in parse_recipes\\\\n    recipes[r[\\\\\"id\\\\\"]] = self._import(r[\\\\\"object\\\\\"])\\\\n  File \\\\\"/Users/juliusbusecke/miniconda/envs/cmip6-leap-feedstock/lib/python3.9/site-packages/pangeo_forge_runner/feedstock.py\\\\\", line 66, in _import\\\\n    exec(compile(source=rewritten_ast, filename=filename, mode=\\\\\"exec\\\\\"), ns)\\\\n  File \\\\\"/var/folders/_1/1k9jtjl51z333f21s7yht0340000gn/T/tmpngmbbcga/feedstock/recipe.py\\\\\", line 50, in <module>\\\\n  File \\\\\"/var/folders/_1/1k9jtjl51z333f21s7yht0340000gn/T/tmpngmbbcga/feedstock/recipe.py\\\\\", line 24, in urls_from_gcs\\\\n  File \\\\\"/Users/juliusbusecke/miniconda/envs/cmip6-leap-feedstock/lib/python3.9/site-packages/fsspec/spec.py\\\\\", line 1229, in open\\\\n    self.open(\\\\n  File \\\\\"/Users/juliusbusecke/miniconda/envs/cmip6-leap-feedstock/lib/python3.9/site-packages/fsspec/spec.py\\\\\", line 1241, in open\\\\n    f = self._open(\\\\n  File \\\\\"/Users/juliusbusecke/miniconda/envs/cmip6-leap-feedstock/lib/python3.9/site-packages/gcsfs/core.py\\\\\", line 1343, in _open\\\\n    return GCSFile(\\\\n  File \\\\\"/Users/juliusbusecke/miniconda/envs/cmip6-leap-feedstock/lib/python3.9/site-packages/gcsfs/core.py\\\\\", line 1502, in __init__\\\\n    super().__init__(\\\\n  File \\\\\"/Users/juliusbusecke/miniconda/envs/cmip6-leap-feedstock/lib/python3.9/site-packages/fsspec/spec.py\\\\\", line 1597, in __init__\\\\n    self.size = self.details[\\\\\"size\\\\\"]\\\\n  File \\\\\"/Users/juliusbusecke/miniconda/envs/cmip6-leap-feedstock/lib/python3.9/site-packages/gcsfs/core.py\\\\\", line 1538, in details\\\\n    self._details = self.fs.info(self.path, generation=self.generation)\\\\n  File \\\\\"/Users/juliusbusecke/miniconda/envs/cmip6-leap-feedstock/lib/python3.9/site-packages/fsspec/asyn.py\\\\\", line 121, in wrapper\\\\n    return sync(self.loop, func, *args, **kwargs)\\\\n  File \\\\\"/Users/juliusbusecke/miniconda/envs/cmip6-leap-feedstock/lib/python3.9/site-packages/fsspec/asyn.py\\\\\", line 106, in sync\\\\n    raise return_result\\\\n  File \\\\\"/Users/juliusbusecke/miniconda/envs/cmip6-leap-feedstock/lib/python3.9/site-packages/fsspec/asyn.py\\\\\", line 61, in _runner\\\\n    result[0] = await coro\\\\n  File \\\\\"/Users/juliusbusecke/miniconda/envs/cmip6-leap-feedstock/lib/python3.9/site-packages/gcsfs/core.py\\\\\", line 809, in _info\\\\n    out = await self._ls(path, **kwargs)\\\\n  File \\\\\"/Users/juliusbusecke/miniconda/envs/cmip6-leap-feedstock/lib/python3.9/site-packages/gcsfs/core.py\\\\\", line 846, in _ls\\\\n    for entry in await self._list_objects(\\\\n  File \\\\\"/Users/juliusbusecke/miniconda/envs/cmip6-leap-feedstock/lib/python3.9/site-packages/gcsfs/core.py\\\\\", line 561, in _list_objects\\\\n    return [await self._get_object(path)]\\\\n  File \\\\\"/Users/juliusbusecke/miniconda/envs/cmip6-leap-feedstock/lib/python3.9/site-packages/gcsfs/core.py\\\\\", line 503, in _get_object\\\\n    res = await self._call(\\\\n  File \\\\\"/Users/juliusbusecke/miniconda/envs/cmip6-leap-feedstock/lib/python3.9/site-packages/gcsfs/core.py\\\\\", line 430, in _call\\\\n    status, headers, info, contents = await self._request(\\\\n  File \\\\\"/Users/juliusbusecke/miniconda/envs/cmip6-leap-feedstock/lib/python3.9/site-packages/decorator.py\\\\\", line 221, in fun\\\\n    return await caller(func, *(extras + args), **kw)\\\\n  File \\\\\"/Users/juliusbusecke/miniconda/envs/cmip6-leap-feedstock/lib/python3.9/site-packages/gcsfs/retry.py\\\\\", line 114, in retry_request\\\\n    return await func(*args, **kwargs)\\\\n  File \\\\\"/Users/juliusbusecke/miniconda/envs/cmip6-leap-feedstock/lib/python3.9/site-packages/gcsfs/core.py\\\\\", line 423, in _request\\\\n    validate_response(status, contents, path, args)\\\\n  File \\\\\"/Users/juliusbusecke/miniconda/envs/cmip6-leap-feedstock/lib/python3.9/site-packages/gcsfs/retry.py\\\\\", line 83, in validate_response\\\\n    raise FileNotFoundError(path)\\\\nFileNotFoundError: b/leap-persistent/o/jbusecke%2Fcmip6urls%2FNone.json\", \"status\": \"failed\"}']"
      ]
     },
     "execution_count": 7,
     "metadata": {},
     "output_type": "execute_result"
    }
   ],
   "source": [
    "submit_proc.stdout.decode().splitlines()"
   ]
  },
  {
   "cell_type": "code",
   "execution_count": 6,
   "id": "e44b2562",
   "metadata": {},
   "outputs": [
    {
     "name": "stdout",
     "output_type": "stream",
     "text": [
      "\n",
      "Submitting job...\n"
     ]
    }
   ],
   "source": [
    "submit_proc = submit_job(repo, ref, f_name, iid, jobname, machine_type)"
   ]
  },
  {
   "cell_type": "code",
   "execution_count": 7,
   "id": "3dc74313",
   "metadata": {},
   "outputs": [
    {
     "data": {
      "text/plain": [
       "CompletedProcess(args=['pangeo-forge-runner', 'bake', '--repo', 'https://github.com/jbusecke/cmip6-leap-feedstock.git', '--ref', 'beam-dataflow-testing', '--json', '-f', 'config_local.json', '--Bake.inject', '{\"get_iid\": {\"iid\": \"CMIP6.CMIP.MRI.MRI-ESM2-0.historical.r3i1p1f1.day.pr.gn.v20190603\"}, \"get_jobname\": {\"jobname\": \"mri-esm2-0historicalr3i1p1f1dayprgnv20190603p9q2ookx\"}}', '--Bake.job_name', 'mri-esm2-0historicalr3i1p1f1dayprgnv20190603p9q2ookx', '--DataflowBakery.machine_type', 'n2-highmem-2'], returncode=1, stdout=b'', stderr=b'Traceback (most recent call last):\\n  File \"/Users/juliusbusecke/miniconda/envs/cmip6-leap-feedstock/bin/pangeo-forge-runner\", line 5, in <module>\\n    from pangeo_forge_runner.cli import main\\n  File \"/Users/juliusbusecke/miniconda/envs/cmip6-leap-feedstock/lib/python3.9/site-packages/pangeo_forge_runner/cli.py\", line 3, in <module>\\n    from .commands.bake import Bake\\n  File \"/Users/juliusbusecke/miniconda/envs/cmip6-leap-feedstock/lib/python3.9/site-packages/pangeo_forge_runner/commands/bake.py\", line 15, in <module>\\n    from ..storage import InputCacheStorage, MetadataCacheStorage, TargetStorage\\n  File \"/Users/juliusbusecke/miniconda/envs/cmip6-leap-feedstock/lib/python3.9/site-packages/pangeo_forge_runner/storage.py\", line 2, in <module>\\n    from pangeo_forge_recipes.storage import CacheFSSpecTarget, FSSpecTarget, MetadataTarget\\nImportError: cannot import name \\'MetadataTarget\\' from \\'pangeo_forge_recipes.storage\\' (/Users/juliusbusecke/miniconda/envs/cmip6-leap-feedstock/lib/python3.9/site-packages/pangeo_forge_recipes/storage.py)\\n')"
      ]
     },
     "execution_count": 7,
     "metadata": {},
     "output_type": "execute_result"
    }
   ],
   "source": [
    "submit_proc"
   ]
  },
  {
   "cell_type": "code",
   "execution_count": 6,
   "id": "824c37b8-76f5-4fcb-af44-0175786d9f17",
   "metadata": {
    "tags": []
   },
   "outputs": [
    {
     "data": {
      "text/plain": [
       "129"
      ]
     },
     "execution_count": 6,
     "metadata": {},
     "output_type": "execute_result"
    }
   ],
   "source": [
    "len(iids)"
   ]
  },
  {
   "cell_type": "code",
   "execution_count": 7,
   "id": "a1523943-7fae-475c-b1b9-e641617d0509",
   "metadata": {},
   "outputs": [],
   "source": [
    "# for line in submit_proc.stderr.decode().splitlines():\n",
    "#     # print(json.loads(line)['message'])\n",
    "#     print(line)"
   ]
  },
  {
   "cell_type": "code",
   "execution_count": 8,
   "id": "24f99c42-3253-4d67-82fe-9a9fb81955ec",
   "metadata": {},
   "outputs": [],
   "source": [
    "# err"
   ]
  },
  {
   "cell_type": "code",
   "execution_count": null,
   "id": "9ef32ac2-93d8-4f89-aafa-32202caf62fd",
   "metadata": {},
   "outputs": [],
   "source": []
  }
 ],
 "metadata": {
  "kernelspec": {
   "display_name": "Python 3 (ipykernel)",
   "language": "python",
   "name": "python3"
  },
  "language_info": {
   "codemirror_mode": {
    "name": "ipython",
    "version": 3
   },
   "file_extension": ".py",
   "mimetype": "text/x-python",
   "name": "python",
   "nbconvert_exporter": "python",
   "pygments_lexer": "ipython3",
   "version": "3.9.16"
  }
 },
 "nbformat": 4,
 "nbformat_minor": 5
}
