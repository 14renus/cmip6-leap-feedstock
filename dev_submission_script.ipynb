{
 "cells": [
  {
   "cell_type": "code",
   "execution_count": 1,
   "id": "c1289bf7-f6dc-46f3-a289-56c35582a82c",
   "metadata": {
    "tags": []
   },
   "outputs": [],
   "source": [
    "# # # the dependencies here are a mess, I would love to have these all in the environment.yml file, but I don't know how to pass the \"--no-deps\" flag to pip install from the environment.yml file.\n",
    "# !pip uninstall -y apache-beam\n",
    "# !pip install pip install 'apache-beam[gcp]'\n",
    "\n",
    "# !pip uninstall -y pangeo-forge-runner pangeo-forge-recipes\n",
    "\n",
    "# # !pip install git+https://github.com/pangeo-forge/pangeo-forge-runner.git@arbitrary-injections --no-deps #TODO: this one needs to be rebased on current main\n",
    "# !pip install git+https://github.com/pangeo-forge/pangeo-forge-runner.git@main --no-deps #i have deactivated the injection code for now\n",
    "# !pip install git+https://github.com/jbusecke/pangeo-forge-recipes.git@dynamic_chunks_2 --no-deps\n",
    "# !pip install ruamel.yaml --no-deps\n"
   ]
  },
  {
   "cell_type": "code",
   "execution_count": 2,
   "id": "5bf5ca6b",
   "metadata": {},
   "outputs": [],
   "source": [
    "# # test bigquery logic (WTF? Why is this working in the other notebook but not here)\n",
    "# from feedstock.recipe import urls_from_bq\n",
    "# urls_from_bq('CMIP6.CMIP.MRI.MRI-ESM2-0.historical.r3i1p1f1.day.pr.gn.v20190603')"
   ]
  },
  {
   "cell_type": "code",
   "execution_count": 3,
   "id": "11aa5ad1-46f1-4be8-95e2-a846221dffd8",
   "metadata": {
    "tags": []
   },
   "outputs": [],
   "source": [
    "# global input args\n",
    "repo = \"https://github.com/jbusecke/cmip6-leap-feedstock.git\"\n",
    "ref = \"beam-dataflow-testing\"\n",
    "# f_name = \"config.json\"\n",
    "# test locally \n",
    "f_name = \"config_local.json\""
   ]
  },
  {
   "cell_type": "code",
   "execution_count": 4,
   "id": "b67b1ebd-b94e-40cb-b745-4b77c31796df",
   "metadata": {
    "tags": []
   },
   "outputs": [],
   "source": [
    "def shorten_id(iid):\n",
    "    iid_stripped = ''.join(iid.lower().split('.')[3:])\n",
    "    assert len(iid_stripped)<66\n",
    "    return iid_stripped"
   ]
  },
  {
   "cell_type": "code",
   "execution_count": 5,
   "id": "5eaedba8-3d55-4ce7-94da-4e781dc1673b",
   "metadata": {
    "tags": []
   },
   "outputs": [
    {
     "name": "stdout",
     "output_type": "stream",
     "text": [
      "Submitting (CMIP6.CMIP.MRI.MRI-ESM2-0.historical.r3i1p1f1.day.pr.gn.v20190603)\n",
      "\n",
      "Current environment:\n",
      "\n",
      "Submitting job...\n",
      "pangeo-forge-runner bake --repo https://github.com/jbusecke/cmip6-leap-feedstock.git --ref beam-dataflow-testing --json -f config_local.json --Bake.inject {\"get_iid\": {\"iid\": \"CMIP6.CMIP.MRI.MRI-ESM2-0.historical.r3i1p1f1.day.pr.gn.v20190603\"}, \"get_jobname\": {\"jobname\": \"mri-esm2-0historicalr3i1p1f1dayprgnv20190603dobfxmp7\"}} --Bake.job_name mri-esm2-0historicalr3i1p1f1dayprgnv20190603dobfxmp7 --DataflowBakery.machine_type n2-highmem-2\n"
     ]
    }
   ],
   "source": [
    "# from the integration tests of pangeo-forge-runner\n",
    "#https://github.com/pangeo-forge/pangeo-forge-runner/blob/main/tests/integration/test_dataflow_integration.py\n",
    "\n",
    "import subprocess\n",
    "import os\n",
    "import time\n",
    "import xarray as xr\n",
    "import json\n",
    "import random\n",
    "import string\n",
    "\n",
    "# using randomchoice due to this https://stackoverflow.com/questions/13484726/safe-enough-8-character-short-unique-random-string\n",
    "alphabet = string.ascii_lowercase + string.digits\n",
    "\n",
    "# # check written stores (should this just be\n",
    "# iids = []\n",
    "# with open('iids.txt') as f:\n",
    "#     for line in f:\n",
    "#         if not '#' in line:\n",
    "#             iids.append(str(line).replace(\" \", \"\").replace(\"',\\n\", \"\").replace(\"'\",\"\")) # FIXME: This seems ugly haha\n",
    "# print(iids)\n",
    "\n",
    "# iids = [\n",
    "#     'CMIP6.CMIP.IPSL.IPSL-CM6A-LR.historical.r1i1p1f1.Omon.zmeso.gn.v20180803',\n",
    "#     # 'CMIP6.ScenarioMIP.MRI.MRI-ESM2-0.ssp585.r5i1p1f1.day.sfcWind.gn.v20210907'\n",
    "# ]\n",
    "\n",
    "# tims full request (minus the miroc ones that were not available\n",
    "\n",
    "# ec-earth3ssp585r140i1p1f1daypslgrv2020041\n",
    "\n",
    "iids = [\n",
    "#     'CMIP6.ScenarioMIP.EC-Earth-Consortium.EC-Earth3.ssp245.r17i1p1f2.day.sfcWind.gr.v20201015',\n",
    "#  'CMIP6.ScenarioMIP.MRI.MRI-ESM2-0.ssp245.r2i3p1f1.day.pr.gn.v20201222',\n",
    "#  'CMIP6.ScenarioMIP.EC-Earth-Consortium.EC-Earth3.ssp245.r25i1p1f2.day.psl.gr.v20201015',\n",
    "#  'CMIP6.ScenarioMIP.EC-Earth-Consortium.EC-Earth3.ssp585.r127i1p1f1.day.psl.gr.v20200412',\n",
    "#  'CMIP6.ScenarioMIP.EC-Earth-Consortium.EC-Earth3.ssp585.r138i1p1f1.day.psl.gr.v20200412',\n",
    "#  'CMIP6.ScenarioMIP.EC-Earth-Consortium.EC-Earth3.ssp245.r15i1p1f2.day.sfcWind.gr.v20201015',\n",
    "#  'CMIP6.ScenarioMIP.EC-Earth-Consortium.EC-Earth3.ssp585.r134i1p1f1.day.psl.gr.v20200412',\n",
    "#  'CMIP6.ScenarioMIP.EC-Earth-Consortium.EC-Earth3.ssp585.r110i1p1f1.day.psl.gr.v20200412',\n",
    "#  'CMIP6.ScenarioMIP.MRI.MRI-ESM2-0.ssp245.r1i3p1f1.day.pr.gn.v20201222',\n",
    "#  'CMIP6.ScenarioMIP.MRI.MRI-ESM2-0.ssp245.r4i3p1f1.day.pr.gn.v20201222',\n",
    "#  'CMIP6.ScenarioMIP.EC-Earth-Consortium.EC-Earth3.ssp245.r27i1p1f2.day.sfcWind.gr.v20201015',\n",
    "#  'CMIP6.ScenarioMIP.EC-Earth-Consortium.EC-Earth3.ssp585.r103i1p1f1.day.psl.gr.v20200412',\n",
    "#  'CMIP6.ScenarioMIP.EC-Earth-Consortium.EC-Earth3.ssp245.r1i1p1f2.day.pr.gr.v20201015',\n",
    "#  'CMIP6.ScenarioMIP.EC-Earth-Consortium.EC-Earth3.ssp585.r142i1p1f1.day.psl.gr.v20200412',\n",
    "#  'CMIP6.ScenarioMIP.EC-Earth-Consortium.EC-Earth3.ssp585.r124i1p1f1.day.psl.gr.v20200412',\n",
    "#  'CMIP6.ScenarioMIP.EC-Earth-Consortium.EC-Earth3.ssp245.r29i1p1f2.day.psl.gr.v20201015',\n",
    "#  'CMIP6.ScenarioMIP.EC-Earth-Consortium.EC-Earth3.ssp245.r7i1p1f2.day.pr.gr.v20210218',\n",
    "#  'CMIP6.ScenarioMIP.EC-Earth-Consortium.EC-Earth3.ssp245.r2i1p1f2.day.sfcWind.gr.v20201015',\n",
    "#  'CMIP6.ScenarioMIP.MIROC.MIROC6.ssp245.r4i1p1f1.day.pr.gn.v20200623',\n",
    "#  'CMIP6.ScenarioMIP.EC-Earth-Consortium.EC-Earth3.ssp245.r15i1p1f2.day.pr.gr.v20201015',\n",
    "#  'CMIP6.ScenarioMIP.EC-Earth-Consortium.EC-Earth3.ssp585.r111i1p1f1.day.psl.gr.v20200412',\n",
    "#  'CMIP6.ScenarioMIP.EC-Earth-Consortium.EC-Earth3.ssp585.r126i1p1f1.day.psl.gr.v20200412',\n",
    "#  'CMIP6.ScenarioMIP.EC-Earth-Consortium.EC-Earth3.ssp585.r136i1p1f1.day.psl.gr.v20200412',\n",
    "#  'CMIP6.ScenarioMIP.MIROC.MIROC6.ssp245.r20i1p1f1.day.pr.gn.v20200623',\n",
    "#  'CMIP6.ScenarioMIP.EC-Earth-Consortium.EC-Earth3.ssp585.r122i1p1f1.day.psl.gr.v20200412',\n",
    "#  'CMIP6.ScenarioMIP.EC-Earth-Consortium.EC-Earth3.ssp585.r131i1p1f1.day.psl.gr.v20200412',\n",
    "#  'CMIP6.ScenarioMIP.EC-Earth-Consortium.EC-Earth3.ssp245.r7i1p1f2.day.sfcWind.gr.v20210218',\n",
    "#  'CMIP6.ScenarioMIP.EC-Earth-Consortium.EC-Earth3.ssp245.r24i1p1f2.day.pr.gr.v20210407',\n",
    "#  'CMIP6.ScenarioMIP.EC-Earth-Consortium.EC-Earth3.ssp245.r1i1p1f2.day.psl.gr.v20201015',\n",
    "#  'CMIP6.ScenarioMIP.EC-Earth-Consortium.EC-Earth3.ssp585.r133i1p1f1.day.psl.gr.v20200412',\n",
    "#  'CMIP6.ScenarioMIP.MIROC.MIROC6.ssp245.r13i1p1f1.day.pr.gn.v20200623',\n",
    "#  'CMIP6.ScenarioMIP.EC-Earth-Consortium.EC-Earth3.ssp585.r141i1p1f1.day.psl.gr.v20200412',\n",
    "#  'CMIP6.ScenarioMIP.MIROC.MIROC6.ssp245.r19i1p1f1.day.pr.gn.v20200623',\n",
    "#  'CMIP6.ScenarioMIP.EC-Earth-Consortium.EC-Earth3.ssp245.r30i1p1f2.day.psl.gr.v20201015',\n",
    "#  'CMIP6.ScenarioMIP.EC-Earth-Consortium.EC-Earth3.ssp245.r18i1p1f2.day.pr.gr.v20210407',\n",
    "#  'CMIP6.ScenarioMIP.EC-Earth-Consortium.EC-Earth3.ssp585.r123i1p1f1.day.psl.gr.v20200412',\n",
    "#  'CMIP6.ScenarioMIP.EC-Earth-Consortium.EC-Earth3.ssp245.r8i1p1f2.day.sfcWind.gr.v20201015',\n",
    "#  'CMIP6.ScenarioMIP.EC-Earth-Consortium.EC-Earth3.ssp585.r121i1p1f1.day.psl.gr.v20200412',\n",
    "#  'CMIP6.ScenarioMIP.EC-Earth-Consortium.EC-Earth3.ssp245.r23i1p1f2.day.sfcWind.gr.v20201015',\n",
    "#  'CMIP6.ScenarioMIP.EC-Earth-Consortium.EC-Earth3.ssp585.r146i1p1f1.day.psl.gr.v20200412',\n",
    "#  'CMIP6.ScenarioMIP.EC-Earth-Consortium.EC-Earth3.ssp245.r16i1p1f2.day.pr.gr.v20210407',\n",
    "#  'CMIP6.ScenarioMIP.EC-Earth-Consortium.EC-Earth3.ssp245.r2i1p1f2.day.psl.gr.v20201015',\n",
    "#  'CMIP6.ScenarioMIP.EC-Earth-Consortium.EC-Earth3.ssp585.r149i1p1f1.day.psl.gr.v20200412',\n",
    "#  'CMIP6.ScenarioMIP.EC-Earth-Consortium.EC-Earth3.ssp245.r23i1p1f1.day.psl.gr.v20200407',\n",
    "#  'CMIP6.ScenarioMIP.EC-Earth-Consortium.EC-Earth3.ssp585.r145i1p1f1.day.psl.gr.v20200412',\n",
    "#  'CMIP6.ScenarioMIP.EC-Earth-Consortium.EC-Earth3.ssp245.r29i1p1f2.day.pr.gr.v20201015',\n",
    "#  'CMIP6.ScenarioMIP.MOHC.HadGEM3-GC31-MM.ssp585.r2i1p1f3.day.psl.gn.v20200515',\n",
    "#  'CMIP6.ScenarioMIP.EC-Earth-Consortium.EC-Earth3.ssp245.r12i1p1f2.day.pr.gr.v20201015',\n",
    "#  'CMIP6.ScenarioMIP.EC-Earth-Consortium.EC-Earth3.ssp245.r23i1p1f2.day.psl.gr.v20201015',\n",
    "#  'CMIP6.ScenarioMIP.MIROC.MIROC6.ssp245.r7i1p1f1.day.pr.gn.v20200623',\n",
    "#  'CMIP6.ScenarioMIP.EC-Earth-Consortium.EC-Earth3.ssp245.r7i1p1f2.day.psl.gr.v20210218',\n",
    "#  'CMIP6.ScenarioMIP.MIROC.MIROC6.ssp245.r14i1p1f1.day.pr.gn.v20200623',\n",
    "#  'CMIP6.ScenarioMIP.EC-Earth-Consortium.EC-Earth3.ssp585.r132i1p1f1.day.psl.gr.v20200412',\n",
    "#  'CMIP6.ScenarioMIP.MIROC.MIROC6.ssp245.r9i1p1f1.day.pr.gn.v20200623',\n",
    "#  'CMIP6.ScenarioMIP.EC-Earth-Consortium.EC-Earth3.ssp585.r118i1p1f1.day.psl.gr.v20200412',\n",
    "#  'CMIP6.ScenarioMIP.EC-Earth-Consortium.EC-Earth3.ssp245.r21i1p1f2.day.sfcWind.gr.v20201015',\n",
    "#  'CMIP6.ScenarioMIP.EC-Earth-Consortium.EC-Earth3.ssp245.r13i1p1f2.day.pr.gr.v20210407',\n",
    "#  'CMIP6.ScenarioMIP.EC-Earth-Consortium.EC-Earth3.ssp585.r115i1p1f1.day.psl.gr.v20200412',\n",
    "#  'CMIP6.ScenarioMIP.EC-Earth-Consortium.EC-Earth3.ssp245.r26i1p1f2.day.pr.gr.v20210407',\n",
    "#  'CMIP6.ScenarioMIP.EC-Earth-Consortium.EC-Earth3.ssp585.r129i1p1f1.day.psl.gr.v20200412',\n",
    "#  'CMIP6.ScenarioMIP.EC-Earth-Consortium.EC-Earth3.ssp245.r6i1p1f2.day.sfcWind.gr.v20210517',\n",
    "#  'CMIP6.ScenarioMIP.EC-Earth-Consortium.EC-Earth3.ssp245.r12i1p1f2.day.psl.gr.v20201015',\n",
    "#  'CMIP6.ScenarioMIP.EC-Earth-Consortium.EC-Earth3.ssp585.r113i1p1f1.day.psl.gr.v20200412',\n",
    "#  'CMIP6.ScenarioMIP.EC-Earth-Consortium.EC-Earth3.ssp585.r106i1p1f1.day.psl.gr.v20200412',\n",
    "#  'CMIP6.ScenarioMIP.EC-Earth-Consortium.EC-Earth3.ssp245.r15i1p1f2.day.psl.gr.v20201015',\n",
    "#  'CMIP6.ScenarioMIP.MIROC.MIROC6.ssp245.r12i1p1f1.day.pr.gn.v20200623',\n",
    "#  'CMIP6.ScenarioMIP.EC-Earth-Consortium.EC-Earth3.ssp585.r114i1p1f1.day.psl.gr.v20200412',\n",
    "#  'CMIP6.ScenarioMIP.MIROC.MIROC6.ssp245.r6i1p1f1.day.pr.gn.v20200623',\n",
    "#  'CMIP6.ScenarioMIP.EC-Earth-Consortium.EC-Earth3.ssp245.r25i1p1f2.day.pr.gr.v20201015',\n",
    "#  'CMIP6.ScenarioMIP.EC-Earth-Consortium.EC-Earth3.ssp585.r128i1p1f1.day.psl.gr.v20200412',\n",
    "#  'CMIP6.ScenarioMIP.EC-Earth-Consortium.EC-Earth3.ssp245.r12i1p1f2.day.sfcWind.gr.v20201015',\n",
    "#  'CMIP6.ScenarioMIP.MIROC.MIROC6.ssp245.r17i1p1f1.day.pr.gn.v20200623',\n",
    "#  'CMIP6.ScenarioMIP.EC-Earth-Consortium.EC-Earth3.ssp585.r147i1p1f1.day.psl.gr.v20200412',\n",
    "#  'CMIP6.ScenarioMIP.EC-Earth-Consortium.EC-Earth3.ssp245.r17i1p1f2.day.pr.gr.v20201015',\n",
    "#  'CMIP6.ScenarioMIP.EC-Earth-Consortium.EC-Earth3.ssp245.r27i1p1f2.day.pr.gr.v20201015',\n",
    "#  'CMIP6.ScenarioMIP.EC-Earth-Consortium.EC-Earth3.ssp245.r4i1p1f2.day.pr.gr.v20210407',\n",
    "#  'CMIP6.ScenarioMIP.EC-Earth-Consortium.EC-Earth3.ssp245.r21i1p1f2.day.psl.gr.v20201015',\n",
    "#  'CMIP6.ScenarioMIP.EC-Earth-Consortium.EC-Earth3.ssp585.r101i1p1f1.day.psl.gr.v20200412',\n",
    "#  'CMIP6.ScenarioMIP.EC-Earth-Consortium.EC-Earth3.ssp585.r130i1p1f1.day.psl.gr.v20200412',\n",
    "#  'CMIP6.ScenarioMIP.EC-Earth-Consortium.EC-Earth3.ssp245.r2i1p1f2.day.pr.gr.v20201015',\n",
    "#  'CMIP6.ScenarioMIP.EC-Earth-Consortium.EC-Earth3.ssp585.r150i1p1f1.day.psl.gr.v20200412',\n",
    "#  'CMIP6.ScenarioMIP.EC-Earth-Consortium.EC-Earth3.ssp245.r19i1p1f2.day.pr.gr.v20201015',\n",
    "#  'CMIP6.ScenarioMIP.EC-Earth-Consortium.EC-Earth3.ssp245.r17i1p1f2.day.psl.gr.v20201015',\n",
    "#  'CMIP6.ScenarioMIP.EC-Earth-Consortium.EC-Earth3.ssp585.r108i1p1f1.day.psl.gr.v20200412',\n",
    "#  'CMIP6.ScenarioMIP.EC-Earth-Consortium.EC-Earth3.ssp585.r144i1p1f1.day.psl.gr.v20200412',\n",
    "#  'CMIP6.ScenarioMIP.EC-Earth-Consortium.EC-Earth3.ssp245.r21i1p1f2.day.pr.gr.v20201015',\n",
    "#  'CMIP6.ScenarioMIP.EC-Earth-Consortium.EC-Earth3.ssp245.r25i1p1f2.day.sfcWind.gr.v20201015',\n",
    "#  'CMIP6.ScenarioMIP.EC-Earth-Consortium.EC-Earth3.ssp245.r10i1p1f2.day.psl.gr.v20210407',\n",
    "#  'CMIP6.ScenarioMIP.EC-Earth-Consortium.EC-Earth3.ssp585.r120i1p1f1.day.psl.gr.v20200412',\n",
    "#  'CMIP6.ScenarioMIP.EC-Earth-Consortium.EC-Earth3.ssp245.r19i1p1f2.day.psl.gr.v20201015',\n",
    "#  'CMIP6.ScenarioMIP.MRI.MRI-ESM2-0.ssp245.r5i3p1f1.day.pr.gn.v20201222',\n",
    "#  'CMIP6.ScenarioMIP.MIROC.MIROC6.ssp245.r5i1p1f1.day.pr.gn.v20200623',\n",
    "#  'CMIP6.ScenarioMIP.EC-Earth-Consortium.EC-Earth3.ssp585.r125i1p1f1.day.psl.gr.v20200412',\n",
    "#  'CMIP6.ScenarioMIP.MIROC.MIROC6.ssp245.r18i1p1f1.day.pr.gn.v20200623',\n",
    "#  'CMIP6.ScenarioMIP.EC-Earth-Consortium.EC-Earth3.ssp245.r29i1p1f2.day.sfcWind.gr.v20201015',\n",
    "#  'CMIP6.ScenarioMIP.EC-Earth-Consortium.EC-Earth3.ssp245.r28i1p1f2.day.pr.gr.v20210407',\n",
    "#  'CMIP6.ScenarioMIP.EC-Earth-Consortium.EC-Earth3.ssp245.r10i1p1f2.day.pr.gr.v20210407',\n",
    "#  'CMIP6.ScenarioMIP.EC-Earth-Consortium.EC-Earth3.ssp245.r1i1p1f2.day.sfcWind.gr.v20201015',\n",
    "#  'CMIP6.ScenarioMIP.EC-Earth-Consortium.EC-Earth3.ssp585.r112i1p1f1.day.psl.gr.v20200412',\n",
    "#  'CMIP6.ScenarioMIP.EC-Earth-Consortium.EC-Earth3.ssp245.r8i1p1f2.day.psl.gr.v20201015',\n",
    "#  'CMIP6.ScenarioMIP.EC-Earth-Consortium.EC-Earth3.ssp245.r30i1p1f2.day.pr.gr.v20201015',\n",
    "#  'CMIP6.ScenarioMIP.EC-Earth-Consortium.EC-Earth3.ssp245.r30i1p1f2.day.sfcWind.gr.v20201015',\n",
    "#  'CMIP6.ScenarioMIP.MIROC.MIROC6.ssp245.r10i1p1f1.day.pr.gn.v20200623',\n",
    "#  'CMIP6.ScenarioMIP.EC-Earth-Consortium.EC-Earth3.ssp585.r143i1p1f1.day.psl.gr.v20200412',\n",
    "#  'CMIP6.ScenarioMIP.EC-Earth-Consortium.EC-Earth3.ssp585.r139i1p1f1.day.psl.gr.v20200412',\n",
    "#  'CMIP6.ScenarioMIP.EC-Earth-Consortium.EC-Earth3.ssp245.r10i1p1f2.day.sfcWind.gr.v20210407',\n",
    "#  'CMIP6.ScenarioMIP.EC-Earth-Consortium.EC-Earth3.ssp245.r8i1p1f2.day.pr.gr.v20201015',\n",
    "#  'CMIP6.ScenarioMIP.EC-Earth-Consortium.EC-Earth3.ssp585.r137i1p1f1.day.psl.gr.v20200412',\n",
    "#  'CMIP6.ScenarioMIP.EC-Earth-Consortium.EC-Earth3.ssp245.r19i1p1f2.day.sfcWind.gr.v20201015',\n",
    "#  'CMIP6.ScenarioMIP.EC-Earth-Consortium.EC-Earth3.ssp245.r23i1p1f2.day.pr.gr.v20201015',\n",
    "#  'CMIP6.ScenarioMIP.EC-Earth-Consortium.EC-Earth3.ssp585.r140i1p1f1.day.psl.gr.v20200412', # fails with depenency issues? (only intermittent)\n",
    "#  'CMIP6.ScenarioMIP.EC-Earth-Consortium.EC-Earth3.ssp585.r148i1p1f1.day.psl.gr.v20200412',\n",
    "#  'CMIP6.ScenarioMIP.EC-Earth-Consortium.EC-Earth3.ssp245.r27i1p1f2.day.psl.gr.v20201015',\n",
    "#  'CMIP6.ScenarioMIP.EC-Earth-Consortium.EC-Earth3.ssp585.r119i1p1f1.day.psl.gr.v20200412',\n",
    "#  'CMIP6.ScenarioMIP.EC-Earth-Consortium.EC-Earth3.ssp585.r105i1p1f1.day.psl.gr.v20200412',\n",
    "#  'CMIP6.ScenarioMIP.MIROC.MIROC6.ssp245.r8i1p1f1.day.pr.gn.v20200623',\n",
    "#  'CMIP6.ScenarioMIP.EC-Earth-Consortium.EC-Earth3.ssp585.r116i1p1f1.day.psl.gr.v20200412',\n",
    "#  'CMIP6.ScenarioMIP.MIROC.MIROC6.ssp245.r11i1p1f1.day.pr.gn.v20200623',\n",
    "#  'CMIP6.ScenarioMIP.MIROC.MIROC6.ssp245.r15i1p1f1.day.pr.gn.v20200623',\n",
    "#  'CMIP6.ScenarioMIP.EC-Earth-Consortium.EC-Earth3.ssp245.r20i1p1f2.day.pr.gr.v20210407',\n",
    "#  'CMIP6.ScenarioMIP.EC-Earth-Consortium.EC-Earth3.ssp245.r22i1p1f2.day.pr.gr.v20210407',\n",
    "#  'CMIP6.ScenarioMIP.EC-Earth-Consortium.EC-Earth3.ssp585.r117i1p1f1.day.psl.gr.v20200412',\n",
    "#  'CMIP6.ScenarioMIP.EC-Earth-Consortium.EC-Earth3.ssp585.r107i1p1f1.day.psl.gr.v20200412',\n",
    "#  'CMIP6.ScenarioMIP.MRI.MRI-ESM2-0.ssp245.r3i3p1f1.day.pr.gn.v20201222',\n",
    "#  'CMIP6.ScenarioMIP.MIROC.MIROC6.ssp245.r16i1p1f1.day.pr.gn.v20200623',\n",
    "#  'CMIP6.CMIP.MRI.MRI-ESM2-0.historical.r4i1p1f1.day.pr.gn.v20190603',\n",
    "#  'CMIP6.CMIP.MRI.MRI-ESM2-0.historical.r5i1p1f1.day.pr.gn.v20190603',\n",
    "#  'CMIP6.CMIP.MRI.MRI-ESM2-0.historical.r2i1p1f1.day.pr.gn.v20190603',\n",
    " 'CMIP6.CMIP.MRI.MRI-ESM2-0.historical.r3i1p1f1.day.pr.gn.v20190603',\n",
    "       ]\n",
    "\n",
    "\n",
    "# iids = [\n",
    "#     # 'CMIP6.ScenarioMIP.MOHC.HadGEM3-GC31-MM.ssp585.r2i1p1f3.day.psl.gn.v20200515',\n",
    "#     # 'CMIP6.ScenarioMIP.MOHC.HadGEM3-GC31-MM.ssp585.r3i1p1f3.day.psl.gn.v20200507',\n",
    "#     # 'CMIP6.ScenarioMIP.EC-Earth-Consortium.EC-Earth3.ssp585.r140i1p1f1.day.psl.gr.v20200412', # fails with depenency issues?\n",
    "#     # 'CMIP6.CMIP.IPSL.IPSL-CM5A2-INCA.historical.r1i1p1f1.Omon.zmeso.gn.v20200729',\n",
    "# ]\n",
    "\n",
    "# ## Testing 'throwing mem at the problem'\n",
    "# high_mem_iids = [\n",
    "#     'CMIP6.CMIP.NCC.NorESM2-LM.historical.r1i1p1f1.Omon.umo.gn.v20190815',\n",
    "#     'CMIP6.CMIP.IPSL.IPSL-CM6A-LR.historical.r1i1p1f1.Omon.zmeso.gn.v20180803',\n",
    "# ]\n",
    "# iids = high_mem_iids\n",
    "# # I know these failed with high mem use :https://console.cloud.google.com/dataflow/jobs/us-central1/2023-03-29_16_00_29-11923246449479218691;graphView=0?project=leap-pangeo&authuser=2&pageState=(%22dfTime%22:(%22l%22:%22dfJobMaxTime%22))\n",
    "# # and https://console.cloud.google.com/dataflow/jobs/us-central1/2023-03-29_16_29_49-6440994980175925686;graphView=0?project=leap-pangeo&authuser=2&pageState=(%22dfTime%22:(%22l%22:%22dfJobMaxTime%22))\n",
    "# # lets see if these beast machines can solve this issue?\n",
    "# # maybe Ryans PR will alleviate this? It seems to do!\n",
    "\n",
    "my_env = os.environ.copy()\n",
    "my_env[\"GOOGLE_APPLICATION_CREDENTIALS\"] = \"/Users/juliusbusecke/Downloads/keys/leap-pangeo-dataflow_service_account.json\"\n",
    "\n",
    "def submit_job(repo, ref, f_name, iid, jobname, machine_type):\n",
    "    inject_dict = {\n",
    "        \"get_iid\": {\"iid\":iid}, \n",
    "        \"get_jobname\":{\"jobname\": jobname}\n",
    "    }\n",
    "\n",
    "    cmd = [\n",
    "        \"pangeo-forge-runner\",\n",
    "        \"bake\",\n",
    "        \"--repo\",\n",
    "        repo,\n",
    "        \"--ref\",\n",
    "        ref,\n",
    "        \"--json\",\n",
    "        \"-f\",\n",
    "        f_name,\n",
    "        \"--Bake.inject\",\n",
    "        json.dumps(inject_dict),\n",
    "        \"--Bake.job_name\",\n",
    "        jobname,\n",
    "        \"--DataflowBakery.machine_type\", # i hope this is just ignored in the local case?\n",
    "        machine_type,\n",
    "    ]\n",
    "    print(\"\\nCurrent environment:\")\n",
    "    \n",
    "\n",
    "    print(\"\\nSubmitting job...\")\n",
    "    print(f\"{' '.join(cmd)}\")\n",
    "    submit_proc = subprocess.run(cmd, capture_output=True, env=my_env)\n",
    "    return submit_proc\n",
    "\n",
    "def print_stdout(submit_proc):\n",
    "    for line in submit_proc.stdout.decode().splitlines():\n",
    "        json_line = json.loads(line)\n",
    "        for k in json_line.keys():\n",
    "            for subline in json_line[k].splitlines():\n",
    "                print(subline)\n",
    "\n",
    "def print_stderr(submit_proc):\n",
    "    for line in submit_proc.stderr.decode().splitlines():\n",
    "        print(line)\n",
    "\n",
    "\n",
    "\n",
    "for iid in iids:\n",
    "    print(f\"\"\"Submitting ({iid})\"\"\")\n",
    "    unique_iid = iid+'.'+''.join(random.choices(alphabet, k=8))\n",
    "    jobname=shorten_id(unique_iid)\n",
    "    # machine_type = \"e2-highmem-16\" # Ill have to experiment with that\n",
    "    # machine_type = \"e2-highmem-8\" # seems i had some other errors here...\n",
    "    # As far as I can see in the recent 'job metrics', we never go above 1 core. So we only need the beast machines for the larger models\n",
    "    # machine_type = \"e2-standard-2\"\n",
    "    machine_type = \"n2-highmem-2\"\n",
    "    # if iid in high_mem_iids:\n",
    "    #     machine_type = \"n2-highmem-16\"\n",
    "    # there are definitely some jobs failing with high mem useage. TODO: I need a way to override this for some of them...\n",
    "    \n",
    "    try:\n",
    "        # check environment\n",
    "\n",
    "        submit_proc = submit_job(repo, ref, f_name, iid, jobname, machine_type)\n",
    "        assert submit_proc.returncode == 0\n",
    "        lastline = json.loads(submit_proc.stdout.decode().splitlines()[-1])\n",
    "        assert lastline[\"status\"] == \"submitted\"\n",
    "        job_id = lastline[\"job_id\"]\n",
    "        job_name = lastline[\"job_name\"]\n",
    "        \n",
    "        print(f\"Job submitted with {job_id = }\")\n",
    "        with open('submitted_iids.txt', 'a') as f:\n",
    "            f.write(iid+'\\n')\n",
    "    except Exception as err:\n",
    "        print(f'Submission FAILED with {err}')\n",
    "    print('STDOUT')\n",
    "    print_stdout(submit_proc)\n",
    "    print('STDERR')\n",
    "    print_stderr(submit_proc)"
   ]
  },
  {
   "cell_type": "code",
   "execution_count": 14,
   "id": "70d7b024",
   "metadata": {},
   "outputs": [],
   "source": [
    "submit_proc_conda = subprocess.run(['conda','info'], capture_output=True)"
   ]
  },
  {
   "cell_type": "code",
   "execution_count": 13,
   "id": "313884f4",
   "metadata": {},
   "outputs": [
    {
     "ename": "JSONDecodeError",
     "evalue": "Expecting value: line 1 column 1 (char 0)",
     "output_type": "error",
     "traceback": [
      "\u001b[0;31m---------------------------------------------------------------------------\u001b[0m",
      "\u001b[0;31mJSONDecodeError\u001b[0m                           Traceback (most recent call last)",
      "Cell \u001b[0;32mIn[13], line 1\u001b[0m\n\u001b[0;32m----> 1\u001b[0m print_stdout(submit_proc_conda)\n",
      "Cell \u001b[0;32mIn[11], line 219\u001b[0m, in \u001b[0;36mprint_stdout\u001b[0;34m(submit_proc)\u001b[0m\n\u001b[1;32m    217\u001b[0m \u001b[39mdef\u001b[39;00m \u001b[39mprint_stdout\u001b[39m(submit_proc):\n\u001b[1;32m    218\u001b[0m     \u001b[39mfor\u001b[39;00m line \u001b[39min\u001b[39;00m submit_proc\u001b[39m.\u001b[39mstdout\u001b[39m.\u001b[39mdecode()\u001b[39m.\u001b[39msplitlines():\n\u001b[0;32m--> 219\u001b[0m         json_line \u001b[39m=\u001b[39m json\u001b[39m.\u001b[39;49mloads(line)\n\u001b[1;32m    220\u001b[0m         \u001b[39mfor\u001b[39;00m k \u001b[39min\u001b[39;00m json_line\u001b[39m.\u001b[39mkeys():\n\u001b[1;32m    221\u001b[0m             \u001b[39mfor\u001b[39;00m subline \u001b[39min\u001b[39;00m json_line[k]\u001b[39m.\u001b[39msplitlines():\n",
      "File \u001b[0;32m~/miniconda/envs/cmip6-leap-feedstock/lib/python3.9/json/__init__.py:346\u001b[0m, in \u001b[0;36mloads\u001b[0;34m(s, cls, object_hook, parse_float, parse_int, parse_constant, object_pairs_hook, **kw)\u001b[0m\n\u001b[1;32m    341\u001b[0m     s \u001b[39m=\u001b[39m s\u001b[39m.\u001b[39mdecode(detect_encoding(s), \u001b[39m'\u001b[39m\u001b[39msurrogatepass\u001b[39m\u001b[39m'\u001b[39m)\n\u001b[1;32m    343\u001b[0m \u001b[39mif\u001b[39;00m (\u001b[39mcls\u001b[39m \u001b[39mis\u001b[39;00m \u001b[39mNone\u001b[39;00m \u001b[39mand\u001b[39;00m object_hook \u001b[39mis\u001b[39;00m \u001b[39mNone\u001b[39;00m \u001b[39mand\u001b[39;00m\n\u001b[1;32m    344\u001b[0m         parse_int \u001b[39mis\u001b[39;00m \u001b[39mNone\u001b[39;00m \u001b[39mand\u001b[39;00m parse_float \u001b[39mis\u001b[39;00m \u001b[39mNone\u001b[39;00m \u001b[39mand\u001b[39;00m\n\u001b[1;32m    345\u001b[0m         parse_constant \u001b[39mis\u001b[39;00m \u001b[39mNone\u001b[39;00m \u001b[39mand\u001b[39;00m object_pairs_hook \u001b[39mis\u001b[39;00m \u001b[39mNone\u001b[39;00m \u001b[39mand\u001b[39;00m \u001b[39mnot\u001b[39;00m kw):\n\u001b[0;32m--> 346\u001b[0m     \u001b[39mreturn\u001b[39;00m _default_decoder\u001b[39m.\u001b[39;49mdecode(s)\n\u001b[1;32m    347\u001b[0m \u001b[39mif\u001b[39;00m \u001b[39mcls\u001b[39m \u001b[39mis\u001b[39;00m \u001b[39mNone\u001b[39;00m:\n\u001b[1;32m    348\u001b[0m     \u001b[39mcls\u001b[39m \u001b[39m=\u001b[39m JSONDecoder\n",
      "File \u001b[0;32m~/miniconda/envs/cmip6-leap-feedstock/lib/python3.9/json/decoder.py:337\u001b[0m, in \u001b[0;36mJSONDecoder.decode\u001b[0;34m(self, s, _w)\u001b[0m\n\u001b[1;32m    332\u001b[0m \u001b[39mdef\u001b[39;00m \u001b[39mdecode\u001b[39m(\u001b[39mself\u001b[39m, s, _w\u001b[39m=\u001b[39mWHITESPACE\u001b[39m.\u001b[39mmatch):\n\u001b[1;32m    333\u001b[0m \u001b[39m    \u001b[39m\u001b[39m\"\"\"Return the Python representation of ``s`` (a ``str`` instance\u001b[39;00m\n\u001b[1;32m    334\u001b[0m \u001b[39m    containing a JSON document).\u001b[39;00m\n\u001b[1;32m    335\u001b[0m \n\u001b[1;32m    336\u001b[0m \u001b[39m    \"\"\"\u001b[39;00m\n\u001b[0;32m--> 337\u001b[0m     obj, end \u001b[39m=\u001b[39m \u001b[39mself\u001b[39;49m\u001b[39m.\u001b[39;49mraw_decode(s, idx\u001b[39m=\u001b[39;49m_w(s, \u001b[39m0\u001b[39;49m)\u001b[39m.\u001b[39;49mend())\n\u001b[1;32m    338\u001b[0m     end \u001b[39m=\u001b[39m _w(s, end)\u001b[39m.\u001b[39mend()\n\u001b[1;32m    339\u001b[0m     \u001b[39mif\u001b[39;00m end \u001b[39m!=\u001b[39m \u001b[39mlen\u001b[39m(s):\n",
      "File \u001b[0;32m~/miniconda/envs/cmip6-leap-feedstock/lib/python3.9/json/decoder.py:355\u001b[0m, in \u001b[0;36mJSONDecoder.raw_decode\u001b[0;34m(self, s, idx)\u001b[0m\n\u001b[1;32m    353\u001b[0m     obj, end \u001b[39m=\u001b[39m \u001b[39mself\u001b[39m\u001b[39m.\u001b[39mscan_once(s, idx)\n\u001b[1;32m    354\u001b[0m \u001b[39mexcept\u001b[39;00m \u001b[39mStopIteration\u001b[39;00m \u001b[39mas\u001b[39;00m err:\n\u001b[0;32m--> 355\u001b[0m     \u001b[39mraise\u001b[39;00m JSONDecodeError(\u001b[39m\"\u001b[39m\u001b[39mExpecting value\u001b[39m\u001b[39m\"\u001b[39m, s, err\u001b[39m.\u001b[39mvalue) \u001b[39mfrom\u001b[39;00m \u001b[39mNone\u001b[39;00m\n\u001b[1;32m    356\u001b[0m \u001b[39mreturn\u001b[39;00m obj, end\n",
      "\u001b[0;31mJSONDecodeError\u001b[0m: Expecting value: line 1 column 1 (char 0)"
     ]
    }
   ],
   "source": [
    "print_stdout(submit_proc_conda)"
   ]
  },
  {
   "cell_type": "code",
   "execution_count": 13,
   "id": "c8f40397",
   "metadata": {},
   "outputs": [
    {
     "ename": "AssertionError",
     "evalue": "",
     "output_type": "error",
     "traceback": [
      "\u001b[0;31m---------------------------------------------------------------------------\u001b[0m",
      "\u001b[0;31mAssertionError\u001b[0m                            Traceback (most recent call last)",
      "Cell \u001b[0;32mIn[13], line 3\u001b[0m\n\u001b[1;32m      1\u001b[0m \u001b[39mimport\u001b[39;00m \u001b[39mapache_beam\u001b[39;00m \u001b[39mas\u001b[39;00m \u001b[39mbeam\u001b[39;00m\n\u001b[0;32m----> 3\u001b[0m beam\u001b[39m.\u001b[39;49mpvalue\u001b[39m.\u001b[39;49mAsSingleton(beam\u001b[39m.\u001b[39;49mPCollection(\u001b[39m'\u001b[39;49m\u001b[39mstr\u001b[39;49m\u001b[39m'\u001b[39;49m))\n",
      "File \u001b[0;32m~/miniconda/envs/cmip6-leap-feedstock/lib/python3.9/site-packages/apache_beam/pvalue.py:500\u001b[0m, in \u001b[0;36mAsSingleton.__init__\u001b[0;34m(self, pcoll, default_value)\u001b[0m\n\u001b[1;32m    498\u001b[0m \u001b[39mdef\u001b[39;00m \u001b[39m__init__\u001b[39m(\u001b[39mself\u001b[39m, pcoll, default_value\u001b[39m=\u001b[39m_NO_DEFAULT):\n\u001b[1;32m    499\u001b[0m   \u001b[39m# type: (PCollection, Any) -> None\u001b[39;00m\n\u001b[0;32m--> 500\u001b[0m   \u001b[39msuper\u001b[39;49m()\u001b[39m.\u001b[39;49m\u001b[39m__init__\u001b[39;49m(pcoll)\n\u001b[1;32m    501\u001b[0m   \u001b[39mself\u001b[39m\u001b[39m.\u001b[39mdefault_value \u001b[39m=\u001b[39m default_value\n",
      "File \u001b[0;32m~/miniconda/envs/cmip6-leap-feedstock/lib/python3.9/site-packages/apache_beam/pvalue.py:359\u001b[0m, in \u001b[0;36mAsSideInput.__init__\u001b[0;34m(self, pcoll)\u001b[0m\n\u001b[1;32m    356\u001b[0m \u001b[39mfrom\u001b[39;00m \u001b[39mapache_beam\u001b[39;00m\u001b[39m.\u001b[39;00m\u001b[39mtransforms\u001b[39;00m \u001b[39mimport\u001b[39;00m sideinputs\n\u001b[1;32m    357\u001b[0m \u001b[39mself\u001b[39m\u001b[39m.\u001b[39mpvalue \u001b[39m=\u001b[39m pcoll\n\u001b[1;32m    358\u001b[0m \u001b[39mself\u001b[39m\u001b[39m.\u001b[39m_window_mapping_fn \u001b[39m=\u001b[39m sideinputs\u001b[39m.\u001b[39mdefault_window_mapping_fn(\n\u001b[0;32m--> 359\u001b[0m     pcoll\u001b[39m.\u001b[39;49mwindowing\u001b[39m.\u001b[39mwindowfn)\n",
      "File \u001b[0;32m~/miniconda/envs/cmip6-leap-feedstock/lib/python3.9/site-packages/apache_beam/pvalue.py:157\u001b[0m, in \u001b[0;36mPCollection.windowing\u001b[0;34m(self)\u001b[0m\n\u001b[1;32m    153\u001b[0m \u001b[39m@property\u001b[39m\n\u001b[1;32m    154\u001b[0m \u001b[39mdef\u001b[39;00m \u001b[39mwindowing\u001b[39m(\u001b[39mself\u001b[39m):\n\u001b[1;32m    155\u001b[0m   \u001b[39m# type: () -> Windowing\u001b[39;00m\n\u001b[1;32m    156\u001b[0m   \u001b[39mif\u001b[39;00m \u001b[39mnot\u001b[39;00m \u001b[39mhasattr\u001b[39m(\u001b[39mself\u001b[39m, \u001b[39m'\u001b[39m\u001b[39m_windowing\u001b[39m\u001b[39m'\u001b[39m):\n\u001b[0;32m--> 157\u001b[0m     \u001b[39massert\u001b[39;00m \u001b[39mself\u001b[39m\u001b[39m.\u001b[39mproducer \u001b[39mis\u001b[39;00m \u001b[39mnot\u001b[39;00m \u001b[39mNone\u001b[39;00m \u001b[39mand\u001b[39;00m \u001b[39mself\u001b[39m\u001b[39m.\u001b[39mproducer\u001b[39m.\u001b[39mtransform \u001b[39mis\u001b[39;00m \u001b[39mnot\u001b[39;00m \u001b[39mNone\u001b[39;00m\n\u001b[1;32m    158\u001b[0m     \u001b[39mself\u001b[39m\u001b[39m.\u001b[39m_windowing \u001b[39m=\u001b[39m \u001b[39mself\u001b[39m\u001b[39m.\u001b[39mproducer\u001b[39m.\u001b[39mtransform\u001b[39m.\u001b[39mget_windowing(\n\u001b[1;32m    159\u001b[0m         \u001b[39mself\u001b[39m\u001b[39m.\u001b[39mproducer\u001b[39m.\u001b[39minputs)\n\u001b[1;32m    160\u001b[0m   \u001b[39mreturn\u001b[39;00m \u001b[39mself\u001b[39m\u001b[39m.\u001b[39m_windowing\n",
      "\u001b[0;31mAssertionError\u001b[0m: "
     ]
    }
   ],
   "source": [
    "import apache_beam as beam\n",
    "\n",
    "beam.pvalue.AsSingleton(beam.PCollection('str'))\n",
    "    "
   ]
  },
  {
   "cell_type": "code",
   "execution_count": 15,
   "id": "1b76533b",
   "metadata": {},
   "outputs": [
    {
     "data": {
      "text/plain": [
       "['Target Storage is FSSpecTarget(LocalFileSystem(, root_path=\"local_storage/cache/{job_name}\")']"
      ]
     },
     "execution_count": 15,
     "metadata": {},
     "output_type": "execute_result"
    }
   ],
   "source": []
  },
  {
   "cell_type": "code",
   "execution_count": 10,
   "id": "09284668",
   "metadata": {},
   "outputs": [
    {
     "data": {
      "text/plain": [
       "'[Bake] WARNING | Config option `inject` not recognized by `Bake`.'"
      ]
     },
     "execution_count": 10,
     "metadata": {},
     "output_type": "execute_result"
    }
   ],
   "source": [
    "line"
   ]
  },
  {
   "cell_type": "code",
   "execution_count": 7,
   "id": "4b581d3a",
   "metadata": {},
   "outputs": [
    {
     "data": {
      "text/plain": [
       "['{\"message\": \"Target Storage is FSSpecTarget(LocalFileSystem(, root_path=\\\\\"local_storage/cache/{job_name}\\\\\")\\\\n\", \"status\": \"setup\"}',\n",
       " '{\"message\": \"Input Cache Storage is CacheFSSpecTarget(LocalFileSystem(, root_path=\\\\\"local_storage/cache/{job_name}\\\\\")\\\\n\", \"status\": \"setup\"}',\n",
       " '{\"message\": \"Metadata Cache Storage is MetadataTarget(AbstractFileSystem(, root_path=\\\\\"\\\\\")\\\\n\", \"status\": \"setup\"}',\n",
       " '{\"message\": \"Picked Git content provider.\\\\n\", \"status\": \"fetching\"}',\n",
       " '{\"message\": \"Cloning into \\'/var/folders/_1/1k9jtjl51z333f21s7yht0340000gn/T/tmpngmbbcga\\'...\\\\n\", \"status\": \"fetching\"}',\n",
       " '{\"message\": \"HEAD is now at c83067c Remove jobname injection\\\\n\", \"status\": \"fetching\"}',\n",
       " '{\"message\": \"Parsing recipes...\", \"status\": \"running\"}',\n",
       " '{\"message\": \"Fetching urls from GCS for None\", \"status\": \"running\"}',\n",
       " '{\"message\": \"\\\\n\", \"status\": \"running\"}',\n",
       " '{\"message\": \"Error during running: b/leap-persistent/o/jbusecke%2Fcmip6urls%2FNone.json\", \"exc_info\": \"Traceback (most recent call last):\\\\n  File \\\\\"/Users/juliusbusecke/miniconda/envs/cmip6-leap-feedstock/bin/pangeo-forge-runner\\\\\", line 8, in <module>\\\\n    sys.exit(main())\\\\n  File \\\\\"/Users/juliusbusecke/miniconda/envs/cmip6-leap-feedstock/lib/python3.9/site-packages/pangeo_forge_runner/cli.py\\\\\", line 28, in main\\\\n    app.start()\\\\n  File \\\\\"/Users/juliusbusecke/miniconda/envs/cmip6-leap-feedstock/lib/python3.9/site-packages/pangeo_forge_runner/cli.py\\\\\", line 23, in start\\\\n    super().start()\\\\n  File \\\\\"/Users/juliusbusecke/miniconda/envs/cmip6-leap-feedstock/lib/python3.9/site-packages/traitlets/config/application.py\\\\\", line 473, in start\\\\n    return self.subapp.start()\\\\n  File \\\\\"/Users/juliusbusecke/miniconda/envs/cmip6-leap-feedstock/lib/python3.9/site-packages/pangeo_forge_runner/commands/bake.py\\\\\", line 188, in start\\\\n    recipes = feedstock.parse_recipes()\\\\n  File \\\\\"/Users/juliusbusecke/miniconda/envs/cmip6-leap-feedstock/lib/python3.9/site-packages/pangeo_forge_runner/feedstock.py\\\\\", line 81, in parse_recipes\\\\n    recipes[r[\\\\\"id\\\\\"]] = self._import(r[\\\\\"object\\\\\"])\\\\n  File \\\\\"/Users/juliusbusecke/miniconda/envs/cmip6-leap-feedstock/lib/python3.9/site-packages/pangeo_forge_runner/feedstock.py\\\\\", line 66, in _import\\\\n    exec(compile(source=rewritten_ast, filename=filename, mode=\\\\\"exec\\\\\"), ns)\\\\n  File \\\\\"/var/folders/_1/1k9jtjl51z333f21s7yht0340000gn/T/tmpngmbbcga/feedstock/recipe.py\\\\\", line 50, in <module>\\\\n  File \\\\\"/var/folders/_1/1k9jtjl51z333f21s7yht0340000gn/T/tmpngmbbcga/feedstock/recipe.py\\\\\", line 24, in urls_from_gcs\\\\n  File \\\\\"/Users/juliusbusecke/miniconda/envs/cmip6-leap-feedstock/lib/python3.9/site-packages/fsspec/spec.py\\\\\", line 1229, in open\\\\n    self.open(\\\\n  File \\\\\"/Users/juliusbusecke/miniconda/envs/cmip6-leap-feedstock/lib/python3.9/site-packages/fsspec/spec.py\\\\\", line 1241, in open\\\\n    f = self._open(\\\\n  File \\\\\"/Users/juliusbusecke/miniconda/envs/cmip6-leap-feedstock/lib/python3.9/site-packages/gcsfs/core.py\\\\\", line 1343, in _open\\\\n    return GCSFile(\\\\n  File \\\\\"/Users/juliusbusecke/miniconda/envs/cmip6-leap-feedstock/lib/python3.9/site-packages/gcsfs/core.py\\\\\", line 1502, in __init__\\\\n    super().__init__(\\\\n  File \\\\\"/Users/juliusbusecke/miniconda/envs/cmip6-leap-feedstock/lib/python3.9/site-packages/fsspec/spec.py\\\\\", line 1597, in __init__\\\\n    self.size = self.details[\\\\\"size\\\\\"]\\\\n  File \\\\\"/Users/juliusbusecke/miniconda/envs/cmip6-leap-feedstock/lib/python3.9/site-packages/gcsfs/core.py\\\\\", line 1538, in details\\\\n    self._details = self.fs.info(self.path, generation=self.generation)\\\\n  File \\\\\"/Users/juliusbusecke/miniconda/envs/cmip6-leap-feedstock/lib/python3.9/site-packages/fsspec/asyn.py\\\\\", line 121, in wrapper\\\\n    return sync(self.loop, func, *args, **kwargs)\\\\n  File \\\\\"/Users/juliusbusecke/miniconda/envs/cmip6-leap-feedstock/lib/python3.9/site-packages/fsspec/asyn.py\\\\\", line 106, in sync\\\\n    raise return_result\\\\n  File \\\\\"/Users/juliusbusecke/miniconda/envs/cmip6-leap-feedstock/lib/python3.9/site-packages/fsspec/asyn.py\\\\\", line 61, in _runner\\\\n    result[0] = await coro\\\\n  File \\\\\"/Users/juliusbusecke/miniconda/envs/cmip6-leap-feedstock/lib/python3.9/site-packages/gcsfs/core.py\\\\\", line 809, in _info\\\\n    out = await self._ls(path, **kwargs)\\\\n  File \\\\\"/Users/juliusbusecke/miniconda/envs/cmip6-leap-feedstock/lib/python3.9/site-packages/gcsfs/core.py\\\\\", line 846, in _ls\\\\n    for entry in await self._list_objects(\\\\n  File \\\\\"/Users/juliusbusecke/miniconda/envs/cmip6-leap-feedstock/lib/python3.9/site-packages/gcsfs/core.py\\\\\", line 561, in _list_objects\\\\n    return [await self._get_object(path)]\\\\n  File \\\\\"/Users/juliusbusecke/miniconda/envs/cmip6-leap-feedstock/lib/python3.9/site-packages/gcsfs/core.py\\\\\", line 503, in _get_object\\\\n    res = await self._call(\\\\n  File \\\\\"/Users/juliusbusecke/miniconda/envs/cmip6-leap-feedstock/lib/python3.9/site-packages/gcsfs/core.py\\\\\", line 430, in _call\\\\n    status, headers, info, contents = await self._request(\\\\n  File \\\\\"/Users/juliusbusecke/miniconda/envs/cmip6-leap-feedstock/lib/python3.9/site-packages/decorator.py\\\\\", line 221, in fun\\\\n    return await caller(func, *(extras + args), **kw)\\\\n  File \\\\\"/Users/juliusbusecke/miniconda/envs/cmip6-leap-feedstock/lib/python3.9/site-packages/gcsfs/retry.py\\\\\", line 114, in retry_request\\\\n    return await func(*args, **kwargs)\\\\n  File \\\\\"/Users/juliusbusecke/miniconda/envs/cmip6-leap-feedstock/lib/python3.9/site-packages/gcsfs/core.py\\\\\", line 423, in _request\\\\n    validate_response(status, contents, path, args)\\\\n  File \\\\\"/Users/juliusbusecke/miniconda/envs/cmip6-leap-feedstock/lib/python3.9/site-packages/gcsfs/retry.py\\\\\", line 83, in validate_response\\\\n    raise FileNotFoundError(path)\\\\nFileNotFoundError: b/leap-persistent/o/jbusecke%2Fcmip6urls%2FNone.json\", \"status\": \"failed\"}']"
      ]
     },
     "execution_count": 7,
     "metadata": {},
     "output_type": "execute_result"
    }
   ],
   "source": [
    "submit_proc.stdout.decode().splitlines()"
   ]
  },
  {
   "cell_type": "code",
   "execution_count": 6,
   "id": "e44b2562",
   "metadata": {},
   "outputs": [
    {
     "name": "stdout",
     "output_type": "stream",
     "text": [
      "\n",
      "Submitting job...\n"
     ]
    }
   ],
   "source": [
    "submit_proc = submit_job(repo, ref, f_name, iid, jobname, machine_type)"
   ]
  },
  {
   "cell_type": "code",
   "execution_count": 7,
   "id": "3dc74313",
   "metadata": {},
   "outputs": [
    {
     "data": {
      "text/plain": [
       "CompletedProcess(args=['pangeo-forge-runner', 'bake', '--repo', 'https://github.com/jbusecke/cmip6-leap-feedstock.git', '--ref', 'beam-dataflow-testing', '--json', '-f', 'config_local.json', '--Bake.inject', '{\"get_iid\": {\"iid\": \"CMIP6.CMIP.MRI.MRI-ESM2-0.historical.r3i1p1f1.day.pr.gn.v20190603\"}, \"get_jobname\": {\"jobname\": \"mri-esm2-0historicalr3i1p1f1dayprgnv20190603p9q2ookx\"}}', '--Bake.job_name', 'mri-esm2-0historicalr3i1p1f1dayprgnv20190603p9q2ookx', '--DataflowBakery.machine_type', 'n2-highmem-2'], returncode=1, stdout=b'', stderr=b'Traceback (most recent call last):\\n  File \"/Users/juliusbusecke/miniconda/envs/cmip6-leap-feedstock/bin/pangeo-forge-runner\", line 5, in <module>\\n    from pangeo_forge_runner.cli import main\\n  File \"/Users/juliusbusecke/miniconda/envs/cmip6-leap-feedstock/lib/python3.9/site-packages/pangeo_forge_runner/cli.py\", line 3, in <module>\\n    from .commands.bake import Bake\\n  File \"/Users/juliusbusecke/miniconda/envs/cmip6-leap-feedstock/lib/python3.9/site-packages/pangeo_forge_runner/commands/bake.py\", line 15, in <module>\\n    from ..storage import InputCacheStorage, MetadataCacheStorage, TargetStorage\\n  File \"/Users/juliusbusecke/miniconda/envs/cmip6-leap-feedstock/lib/python3.9/site-packages/pangeo_forge_runner/storage.py\", line 2, in <module>\\n    from pangeo_forge_recipes.storage import CacheFSSpecTarget, FSSpecTarget, MetadataTarget\\nImportError: cannot import name \\'MetadataTarget\\' from \\'pangeo_forge_recipes.storage\\' (/Users/juliusbusecke/miniconda/envs/cmip6-leap-feedstock/lib/python3.9/site-packages/pangeo_forge_recipes/storage.py)\\n')"
      ]
     },
     "execution_count": 7,
     "metadata": {},
     "output_type": "execute_result"
    }
   ],
   "source": [
    "submit_proc"
   ]
  },
  {
   "cell_type": "code",
   "execution_count": 6,
   "id": "824c37b8-76f5-4fcb-af44-0175786d9f17",
   "metadata": {
    "tags": []
   },
   "outputs": [
    {
     "data": {
      "text/plain": [
       "129"
      ]
     },
     "execution_count": 6,
     "metadata": {},
     "output_type": "execute_result"
    }
   ],
   "source": [
    "len(iids)"
   ]
  },
  {
   "cell_type": "code",
   "execution_count": 7,
   "id": "a1523943-7fae-475c-b1b9-e641617d0509",
   "metadata": {},
   "outputs": [],
   "source": [
    "# for line in submit_proc.stderr.decode().splitlines():\n",
    "#     # print(json.loads(line)['message'])\n",
    "#     print(line)"
   ]
  },
  {
   "cell_type": "code",
   "execution_count": 8,
   "id": "24f99c42-3253-4d67-82fe-9a9fb81955ec",
   "metadata": {},
   "outputs": [],
   "source": [
    "# err"
   ]
  },
  {
   "cell_type": "code",
   "execution_count": null,
   "id": "9ef32ac2-93d8-4f89-aafa-32202caf62fd",
   "metadata": {},
   "outputs": [],
   "source": []
  }
 ],
 "metadata": {
  "kernelspec": {
   "display_name": "Python 3 (ipykernel)",
   "language": "python",
   "name": "python3"
  },
  "language_info": {
   "codemirror_mode": {
    "name": "ipython",
    "version": 3
   },
   "file_extension": ".py",
   "mimetype": "text/x-python",
   "name": "python",
   "nbconvert_exporter": "python",
   "pygments_lexer": "ipython3",
   "version": "3.9.16"
  }
 },
 "nbformat": 4,
 "nbformat_minor": 5
}
