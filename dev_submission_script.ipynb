{
 "cells": [
  {
   "cell_type": "code",
   "execution_count": 1,
   "id": "c1289bf7-f6dc-46f3-a289-56c35582a82c",
   "metadata": {
    "tags": []
   },
   "outputs": [],
   "source": [
    "# # # the dependencies here are a mess, I would love to have these all in the environment.yml file, but I don't know how to pass the \"--no-deps\" flag to pip install from the environment.yml file.\n",
    "# !pip uninstall -y apache-beam\n",
    "# !pip install pip install 'apache-beam[gcp]'\n",
    "\n",
    "# !pip uninstall -y pangeo-forge-runner pangeo-forge-recipes\n",
    "\n",
    "# # !pip install git+https://github.com/pangeo-forge/pangeo-forge-runner.git@arbitrary-injections --no-deps #TODO: this one needs to be rebased on current main\n",
    "# !pip install git+https://github.com/pangeo-forge/pangeo-forge-runner.git@main --no-deps #i have deactivated the injection code for now\n",
    "# !pip install git+https://github.com/jbusecke/pangeo-forge-recipes.git@dynamic_chunks_2 --no-deps\n",
    "# !pip install ruamel.yaml --no-deps\n"
   ]
  },
  {
   "cell_type": "code",
   "execution_count": 2,
   "id": "5bf5ca6b",
   "metadata": {},
   "outputs": [],
   "source": [
    "# # test bigquery logic (WTF? Why is this working in the other notebook but not here)\n",
    "# from feedstock.recipe import urls_from_bq\n",
    "# urls_from_bq('CMIP6.CMIP.MRI.MRI-ESM2-0.historical.r3i1p1f1.day.pr.gn.v20190603')"
   ]
  },
  {
   "cell_type": "code",
   "execution_count": 3,
   "id": "11aa5ad1-46f1-4be8-95e2-a846221dffd8",
   "metadata": {
    "tags": []
   },
   "outputs": [],
   "source": [
    "# global input args\n",
    "repo = \"https://github.com/jbusecke/cmip6-leap-feedstock.git\"\n",
    "ref = \"beam-dataflow-testing\"\n",
    "# f_name = \"config.json\"\n",
    "# test locally \n",
    "f_name = \"config_local.json\""
   ]
  },
  {
   "cell_type": "code",
   "execution_count": 4,
   "id": "b67b1ebd-b94e-40cb-b745-4b77c31796df",
   "metadata": {
    "tags": []
   },
   "outputs": [],
   "source": [
    "def shorten_id(iid):\n",
    "    iid_stripped = ''.join(iid.lower().split('.')[3:])\n",
    "    assert len(iid_stripped)<66\n",
    "    return iid_stripped"
   ]
  },
  {
   "cell_type": "code",
   "execution_count": 5,
   "id": "5eaedba8-3d55-4ce7-94da-4e781dc1673b",
   "metadata": {
    "tags": []
   },
   "outputs": [
    {
     "name": "stdout",
     "output_type": "stream",
     "text": [
      "Submitting (CMIP6.CMIP.MRI.MRI-ESM2-0.historical.r3i1p1f1.day.pr.gn.v20190603)\n",
      "\n",
      "Current environment:\n",
      "\n",
      "Submitting job...\n",
      "pangeo-forge-runner bake --repo https://github.com/jbusecke/cmip6-leap-feedstock.git --ref beam-dataflow-testing --json -f config_local.json --Bake.inject {\"get_iid\": {\"iid\": \"CMIP6.CMIP.MRI.MRI-ESM2-0.historical.r3i1p1f1.day.pr.gn.v20190603\"}, \"get_jobname\": {\"jobname\": \"mri-esm2-0historicalr3i1p1f1dayprgnv20190603fojesrli\"}} --Bake.job_name mri-esm2-0historicalr3i1p1f1dayprgnv20190603fojesrli --DataflowBakery.machine_type n2-highmem-2\n"
     ]
    },
    {
     "ename": "KeyboardInterrupt",
     "evalue": "",
     "output_type": "error",
     "traceback": [
      "\u001b[0;31m---------------------------------------------------------------------------\u001b[0m",
      "\u001b[0;31mKeyboardInterrupt\u001b[0m                         Traceback (most recent call last)",
      "Cell \u001b[0;32mIn[5], line 246\u001b[0m\n\u001b[1;32m    239\u001b[0m \u001b[39m# if iid in high_mem_iids:\u001b[39;00m\n\u001b[1;32m    240\u001b[0m \u001b[39m#     machine_type = \"n2-highmem-16\"\u001b[39;00m\n\u001b[1;32m    241\u001b[0m \u001b[39m# there are definitely some jobs failing with high mem useage. TODO: I need a way to override this for some of them...\u001b[39;00m\n\u001b[1;32m    243\u001b[0m \u001b[39mtry\u001b[39;00m:\n\u001b[1;32m    244\u001b[0m     \u001b[39m# check environment\u001b[39;00m\n\u001b[0;32m--> 246\u001b[0m     submit_proc \u001b[39m=\u001b[39m submit_job(repo, ref, f_name, iid, jobname, machine_type)\n\u001b[1;32m    247\u001b[0m     \u001b[39massert\u001b[39;00m submit_proc\u001b[39m.\u001b[39mreturncode \u001b[39m==\u001b[39m \u001b[39m0\u001b[39m\n\u001b[1;32m    248\u001b[0m     lastline \u001b[39m=\u001b[39m json\u001b[39m.\u001b[39mloads(submit_proc\u001b[39m.\u001b[39mstdout\u001b[39m.\u001b[39mdecode()\u001b[39m.\u001b[39msplitlines()[\u001b[39m-\u001b[39m\u001b[39m1\u001b[39m])\n",
      "Cell \u001b[0;32mIn[5], line 214\u001b[0m, in \u001b[0;36msubmit_job\u001b[0;34m(repo, ref, f_name, iid, jobname, machine_type)\u001b[0m\n\u001b[1;32m    212\u001b[0m \u001b[39mprint\u001b[39m(\u001b[39m\"\u001b[39m\u001b[39m\\n\u001b[39;00m\u001b[39mSubmitting job...\u001b[39m\u001b[39m\"\u001b[39m)\n\u001b[1;32m    213\u001b[0m \u001b[39mprint\u001b[39m(\u001b[39mf\u001b[39m\u001b[39m\"\u001b[39m\u001b[39m{\u001b[39;00m\u001b[39m'\u001b[39m\u001b[39m \u001b[39m\u001b[39m'\u001b[39m\u001b[39m.\u001b[39mjoin(cmd)\u001b[39m}\u001b[39;00m\u001b[39m\"\u001b[39m)\n\u001b[0;32m--> 214\u001b[0m submit_proc \u001b[39m=\u001b[39m subprocess\u001b[39m.\u001b[39;49mrun(cmd, capture_output\u001b[39m=\u001b[39;49m\u001b[39mTrue\u001b[39;49;00m, env\u001b[39m=\u001b[39;49mmy_env)\n\u001b[1;32m    215\u001b[0m \u001b[39mreturn\u001b[39;00m submit_proc\n",
      "File \u001b[0;32m~/miniconda/envs/cmip6-leap-feedstock/lib/python3.9/subprocess.py:507\u001b[0m, in \u001b[0;36mrun\u001b[0;34m(input, capture_output, timeout, check, *popenargs, **kwargs)\u001b[0m\n\u001b[1;32m    505\u001b[0m \u001b[39mwith\u001b[39;00m Popen(\u001b[39m*\u001b[39mpopenargs, \u001b[39m*\u001b[39m\u001b[39m*\u001b[39mkwargs) \u001b[39mas\u001b[39;00m process:\n\u001b[1;32m    506\u001b[0m     \u001b[39mtry\u001b[39;00m:\n\u001b[0;32m--> 507\u001b[0m         stdout, stderr \u001b[39m=\u001b[39m process\u001b[39m.\u001b[39;49mcommunicate(\u001b[39minput\u001b[39;49m, timeout\u001b[39m=\u001b[39;49mtimeout)\n\u001b[1;32m    508\u001b[0m     \u001b[39mexcept\u001b[39;00m TimeoutExpired \u001b[39mas\u001b[39;00m exc:\n\u001b[1;32m    509\u001b[0m         process\u001b[39m.\u001b[39mkill()\n",
      "File \u001b[0;32m~/miniconda/envs/cmip6-leap-feedstock/lib/python3.9/subprocess.py:1134\u001b[0m, in \u001b[0;36mPopen.communicate\u001b[0;34m(self, input, timeout)\u001b[0m\n\u001b[1;32m   1131\u001b[0m     endtime \u001b[39m=\u001b[39m \u001b[39mNone\u001b[39;00m\n\u001b[1;32m   1133\u001b[0m \u001b[39mtry\u001b[39;00m:\n\u001b[0;32m-> 1134\u001b[0m     stdout, stderr \u001b[39m=\u001b[39m \u001b[39mself\u001b[39;49m\u001b[39m.\u001b[39;49m_communicate(\u001b[39minput\u001b[39;49m, endtime, timeout)\n\u001b[1;32m   1135\u001b[0m \u001b[39mexcept\u001b[39;00m \u001b[39mKeyboardInterrupt\u001b[39;00m:\n\u001b[1;32m   1136\u001b[0m     \u001b[39m# https://bugs.python.org/issue25942\u001b[39;00m\n\u001b[1;32m   1137\u001b[0m     \u001b[39m# See the detailed comment in .wait().\u001b[39;00m\n\u001b[1;32m   1138\u001b[0m     \u001b[39mif\u001b[39;00m timeout \u001b[39mis\u001b[39;00m \u001b[39mnot\u001b[39;00m \u001b[39mNone\u001b[39;00m:\n",
      "File \u001b[0;32m~/miniconda/envs/cmip6-leap-feedstock/lib/python3.9/subprocess.py:1979\u001b[0m, in \u001b[0;36mPopen._communicate\u001b[0;34m(self, input, endtime, orig_timeout)\u001b[0m\n\u001b[1;32m   1972\u001b[0m     \u001b[39mself\u001b[39m\u001b[39m.\u001b[39m_check_timeout(endtime, orig_timeout,\n\u001b[1;32m   1973\u001b[0m                         stdout, stderr,\n\u001b[1;32m   1974\u001b[0m                         skip_check_and_raise\u001b[39m=\u001b[39m\u001b[39mTrue\u001b[39;00m)\n\u001b[1;32m   1975\u001b[0m     \u001b[39mraise\u001b[39;00m \u001b[39mRuntimeError\u001b[39;00m(  \u001b[39m# Impossible :)\u001b[39;00m\n\u001b[1;32m   1976\u001b[0m         \u001b[39m'\u001b[39m\u001b[39m_check_timeout(..., skip_check_and_raise=True) \u001b[39m\u001b[39m'\u001b[39m\n\u001b[1;32m   1977\u001b[0m         \u001b[39m'\u001b[39m\u001b[39mfailed to raise TimeoutExpired.\u001b[39m\u001b[39m'\u001b[39m)\n\u001b[0;32m-> 1979\u001b[0m ready \u001b[39m=\u001b[39m selector\u001b[39m.\u001b[39;49mselect(timeout)\n\u001b[1;32m   1980\u001b[0m \u001b[39mself\u001b[39m\u001b[39m.\u001b[39m_check_timeout(endtime, orig_timeout, stdout, stderr)\n\u001b[1;32m   1982\u001b[0m \u001b[39m# XXX Rewrite these to use non-blocking I/O on the file\u001b[39;00m\n\u001b[1;32m   1983\u001b[0m \u001b[39m# objects; they are no longer using C stdio!\u001b[39;00m\n",
      "File \u001b[0;32m~/miniconda/envs/cmip6-leap-feedstock/lib/python3.9/selectors.py:416\u001b[0m, in \u001b[0;36m_PollLikeSelector.select\u001b[0;34m(self, timeout)\u001b[0m\n\u001b[1;32m    414\u001b[0m ready \u001b[39m=\u001b[39m []\n\u001b[1;32m    415\u001b[0m \u001b[39mtry\u001b[39;00m:\n\u001b[0;32m--> 416\u001b[0m     fd_event_list \u001b[39m=\u001b[39m \u001b[39mself\u001b[39;49m\u001b[39m.\u001b[39;49m_selector\u001b[39m.\u001b[39;49mpoll(timeout)\n\u001b[1;32m    417\u001b[0m \u001b[39mexcept\u001b[39;00m \u001b[39mInterruptedError\u001b[39;00m:\n\u001b[1;32m    418\u001b[0m     \u001b[39mreturn\u001b[39;00m ready\n",
      "\u001b[0;31mKeyboardInterrupt\u001b[0m: "
     ]
    }
   ],
   "source": [
    "# from the integration tests of pangeo-forge-runner\n",
    "#https://github.com/pangeo-forge/pangeo-forge-runner/blob/main/tests/integration/test_dataflow_integration.py\n",
    "\n",
    "import subprocess\n",
    "import os\n",
    "import time\n",
    "import xarray as xr\n",
    "import json\n",
    "import random\n",
    "import string\n",
    "\n",
    "# using randomchoice due to this https://stackoverflow.com/questions/13484726/safe-enough-8-character-short-unique-random-string\n",
    "alphabet = string.ascii_lowercase + string.digits\n",
    "\n",
    "# # check written stores (should this just be\n",
    "# iids = []\n",
    "# with open('iids.txt') as f:\n",
    "#     for line in f:\n",
    "#         if not '#' in line:\n",
    "#             iids.append(str(line).replace(\" \", \"\").replace(\"',\\n\", \"\").replace(\"'\",\"\")) # FIXME: This seems ugly haha\n",
    "# print(iids)\n",
    "\n",
    "# iids = [\n",
    "#     'CMIP6.CMIP.IPSL.IPSL-CM6A-LR.historical.r1i1p1f1.Omon.zmeso.gn.v20180803',\n",
    "#     # 'CMIP6.ScenarioMIP.MRI.MRI-ESM2-0.ssp585.r5i1p1f1.day.sfcWind.gn.v20210907'\n",
    "# ]\n",
    "\n",
    "# tims full request (minus the miroc ones that were not available\n",
    "\n",
    "# ec-earth3ssp585r140i1p1f1daypslgrv2020041\n",
    "\n",
    "iids = [\n",
    "#     'CMIP6.ScenarioMIP.EC-Earth-Consortium.EC-Earth3.ssp245.r17i1p1f2.day.sfcWind.gr.v20201015',\n",
    "#  'CMIP6.ScenarioMIP.MRI.MRI-ESM2-0.ssp245.r2i3p1f1.day.pr.gn.v20201222',\n",
    "#  'CMIP6.ScenarioMIP.EC-Earth-Consortium.EC-Earth3.ssp245.r25i1p1f2.day.psl.gr.v20201015',\n",
    "#  'CMIP6.ScenarioMIP.EC-Earth-Consortium.EC-Earth3.ssp585.r127i1p1f1.day.psl.gr.v20200412',\n",
    "#  'CMIP6.ScenarioMIP.EC-Earth-Consortium.EC-Earth3.ssp585.r138i1p1f1.day.psl.gr.v20200412',\n",
    "#  'CMIP6.ScenarioMIP.EC-Earth-Consortium.EC-Earth3.ssp245.r15i1p1f2.day.sfcWind.gr.v20201015',\n",
    "#  'CMIP6.ScenarioMIP.EC-Earth-Consortium.EC-Earth3.ssp585.r134i1p1f1.day.psl.gr.v20200412',\n",
    "#  'CMIP6.ScenarioMIP.EC-Earth-Consortium.EC-Earth3.ssp585.r110i1p1f1.day.psl.gr.v20200412',\n",
    "#  'CMIP6.ScenarioMIP.MRI.MRI-ESM2-0.ssp245.r1i3p1f1.day.pr.gn.v20201222',\n",
    "#  'CMIP6.ScenarioMIP.MRI.MRI-ESM2-0.ssp245.r4i3p1f1.day.pr.gn.v20201222',\n",
    "#  'CMIP6.ScenarioMIP.EC-Earth-Consortium.EC-Earth3.ssp245.r27i1p1f2.day.sfcWind.gr.v20201015',\n",
    "#  'CMIP6.ScenarioMIP.EC-Earth-Consortium.EC-Earth3.ssp585.r103i1p1f1.day.psl.gr.v20200412',\n",
    "#  'CMIP6.ScenarioMIP.EC-Earth-Consortium.EC-Earth3.ssp245.r1i1p1f2.day.pr.gr.v20201015',\n",
    "#  'CMIP6.ScenarioMIP.EC-Earth-Consortium.EC-Earth3.ssp585.r142i1p1f1.day.psl.gr.v20200412',\n",
    "#  'CMIP6.ScenarioMIP.EC-Earth-Consortium.EC-Earth3.ssp585.r124i1p1f1.day.psl.gr.v20200412',\n",
    "#  'CMIP6.ScenarioMIP.EC-Earth-Consortium.EC-Earth3.ssp245.r29i1p1f2.day.psl.gr.v20201015',\n",
    "#  'CMIP6.ScenarioMIP.EC-Earth-Consortium.EC-Earth3.ssp245.r7i1p1f2.day.pr.gr.v20210218',\n",
    "#  'CMIP6.ScenarioMIP.EC-Earth-Consortium.EC-Earth3.ssp245.r2i1p1f2.day.sfcWind.gr.v20201015',\n",
    "#  'CMIP6.ScenarioMIP.MIROC.MIROC6.ssp245.r4i1p1f1.day.pr.gn.v20200623',\n",
    "#  'CMIP6.ScenarioMIP.EC-Earth-Consortium.EC-Earth3.ssp245.r15i1p1f2.day.pr.gr.v20201015',\n",
    "#  'CMIP6.ScenarioMIP.EC-Earth-Consortium.EC-Earth3.ssp585.r111i1p1f1.day.psl.gr.v20200412',\n",
    "#  'CMIP6.ScenarioMIP.EC-Earth-Consortium.EC-Earth3.ssp585.r126i1p1f1.day.psl.gr.v20200412',\n",
    "#  'CMIP6.ScenarioMIP.EC-Earth-Consortium.EC-Earth3.ssp585.r136i1p1f1.day.psl.gr.v20200412',\n",
    "#  'CMIP6.ScenarioMIP.MIROC.MIROC6.ssp245.r20i1p1f1.day.pr.gn.v20200623',\n",
    "#  'CMIP6.ScenarioMIP.EC-Earth-Consortium.EC-Earth3.ssp585.r122i1p1f1.day.psl.gr.v20200412',\n",
    "#  'CMIP6.ScenarioMIP.EC-Earth-Consortium.EC-Earth3.ssp585.r131i1p1f1.day.psl.gr.v20200412',\n",
    "#  'CMIP6.ScenarioMIP.EC-Earth-Consortium.EC-Earth3.ssp245.r7i1p1f2.day.sfcWind.gr.v20210218',\n",
    "#  'CMIP6.ScenarioMIP.EC-Earth-Consortium.EC-Earth3.ssp245.r24i1p1f2.day.pr.gr.v20210407',\n",
    "#  'CMIP6.ScenarioMIP.EC-Earth-Consortium.EC-Earth3.ssp245.r1i1p1f2.day.psl.gr.v20201015',\n",
    "#  'CMIP6.ScenarioMIP.EC-Earth-Consortium.EC-Earth3.ssp585.r133i1p1f1.day.psl.gr.v20200412',\n",
    "#  'CMIP6.ScenarioMIP.MIROC.MIROC6.ssp245.r13i1p1f1.day.pr.gn.v20200623',\n",
    "#  'CMIP6.ScenarioMIP.EC-Earth-Consortium.EC-Earth3.ssp585.r141i1p1f1.day.psl.gr.v20200412',\n",
    "#  'CMIP6.ScenarioMIP.MIROC.MIROC6.ssp245.r19i1p1f1.day.pr.gn.v20200623',\n",
    "#  'CMIP6.ScenarioMIP.EC-Earth-Consortium.EC-Earth3.ssp245.r30i1p1f2.day.psl.gr.v20201015',\n",
    "#  'CMIP6.ScenarioMIP.EC-Earth-Consortium.EC-Earth3.ssp245.r18i1p1f2.day.pr.gr.v20210407',\n",
    "#  'CMIP6.ScenarioMIP.EC-Earth-Consortium.EC-Earth3.ssp585.r123i1p1f1.day.psl.gr.v20200412',\n",
    "#  'CMIP6.ScenarioMIP.EC-Earth-Consortium.EC-Earth3.ssp245.r8i1p1f2.day.sfcWind.gr.v20201015',\n",
    "#  'CMIP6.ScenarioMIP.EC-Earth-Consortium.EC-Earth3.ssp585.r121i1p1f1.day.psl.gr.v20200412',\n",
    "#  'CMIP6.ScenarioMIP.EC-Earth-Consortium.EC-Earth3.ssp245.r23i1p1f2.day.sfcWind.gr.v20201015',\n",
    "#  'CMIP6.ScenarioMIP.EC-Earth-Consortium.EC-Earth3.ssp585.r146i1p1f1.day.psl.gr.v20200412',\n",
    "#  'CMIP6.ScenarioMIP.EC-Earth-Consortium.EC-Earth3.ssp245.r16i1p1f2.day.pr.gr.v20210407',\n",
    "#  'CMIP6.ScenarioMIP.EC-Earth-Consortium.EC-Earth3.ssp245.r2i1p1f2.day.psl.gr.v20201015',\n",
    "#  'CMIP6.ScenarioMIP.EC-Earth-Consortium.EC-Earth3.ssp585.r149i1p1f1.day.psl.gr.v20200412',\n",
    "#  'CMIP6.ScenarioMIP.EC-Earth-Consortium.EC-Earth3.ssp245.r23i1p1f1.day.psl.gr.v20200407',\n",
    "#  'CMIP6.ScenarioMIP.EC-Earth-Consortium.EC-Earth3.ssp585.r145i1p1f1.day.psl.gr.v20200412',\n",
    "#  'CMIP6.ScenarioMIP.EC-Earth-Consortium.EC-Earth3.ssp245.r29i1p1f2.day.pr.gr.v20201015',\n",
    "#  'CMIP6.ScenarioMIP.MOHC.HadGEM3-GC31-MM.ssp585.r2i1p1f3.day.psl.gn.v20200515',\n",
    "#  'CMIP6.ScenarioMIP.EC-Earth-Consortium.EC-Earth3.ssp245.r12i1p1f2.day.pr.gr.v20201015',\n",
    "#  'CMIP6.ScenarioMIP.EC-Earth-Consortium.EC-Earth3.ssp245.r23i1p1f2.day.psl.gr.v20201015',\n",
    "#  'CMIP6.ScenarioMIP.MIROC.MIROC6.ssp245.r7i1p1f1.day.pr.gn.v20200623',\n",
    "#  'CMIP6.ScenarioMIP.EC-Earth-Consortium.EC-Earth3.ssp245.r7i1p1f2.day.psl.gr.v20210218',\n",
    "#  'CMIP6.ScenarioMIP.MIROC.MIROC6.ssp245.r14i1p1f1.day.pr.gn.v20200623',\n",
    "#  'CMIP6.ScenarioMIP.EC-Earth-Consortium.EC-Earth3.ssp585.r132i1p1f1.day.psl.gr.v20200412',\n",
    "#  'CMIP6.ScenarioMIP.MIROC.MIROC6.ssp245.r9i1p1f1.day.pr.gn.v20200623',\n",
    "#  'CMIP6.ScenarioMIP.EC-Earth-Consortium.EC-Earth3.ssp585.r118i1p1f1.day.psl.gr.v20200412',\n",
    "#  'CMIP6.ScenarioMIP.EC-Earth-Consortium.EC-Earth3.ssp245.r21i1p1f2.day.sfcWind.gr.v20201015',\n",
    "#  'CMIP6.ScenarioMIP.EC-Earth-Consortium.EC-Earth3.ssp245.r13i1p1f2.day.pr.gr.v20210407',\n",
    "#  'CMIP6.ScenarioMIP.EC-Earth-Consortium.EC-Earth3.ssp585.r115i1p1f1.day.psl.gr.v20200412',\n",
    "#  'CMIP6.ScenarioMIP.EC-Earth-Consortium.EC-Earth3.ssp245.r26i1p1f2.day.pr.gr.v20210407',\n",
    "#  'CMIP6.ScenarioMIP.EC-Earth-Consortium.EC-Earth3.ssp585.r129i1p1f1.day.psl.gr.v20200412',\n",
    "#  'CMIP6.ScenarioMIP.EC-Earth-Consortium.EC-Earth3.ssp245.r6i1p1f2.day.sfcWind.gr.v20210517',\n",
    "#  'CMIP6.ScenarioMIP.EC-Earth-Consortium.EC-Earth3.ssp245.r12i1p1f2.day.psl.gr.v20201015',\n",
    "#  'CMIP6.ScenarioMIP.EC-Earth-Consortium.EC-Earth3.ssp585.r113i1p1f1.day.psl.gr.v20200412',\n",
    "#  'CMIP6.ScenarioMIP.EC-Earth-Consortium.EC-Earth3.ssp585.r106i1p1f1.day.psl.gr.v20200412',\n",
    "#  'CMIP6.ScenarioMIP.EC-Earth-Consortium.EC-Earth3.ssp245.r15i1p1f2.day.psl.gr.v20201015',\n",
    "#  'CMIP6.ScenarioMIP.MIROC.MIROC6.ssp245.r12i1p1f1.day.pr.gn.v20200623',\n",
    "#  'CMIP6.ScenarioMIP.EC-Earth-Consortium.EC-Earth3.ssp585.r114i1p1f1.day.psl.gr.v20200412',\n",
    "#  'CMIP6.ScenarioMIP.MIROC.MIROC6.ssp245.r6i1p1f1.day.pr.gn.v20200623',\n",
    "#  'CMIP6.ScenarioMIP.EC-Earth-Consortium.EC-Earth3.ssp245.r25i1p1f2.day.pr.gr.v20201015',\n",
    "#  'CMIP6.ScenarioMIP.EC-Earth-Consortium.EC-Earth3.ssp585.r128i1p1f1.day.psl.gr.v20200412',\n",
    "#  'CMIP6.ScenarioMIP.EC-Earth-Consortium.EC-Earth3.ssp245.r12i1p1f2.day.sfcWind.gr.v20201015',\n",
    "#  'CMIP6.ScenarioMIP.MIROC.MIROC6.ssp245.r17i1p1f1.day.pr.gn.v20200623',\n",
    "#  'CMIP6.ScenarioMIP.EC-Earth-Consortium.EC-Earth3.ssp585.r147i1p1f1.day.psl.gr.v20200412',\n",
    "#  'CMIP6.ScenarioMIP.EC-Earth-Consortium.EC-Earth3.ssp245.r17i1p1f2.day.pr.gr.v20201015',\n",
    "#  'CMIP6.ScenarioMIP.EC-Earth-Consortium.EC-Earth3.ssp245.r27i1p1f2.day.pr.gr.v20201015',\n",
    "#  'CMIP6.ScenarioMIP.EC-Earth-Consortium.EC-Earth3.ssp245.r4i1p1f2.day.pr.gr.v20210407',\n",
    "#  'CMIP6.ScenarioMIP.EC-Earth-Consortium.EC-Earth3.ssp245.r21i1p1f2.day.psl.gr.v20201015',\n",
    "#  'CMIP6.ScenarioMIP.EC-Earth-Consortium.EC-Earth3.ssp585.r101i1p1f1.day.psl.gr.v20200412',\n",
    "#  'CMIP6.ScenarioMIP.EC-Earth-Consortium.EC-Earth3.ssp585.r130i1p1f1.day.psl.gr.v20200412',\n",
    "#  'CMIP6.ScenarioMIP.EC-Earth-Consortium.EC-Earth3.ssp245.r2i1p1f2.day.pr.gr.v20201015',\n",
    "#  'CMIP6.ScenarioMIP.EC-Earth-Consortium.EC-Earth3.ssp585.r150i1p1f1.day.psl.gr.v20200412',\n",
    "#  'CMIP6.ScenarioMIP.EC-Earth-Consortium.EC-Earth3.ssp245.r19i1p1f2.day.pr.gr.v20201015',\n",
    "#  'CMIP6.ScenarioMIP.EC-Earth-Consortium.EC-Earth3.ssp245.r17i1p1f2.day.psl.gr.v20201015',\n",
    "#  'CMIP6.ScenarioMIP.EC-Earth-Consortium.EC-Earth3.ssp585.r108i1p1f1.day.psl.gr.v20200412',\n",
    "#  'CMIP6.ScenarioMIP.EC-Earth-Consortium.EC-Earth3.ssp585.r144i1p1f1.day.psl.gr.v20200412',\n",
    "#  'CMIP6.ScenarioMIP.EC-Earth-Consortium.EC-Earth3.ssp245.r21i1p1f2.day.pr.gr.v20201015',\n",
    "#  'CMIP6.ScenarioMIP.EC-Earth-Consortium.EC-Earth3.ssp245.r25i1p1f2.day.sfcWind.gr.v20201015',\n",
    "#  'CMIP6.ScenarioMIP.EC-Earth-Consortium.EC-Earth3.ssp245.r10i1p1f2.day.psl.gr.v20210407',\n",
    "#  'CMIP6.ScenarioMIP.EC-Earth-Consortium.EC-Earth3.ssp585.r120i1p1f1.day.psl.gr.v20200412',\n",
    "#  'CMIP6.ScenarioMIP.EC-Earth-Consortium.EC-Earth3.ssp245.r19i1p1f2.day.psl.gr.v20201015',\n",
    "#  'CMIP6.ScenarioMIP.MRI.MRI-ESM2-0.ssp245.r5i3p1f1.day.pr.gn.v20201222',\n",
    "#  'CMIP6.ScenarioMIP.MIROC.MIROC6.ssp245.r5i1p1f1.day.pr.gn.v20200623',\n",
    "#  'CMIP6.ScenarioMIP.EC-Earth-Consortium.EC-Earth3.ssp585.r125i1p1f1.day.psl.gr.v20200412',\n",
    "#  'CMIP6.ScenarioMIP.MIROC.MIROC6.ssp245.r18i1p1f1.day.pr.gn.v20200623',\n",
    "#  'CMIP6.ScenarioMIP.EC-Earth-Consortium.EC-Earth3.ssp245.r29i1p1f2.day.sfcWind.gr.v20201015',\n",
    "#  'CMIP6.ScenarioMIP.EC-Earth-Consortium.EC-Earth3.ssp245.r28i1p1f2.day.pr.gr.v20210407',\n",
    "#  'CMIP6.ScenarioMIP.EC-Earth-Consortium.EC-Earth3.ssp245.r10i1p1f2.day.pr.gr.v20210407',\n",
    "#  'CMIP6.ScenarioMIP.EC-Earth-Consortium.EC-Earth3.ssp245.r1i1p1f2.day.sfcWind.gr.v20201015',\n",
    "#  'CMIP6.ScenarioMIP.EC-Earth-Consortium.EC-Earth3.ssp585.r112i1p1f1.day.psl.gr.v20200412',\n",
    "#  'CMIP6.ScenarioMIP.EC-Earth-Consortium.EC-Earth3.ssp245.r8i1p1f2.day.psl.gr.v20201015',\n",
    "#  'CMIP6.ScenarioMIP.EC-Earth-Consortium.EC-Earth3.ssp245.r30i1p1f2.day.pr.gr.v20201015',\n",
    "#  'CMIP6.ScenarioMIP.EC-Earth-Consortium.EC-Earth3.ssp245.r30i1p1f2.day.sfcWind.gr.v20201015',\n",
    "#  'CMIP6.ScenarioMIP.MIROC.MIROC6.ssp245.r10i1p1f1.day.pr.gn.v20200623',\n",
    "#  'CMIP6.ScenarioMIP.EC-Earth-Consortium.EC-Earth3.ssp585.r143i1p1f1.day.psl.gr.v20200412',\n",
    "#  'CMIP6.ScenarioMIP.EC-Earth-Consortium.EC-Earth3.ssp585.r139i1p1f1.day.psl.gr.v20200412',\n",
    "#  'CMIP6.ScenarioMIP.EC-Earth-Consortium.EC-Earth3.ssp245.r10i1p1f2.day.sfcWind.gr.v20210407',\n",
    "#  'CMIP6.ScenarioMIP.EC-Earth-Consortium.EC-Earth3.ssp245.r8i1p1f2.day.pr.gr.v20201015',\n",
    "#  'CMIP6.ScenarioMIP.EC-Earth-Consortium.EC-Earth3.ssp585.r137i1p1f1.day.psl.gr.v20200412',\n",
    "#  'CMIP6.ScenarioMIP.EC-Earth-Consortium.EC-Earth3.ssp245.r19i1p1f2.day.sfcWind.gr.v20201015',\n",
    "#  'CMIP6.ScenarioMIP.EC-Earth-Consortium.EC-Earth3.ssp245.r23i1p1f2.day.pr.gr.v20201015',\n",
    "#  'CMIP6.ScenarioMIP.EC-Earth-Consortium.EC-Earth3.ssp585.r140i1p1f1.day.psl.gr.v20200412', # fails with depenency issues? (only intermittent)\n",
    "#  'CMIP6.ScenarioMIP.EC-Earth-Consortium.EC-Earth3.ssp585.r148i1p1f1.day.psl.gr.v20200412',\n",
    "#  'CMIP6.ScenarioMIP.EC-Earth-Consortium.EC-Earth3.ssp245.r27i1p1f2.day.psl.gr.v20201015',\n",
    "#  'CMIP6.ScenarioMIP.EC-Earth-Consortium.EC-Earth3.ssp585.r119i1p1f1.day.psl.gr.v20200412',\n",
    "#  'CMIP6.ScenarioMIP.EC-Earth-Consortium.EC-Earth3.ssp585.r105i1p1f1.day.psl.gr.v20200412',\n",
    "#  'CMIP6.ScenarioMIP.MIROC.MIROC6.ssp245.r8i1p1f1.day.pr.gn.v20200623',\n",
    "#  'CMIP6.ScenarioMIP.EC-Earth-Consortium.EC-Earth3.ssp585.r116i1p1f1.day.psl.gr.v20200412',\n",
    "#  'CMIP6.ScenarioMIP.MIROC.MIROC6.ssp245.r11i1p1f1.day.pr.gn.v20200623',\n",
    "#  'CMIP6.ScenarioMIP.MIROC.MIROC6.ssp245.r15i1p1f1.day.pr.gn.v20200623',\n",
    "#  'CMIP6.ScenarioMIP.EC-Earth-Consortium.EC-Earth3.ssp245.r20i1p1f2.day.pr.gr.v20210407',\n",
    "#  'CMIP6.ScenarioMIP.EC-Earth-Consortium.EC-Earth3.ssp245.r22i1p1f2.day.pr.gr.v20210407',\n",
    "#  'CMIP6.ScenarioMIP.EC-Earth-Consortium.EC-Earth3.ssp585.r117i1p1f1.day.psl.gr.v20200412',\n",
    "#  'CMIP6.ScenarioMIP.EC-Earth-Consortium.EC-Earth3.ssp585.r107i1p1f1.day.psl.gr.v20200412',\n",
    "#  'CMIP6.ScenarioMIP.MRI.MRI-ESM2-0.ssp245.r3i3p1f1.day.pr.gn.v20201222',\n",
    "#  'CMIP6.ScenarioMIP.MIROC.MIROC6.ssp245.r16i1p1f1.day.pr.gn.v20200623',\n",
    "#  'CMIP6.CMIP.MRI.MRI-ESM2-0.historical.r4i1p1f1.day.pr.gn.v20190603',\n",
    "#  'CMIP6.CMIP.MRI.MRI-ESM2-0.historical.r5i1p1f1.day.pr.gn.v20190603',\n",
    "#  'CMIP6.CMIP.MRI.MRI-ESM2-0.historical.r2i1p1f1.day.pr.gn.v20190603',\n",
    " 'CMIP6.CMIP.MRI.MRI-ESM2-0.historical.r3i1p1f1.day.pr.gn.v20190603',\n",
    "       ]\n",
    "\n",
    "\n",
    "# iids = [\n",
    "#     # 'CMIP6.ScenarioMIP.MOHC.HadGEM3-GC31-MM.ssp585.r2i1p1f3.day.psl.gn.v20200515',\n",
    "#     # 'CMIP6.ScenarioMIP.MOHC.HadGEM3-GC31-MM.ssp585.r3i1p1f3.day.psl.gn.v20200507',\n",
    "#     # 'CMIP6.ScenarioMIP.EC-Earth-Consortium.EC-Earth3.ssp585.r140i1p1f1.day.psl.gr.v20200412', # fails with depenency issues?\n",
    "#     # 'CMIP6.CMIP.IPSL.IPSL-CM5A2-INCA.historical.r1i1p1f1.Omon.zmeso.gn.v20200729',\n",
    "# ]\n",
    "\n",
    "# ## Testing 'throwing mem at the problem'\n",
    "# high_mem_iids = [\n",
    "#     'CMIP6.CMIP.NCC.NorESM2-LM.historical.r1i1p1f1.Omon.umo.gn.v20190815',\n",
    "#     'CMIP6.CMIP.IPSL.IPSL-CM6A-LR.historical.r1i1p1f1.Omon.zmeso.gn.v20180803',\n",
    "# ]\n",
    "# iids = high_mem_iids\n",
    "# # I know these failed with high mem use :https://console.cloud.google.com/dataflow/jobs/us-central1/2023-03-29_16_00_29-11923246449479218691;graphView=0?project=leap-pangeo&authuser=2&pageState=(%22dfTime%22:(%22l%22:%22dfJobMaxTime%22))\n",
    "# # and https://console.cloud.google.com/dataflow/jobs/us-central1/2023-03-29_16_29_49-6440994980175925686;graphView=0?project=leap-pangeo&authuser=2&pageState=(%22dfTime%22:(%22l%22:%22dfJobMaxTime%22))\n",
    "# # lets see if these beast machines can solve this issue?\n",
    "# # maybe Ryans PR will alleviate this? It seems to do!\n",
    "\n",
    "my_env = os.environ.copy()\n",
    "my_env[\"GOOGLE_APPLICATION_CREDENTIALS\"] = \"/Users/juliusbusecke/Downloads/keys/leap-pangeo-dataflow_service_account.json\"\n",
    "\n",
    "def submit_job(repo, ref, f_name, iid, jobname, machine_type):\n",
    "    inject_dict = {\n",
    "        \"get_iid\": {\"iid\":iid}, \n",
    "        \"get_jobname\":{\"jobname\": jobname}\n",
    "    }\n",
    "\n",
    "    cmd = [\n",
    "        \"pangeo-forge-runner\",\n",
    "        \"bake\",\n",
    "        \"--repo\",\n",
    "        repo,\n",
    "        \"--ref\",\n",
    "        ref,\n",
    "        \"--json\",\n",
    "        \"-f\",\n",
    "        f_name,\n",
    "        \"--Bake.inject\",\n",
    "        json.dumps(inject_dict),\n",
    "        \"--Bake.job_name\",\n",
    "        jobname,\n",
    "        \"--DataflowBakery.machine_type\", # i hope this is just ignored in the local case?\n",
    "        machine_type,\n",
    "    ]\n",
    "    print(\"\\nCurrent environment:\")\n",
    "    \n",
    "\n",
    "    print(\"\\nSubmitting job...\")\n",
    "    print(f\"{' '.join(cmd)}\")\n",
    "    submit_proc = subprocess.run(cmd, capture_output=True, env=my_env)\n",
    "    return submit_proc\n",
    "\n",
    "def print_stdout(submit_proc):\n",
    "    for line in submit_proc.stdout.decode().splitlines():\n",
    "        json_line = json.loads(line)\n",
    "        for k in json_line.keys():\n",
    "            for subline in json_line[k].splitlines():\n",
    "                print(subline)\n",
    "\n",
    "def print_stderr(submit_proc):\n",
    "    for line in submit_proc.stderr.decode().splitlines():\n",
    "        print(line)\n",
    "\n",
    "\n",
    "\n",
    "for iid in iids:\n",
    "    print(f\"\"\"Submitting ({iid})\"\"\")\n",
    "    unique_iid = iid+'.'+''.join(random.choices(alphabet, k=8))\n",
    "    jobname=shorten_id(unique_iid)\n",
    "    # machine_type = \"e2-highmem-16\" # Ill have to experiment with that\n",
    "    # machine_type = \"e2-highmem-8\" # seems i had some other errors here...\n",
    "    # As far as I can see in the recent 'job metrics', we never go above 1 core. So we only need the beast machines for the larger models\n",
    "    # machine_type = \"e2-standard-2\"\n",
    "    machine_type = \"n2-highmem-2\"\n",
    "    # if iid in high_mem_iids:\n",
    "    #     machine_type = \"n2-highmem-16\"\n",
    "    # there are definitely some jobs failing with high mem useage. TODO: I need a way to override this for some of them...\n",
    "    \n",
    "    try:\n",
    "        # check environment\n",
    "\n",
    "        submit_proc = submit_job(repo, ref, f_name, iid, jobname, machine_type)\n",
    "        assert submit_proc.returncode == 0\n",
    "        lastline = json.loads(submit_proc.stdout.decode().splitlines()[-1])\n",
    "        assert lastline[\"status\"] == \"submitted\"\n",
    "        job_id = lastline[\"job_id\"]\n",
    "        job_name = lastline[\"job_name\"]\n",
    "        \n",
    "        print(f\"Job submitted with {job_id = }\")\n",
    "        with open('submitted_iids.txt', 'a') as f:\n",
    "            f.write(iid+'\\n')\n",
    "    except Exception as err:\n",
    "        print(f'Submission FAILED with {err}')\n",
    "    print('STDOUT')\n",
    "    print_stdout(submit_proc)\n",
    "    print('STDERR')\n",
    "    print_stderr(submit_proc)"
   ]
  },
  {
   "cell_type": "code",
   "execution_count": null,
   "id": "824c37b8-76f5-4fcb-af44-0175786d9f17",
   "metadata": {
    "tags": []
   },
   "outputs": [
    {
     "data": {
      "text/plain": [
       "129"
      ]
     },
     "execution_count": 6,
     "metadata": {},
     "output_type": "execute_result"
    }
   ],
   "source": [
    "len(iids)"
   ]
  },
  {
   "cell_type": "markdown",
   "id": "d05e89f3",
   "metadata": {},
   "source": []
  },
  {
   "cell_type": "markdown",
   "id": "5d371fe9",
   "metadata": {},
   "source": []
  },
  {
   "cell_type": "markdown",
   "id": "4890b4f5",
   "metadata": {},
   "source": []
  },
  {
   "cell_type": "markdown",
   "id": "51885f30",
   "metadata": {},
   "source": []
  },
  {
   "cell_type": "markdown",
   "id": "1a0eb088",
   "metadata": {},
   "source": []
  },
  {
   "cell_type": "code",
   "execution_count": null,
   "id": "a1523943-7fae-475c-b1b9-e641617d0509",
   "metadata": {},
   "outputs": [],
   "source": [
    "# for line in submit_proc.stderr.decode().splitlines():\n",
    "#     # print(json.loads(line)['message'])\n",
    "#     print(line)"
   ]
  },
  {
   "cell_type": "code",
   "execution_count": null,
   "id": "24f99c42-3253-4d67-82fe-9a9fb81955ec",
   "metadata": {},
   "outputs": [],
   "source": [
    "# err"
   ]
  },
  {
   "cell_type": "code",
   "execution_count": 6,
   "id": "9ef32ac2-93d8-4f89-aafa-32202caf62fd",
   "metadata": {},
   "outputs": [],
   "source": [
    "import xarray as xr"
   ]
  },
  {
   "cell_type": "code",
   "execution_count": 7,
   "id": "f9d9f660",
   "metadata": {},
   "outputs": [
    {
     "ename": "FileNotFoundError",
     "evalue": "No such file or directory: '/Users/juliusbusecke/Code/CMIP6-LEAP-feedstock/local_storage/target/CMIP6.CMIP.MRI.MRI-ESM2-0.historical.r3i1p1f1.day.pr.gn.v20190603.zarr'",
     "output_type": "error",
     "traceback": [
      "\u001b[0;31m---------------------------------------------------------------------------\u001b[0m",
      "\u001b[0;31mKeyError\u001b[0m                                  Traceback (most recent call last)",
      "File \u001b[0;32m~/miniconda/envs/cmip6-leap-feedstock/lib/python3.9/site-packages/xarray/backends/zarr.py:427\u001b[0m, in \u001b[0;36mZarrStore.open_group\u001b[0;34m(cls, store, mode, synchronizer, group, consolidated, consolidate_on_close, chunk_store, storage_options, append_dim, write_region, safe_chunks, stacklevel, zarr_version)\u001b[0m\n\u001b[1;32m    426\u001b[0m \u001b[39mtry\u001b[39;00m:\n\u001b[0;32m--> 427\u001b[0m     zarr_group \u001b[39m=\u001b[39m zarr\u001b[39m.\u001b[39;49mopen_consolidated(store, \u001b[39m*\u001b[39;49m\u001b[39m*\u001b[39;49mopen_kwargs)\n\u001b[1;32m    428\u001b[0m \u001b[39mexcept\u001b[39;00m \u001b[39mKeyError\u001b[39;00m:\n",
      "File \u001b[0;32m~/miniconda/envs/cmip6-leap-feedstock/lib/python3.9/site-packages/zarr/convenience.py:1351\u001b[0m, in \u001b[0;36mopen_consolidated\u001b[0;34m(store, metadata_key, mode, **kwargs)\u001b[0m\n\u001b[1;32m   1350\u001b[0m \u001b[39m# setup metadata store\u001b[39;00m\n\u001b[0;32m-> 1351\u001b[0m meta_store \u001b[39m=\u001b[39m ConsolidatedStoreClass(store, metadata_key\u001b[39m=\u001b[39;49mmetadata_key)\n\u001b[1;32m   1353\u001b[0m \u001b[39m# pass through\u001b[39;00m\n",
      "File \u001b[0;32m~/miniconda/envs/cmip6-leap-feedstock/lib/python3.9/site-packages/zarr/storage.py:2947\u001b[0m, in \u001b[0;36mConsolidatedMetadataStore.__init__\u001b[0;34m(self, store, metadata_key)\u001b[0m\n\u001b[1;32m   2946\u001b[0m \u001b[39m# retrieve consolidated metadata\u001b[39;00m\n\u001b[0;32m-> 2947\u001b[0m meta \u001b[39m=\u001b[39m json_loads(\u001b[39mself\u001b[39;49m\u001b[39m.\u001b[39;49mstore[metadata_key])\n\u001b[1;32m   2949\u001b[0m \u001b[39m# check format of consolidated metadata\u001b[39;00m\n",
      "File \u001b[0;32m~/miniconda/envs/cmip6-leap-feedstock/lib/python3.9/site-packages/zarr/storage.py:1113\u001b[0m, in \u001b[0;36mDirectoryStore.__getitem__\u001b[0;34m(self, key)\u001b[0m\n\u001b[1;32m   1112\u001b[0m \u001b[39melse\u001b[39;00m:\n\u001b[0;32m-> 1113\u001b[0m     \u001b[39mraise\u001b[39;00m \u001b[39mKeyError\u001b[39;00m(key)\n",
      "\u001b[0;31mKeyError\u001b[0m: '.zmetadata'",
      "\nDuring handling of the above exception, another exception occurred:\n",
      "\u001b[0;31mGroupNotFoundError\u001b[0m                        Traceback (most recent call last)",
      "File \u001b[0;32m~/miniconda/envs/cmip6-leap-feedstock/lib/python3.9/site-packages/xarray/backends/zarr.py:430\u001b[0m, in \u001b[0;36mZarrStore.open_group\u001b[0;34m(cls, store, mode, synchronizer, group, consolidated, consolidate_on_close, chunk_store, storage_options, append_dim, write_region, safe_chunks, stacklevel, zarr_version)\u001b[0m\n\u001b[1;32m    429\u001b[0m \u001b[39mtry\u001b[39;00m:\n\u001b[0;32m--> 430\u001b[0m     zarr_group \u001b[39m=\u001b[39m zarr\u001b[39m.\u001b[39;49mopen_group(store, \u001b[39m*\u001b[39;49m\u001b[39m*\u001b[39;49mopen_kwargs)\n\u001b[1;32m    431\u001b[0m     warnings\u001b[39m.\u001b[39mwarn(\n\u001b[1;32m    432\u001b[0m         \u001b[39m\"\u001b[39m\u001b[39mFailed to open Zarr store with consolidated metadata, \u001b[39m\u001b[39m\"\u001b[39m\n\u001b[1;32m    433\u001b[0m         \u001b[39m\"\u001b[39m\u001b[39mbut successfully read with non-consolidated metadata. \u001b[39m\u001b[39m\"\u001b[39m\n\u001b[0;32m   (...)\u001b[0m\n\u001b[1;32m    444\u001b[0m         stacklevel\u001b[39m=\u001b[39mstacklevel,\n\u001b[1;32m    445\u001b[0m     )\n",
      "File \u001b[0;32m~/miniconda/envs/cmip6-leap-feedstock/lib/python3.9/site-packages/zarr/hierarchy.py:1525\u001b[0m, in \u001b[0;36mopen_group\u001b[0;34m(store, mode, cache_attrs, synchronizer, path, chunk_store, storage_options, zarr_version, meta_array)\u001b[0m\n\u001b[1;32m   1524\u001b[0m             \u001b[39mraise\u001b[39;00m ContainsArrayError(path)\n\u001b[0;32m-> 1525\u001b[0m         \u001b[39mraise\u001b[39;00m GroupNotFoundError(path)\n\u001b[1;32m   1527\u001b[0m \u001b[39melif\u001b[39;00m mode \u001b[39m==\u001b[39m \u001b[39m\"\u001b[39m\u001b[39mw\u001b[39m\u001b[39m\"\u001b[39m:\n",
      "\u001b[0;31mGroupNotFoundError\u001b[0m: group not found at path ''",
      "\nDuring handling of the above exception, another exception occurred:\n",
      "\u001b[0;31mFileNotFoundError\u001b[0m                         Traceback (most recent call last)",
      "Cell \u001b[0;32mIn[7], line 1\u001b[0m\n\u001b[0;32m----> 1\u001b[0m xr\u001b[39m.\u001b[39;49mopen_dataset(\u001b[39m'\u001b[39;49m\u001b[39m/Users/juliusbusecke/Code/CMIP6-LEAP-feedstock/local_storage/target/CMIP6.CMIP.MRI.MRI-ESM2-0.historical.r3i1p1f1.day.pr.gn.v20190603.zarr\u001b[39;49m\u001b[39m'\u001b[39;49m, engine\u001b[39m=\u001b[39;49m\u001b[39m'\u001b[39;49m\u001b[39mzarr\u001b[39;49m\u001b[39m'\u001b[39;49m)\n",
      "File \u001b[0;32m~/miniconda/envs/cmip6-leap-feedstock/lib/python3.9/site-packages/xarray/backends/api.py:570\u001b[0m, in \u001b[0;36mopen_dataset\u001b[0;34m(filename_or_obj, engine, chunks, cache, decode_cf, mask_and_scale, decode_times, decode_timedelta, use_cftime, concat_characters, decode_coords, drop_variables, inline_array, chunked_array_type, from_array_kwargs, backend_kwargs, **kwargs)\u001b[0m\n\u001b[1;32m    558\u001b[0m decoders \u001b[39m=\u001b[39m _resolve_decoders_kwargs(\n\u001b[1;32m    559\u001b[0m     decode_cf,\n\u001b[1;32m    560\u001b[0m     open_backend_dataset_parameters\u001b[39m=\u001b[39mbackend\u001b[39m.\u001b[39mopen_dataset_parameters,\n\u001b[0;32m   (...)\u001b[0m\n\u001b[1;32m    566\u001b[0m     decode_coords\u001b[39m=\u001b[39mdecode_coords,\n\u001b[1;32m    567\u001b[0m )\n\u001b[1;32m    569\u001b[0m overwrite_encoded_chunks \u001b[39m=\u001b[39m kwargs\u001b[39m.\u001b[39mpop(\u001b[39m\"\u001b[39m\u001b[39moverwrite_encoded_chunks\u001b[39m\u001b[39m\"\u001b[39m, \u001b[39mNone\u001b[39;00m)\n\u001b[0;32m--> 570\u001b[0m backend_ds \u001b[39m=\u001b[39m backend\u001b[39m.\u001b[39;49mopen_dataset(\n\u001b[1;32m    571\u001b[0m     filename_or_obj,\n\u001b[1;32m    572\u001b[0m     drop_variables\u001b[39m=\u001b[39;49mdrop_variables,\n\u001b[1;32m    573\u001b[0m     \u001b[39m*\u001b[39;49m\u001b[39m*\u001b[39;49mdecoders,\n\u001b[1;32m    574\u001b[0m     \u001b[39m*\u001b[39;49m\u001b[39m*\u001b[39;49mkwargs,\n\u001b[1;32m    575\u001b[0m )\n\u001b[1;32m    576\u001b[0m ds \u001b[39m=\u001b[39m _dataset_from_backend_dataset(\n\u001b[1;32m    577\u001b[0m     backend_ds,\n\u001b[1;32m    578\u001b[0m     filename_or_obj,\n\u001b[0;32m   (...)\u001b[0m\n\u001b[1;32m    588\u001b[0m     \u001b[39m*\u001b[39m\u001b[39m*\u001b[39mkwargs,\n\u001b[1;32m    589\u001b[0m )\n\u001b[1;32m    590\u001b[0m \u001b[39mreturn\u001b[39;00m ds\n",
      "File \u001b[0;32m~/miniconda/envs/cmip6-leap-feedstock/lib/python3.9/site-packages/xarray/backends/zarr.py:934\u001b[0m, in \u001b[0;36mZarrBackendEntrypoint.open_dataset\u001b[0;34m(self, filename_or_obj, mask_and_scale, decode_times, concat_characters, decode_coords, drop_variables, use_cftime, decode_timedelta, group, mode, synchronizer, consolidated, chunk_store, storage_options, stacklevel, zarr_version)\u001b[0m\n\u001b[1;32m    913\u001b[0m \u001b[39mdef\u001b[39;00m \u001b[39mopen_dataset\u001b[39m(  \u001b[39m# type: ignore[override]  # allow LSP violation, not supporting **kwargs\u001b[39;00m\n\u001b[1;32m    914\u001b[0m     \u001b[39mself\u001b[39m,\n\u001b[1;32m    915\u001b[0m     filename_or_obj: \u001b[39mstr\u001b[39m \u001b[39m|\u001b[39m os\u001b[39m.\u001b[39mPathLike[Any] \u001b[39m|\u001b[39m BufferedIOBase \u001b[39m|\u001b[39m AbstractDataStore,\n\u001b[0;32m   (...)\u001b[0m\n\u001b[1;32m    931\u001b[0m     zarr_version\u001b[39m=\u001b[39m\u001b[39mNone\u001b[39;00m,\n\u001b[1;32m    932\u001b[0m ) \u001b[39m-\u001b[39m\u001b[39m>\u001b[39m Dataset:\n\u001b[1;32m    933\u001b[0m     filename_or_obj \u001b[39m=\u001b[39m _normalize_path(filename_or_obj)\n\u001b[0;32m--> 934\u001b[0m     store \u001b[39m=\u001b[39m ZarrStore\u001b[39m.\u001b[39;49mopen_group(\n\u001b[1;32m    935\u001b[0m         filename_or_obj,\n\u001b[1;32m    936\u001b[0m         group\u001b[39m=\u001b[39;49mgroup,\n\u001b[1;32m    937\u001b[0m         mode\u001b[39m=\u001b[39;49mmode,\n\u001b[1;32m    938\u001b[0m         synchronizer\u001b[39m=\u001b[39;49msynchronizer,\n\u001b[1;32m    939\u001b[0m         consolidated\u001b[39m=\u001b[39;49mconsolidated,\n\u001b[1;32m    940\u001b[0m         consolidate_on_close\u001b[39m=\u001b[39;49m\u001b[39mFalse\u001b[39;49;00m,\n\u001b[1;32m    941\u001b[0m         chunk_store\u001b[39m=\u001b[39;49mchunk_store,\n\u001b[1;32m    942\u001b[0m         storage_options\u001b[39m=\u001b[39;49mstorage_options,\n\u001b[1;32m    943\u001b[0m         stacklevel\u001b[39m=\u001b[39;49mstacklevel \u001b[39m+\u001b[39;49m \u001b[39m1\u001b[39;49m,\n\u001b[1;32m    944\u001b[0m         zarr_version\u001b[39m=\u001b[39;49mzarr_version,\n\u001b[1;32m    945\u001b[0m     )\n\u001b[1;32m    947\u001b[0m     store_entrypoint \u001b[39m=\u001b[39m StoreBackendEntrypoint()\n\u001b[1;32m    948\u001b[0m     \u001b[39mwith\u001b[39;00m close_on_error(store):\n",
      "File \u001b[0;32m~/miniconda/envs/cmip6-leap-feedstock/lib/python3.9/site-packages/xarray/backends/zarr.py:447\u001b[0m, in \u001b[0;36mZarrStore.open_group\u001b[0;34m(cls, store, mode, synchronizer, group, consolidated, consolidate_on_close, chunk_store, storage_options, append_dim, write_region, safe_chunks, stacklevel, zarr_version)\u001b[0m\n\u001b[1;32m    431\u001b[0m             warnings\u001b[39m.\u001b[39mwarn(\n\u001b[1;32m    432\u001b[0m                 \u001b[39m\"\u001b[39m\u001b[39mFailed to open Zarr store with consolidated metadata, \u001b[39m\u001b[39m\"\u001b[39m\n\u001b[1;32m    433\u001b[0m                 \u001b[39m\"\u001b[39m\u001b[39mbut successfully read with non-consolidated metadata. \u001b[39m\u001b[39m\"\u001b[39m\n\u001b[0;32m   (...)\u001b[0m\n\u001b[1;32m    444\u001b[0m                 stacklevel\u001b[39m=\u001b[39mstacklevel,\n\u001b[1;32m    445\u001b[0m             )\n\u001b[1;32m    446\u001b[0m         \u001b[39mexcept\u001b[39;00m zarr\u001b[39m.\u001b[39merrors\u001b[39m.\u001b[39mGroupNotFoundError:\n\u001b[0;32m--> 447\u001b[0m             \u001b[39mraise\u001b[39;00m \u001b[39mFileNotFoundError\u001b[39;00m(\u001b[39mf\u001b[39m\u001b[39m\"\u001b[39m\u001b[39mNo such file or directory: \u001b[39m\u001b[39m'\u001b[39m\u001b[39m{\u001b[39;00mstore\u001b[39m}\u001b[39;00m\u001b[39m'\u001b[39m\u001b[39m\"\u001b[39m)\n\u001b[1;32m    448\u001b[0m \u001b[39melif\u001b[39;00m consolidated:\n\u001b[1;32m    449\u001b[0m     \u001b[39m# TODO: an option to pass the metadata_key keyword\u001b[39;00m\n\u001b[1;32m    450\u001b[0m     zarr_group \u001b[39m=\u001b[39m zarr\u001b[39m.\u001b[39mopen_consolidated(store, \u001b[39m*\u001b[39m\u001b[39m*\u001b[39mopen_kwargs)\n",
      "\u001b[0;31mFileNotFoundError\u001b[0m: No such file or directory: '/Users/juliusbusecke/Code/CMIP6-LEAP-feedstock/local_storage/target/CMIP6.CMIP.MRI.MRI-ESM2-0.historical.r3i1p1f1.day.pr.gn.v20190603.zarr'"
     ]
    }
   ],
   "source": [
    "xr.open_dataset('/Users/juliusbusecke/Code/CMIP6-LEAP-feedstock/local_storage/target/CMIP6.CMIP.MRI.MRI-ESM2-0.historical.r3i1p1f1.day.pr.gn.v20190603.zarr', engine='zarr')"
   ]
  },
  {
   "cell_type": "code",
   "execution_count": 10,
   "id": "1604ef4b",
   "metadata": {},
   "outputs": [
    {
     "ename": "SyntaxError",
     "evalue": "invalid syntax (2036255239.py, line 1)",
     "output_type": "error",
     "traceback": [
      "\u001b[0;31m---------------------------------------------------------------------------\u001b[0m",
      "\u001b[0;31mSyntaxError\u001b[0m                               Traceback (most recent call last)",
      "File \u001b[0;32m~/miniconda/envs/cmip6-leap-feedstock/lib/python3.9/site-packages/IPython/core/compilerop.py:86\u001b[0m, in \u001b[0;36mCachingCompiler.ast_parse\u001b[0;34m(self, source, filename, symbol)\u001b[0m\n\u001b[1;32m     81\u001b[0m \u001b[39mdef\u001b[39;00m \u001b[39mast_parse\u001b[39m(\u001b[39mself\u001b[39m, source, filename\u001b[39m=\u001b[39m\u001b[39m'\u001b[39m\u001b[39m<unknown>\u001b[39m\u001b[39m'\u001b[39m, symbol\u001b[39m=\u001b[39m\u001b[39m'\u001b[39m\u001b[39mexec\u001b[39m\u001b[39m'\u001b[39m):\n\u001b[1;32m     82\u001b[0m \u001b[39m    \u001b[39m\u001b[39m\"\"\"Parse code to an AST with the current compiler flags active.\u001b[39;00m\n\u001b[1;32m     83\u001b[0m \n\u001b[1;32m     84\u001b[0m \u001b[39m    Arguments are exactly the same as ast.parse (in the standard library),\u001b[39;00m\n\u001b[1;32m     85\u001b[0m \u001b[39m    and are passed to the built-in compile function.\"\"\"\u001b[39;00m\n\u001b[0;32m---> 86\u001b[0m     \u001b[39mreturn\u001b[39;00m \u001b[39mcompile\u001b[39;49m(source, filename, symbol, \u001b[39mself\u001b[39;49m\u001b[39m.\u001b[39;49mflags \u001b[39m|\u001b[39;49m PyCF_ONLY_AST, \u001b[39m1\u001b[39;49m)\n",
      "\u001b[0;31mSyntaxError\u001b[0m: invalid syntax (2036255239.py, line 1)"
     ]
    }
   ],
   "source": [
    "str = 'Error during running: Traceback (most recent call last):\\n  File \\\"/Users/juliusbusecke/miniconda/envs/cmip6-leap-feedstock/lib/python3.9/site-packages/apache_beam/runners/common.py\\\", line 1423, in process\\n    return self.do_fn_invoker.invoke_process(windowed_value)\\n  File \\\"/Users/juliusbusecke/miniconda/envs/cmip6-leap-feedstock/lib/python3.9/site-packages/apache_beam/runners/common.py\\\", line 839, in invoke_process\\n    self._invoke_process_per_window(\\n  File \\\"/Users/juliusbusecke/miniconda/envs/cmip6-leap-feedstock/lib/python3.9/site-packages/apache_beam/runners/common.py\\\", line 985, in _invoke_process_per_window\\n    self.process_method(*args_for_process, **kwargs_for_process),\\n  File \\\"/Users/juliusbusecke/miniconda/envs/cmip6-leap-feedstock/lib/python3.9/site-packages/apache_beam/transforms/core.py\\\", line 1961, in <lambda>\\n    wrapper = lambda x, *args, **kwargs: [fn(x, *args, **kwargs)]\\n  File \\\"/Users/juliusbusecke/miniconda/envs/cmip6-leap-feedstock/lib/python3.9/site-packages/pangeo_forge_recipes/transforms.py\\\", line 71, in wrapper\\n    result = func(item, **kwargs)\\n  File \\\"/Users/juliusbusecke/miniconda/envs/cmip6-leap-feedstock/lib/python3.9/site-packages/pangeo_forge_recipes/openers.py\\\", line 32, in open_url\\n    cache.cache_file(url, secrets, **kw)\\n  File \\\"/Users/juliusbusecke/miniconda/envs/cmip6-leap-feedstock/lib/python3.9/site-packages/pangeo_forge_recipes/storage.py\\\", line 188, in cache_file\\n    _copy_btw_filesystems(input_opener, target_opener)\\n  File \\\"/Users/juliusbusecke/miniconda/envs/cmip6-leap-feedstock/lib/python3.9/site-packages/pangeo_forge_recipes/storage.py\\\", line 38, in _copy_btw_filesystems\\n    data = source.read(BLOCK_SIZE)\\n  File \\\"/Users/juliusbusecke/miniconda/envs/cmip6-leap-feedstock/lib/python3.9/site-packages/fsspec/implementations/http.py\\\", line 600, in read\\n    return super().read(length)\\n  File \\\"/Users/juliusbusecke/miniconda/envs/cmip6-leap-feedstock/lib/python3.9/site-packages/fsspec/spec.py\\\", line 1790, in read\\n    out = self.cache._fetch(self.loc, self.loc + length)\\n  File \\\"/Users/juliusbusecke/miniconda/envs/cmip6-leap-feedstock/lib/python3.9/site-packages/fsspec/caching.py\\\", line 379, in _fetch\\n    self.cache = self.fetcher(start, bend)\\n  File \\\"/Users/juliusbusecke/miniconda/envs/cmip6-leap-feedstock/lib/python3.9/site-packages/fsspec/asyn.py\\\", line 121, in wrapper\\n    return sync(self.loop, func, *args, **kwargs)\\n  File \\\"/Users/juliusbusecke/miniconda/envs/cmip6-leap-feedstock/lib/python3.9/site-packages/fsspec/asyn.py\\\", line 106, in sync\\n    raise return_result\\n  File \\\"/Users/juliusbusecke/miniconda/envs/cmip6-leap-feedstock/lib/python3.9/site-packages/fsspec/asyn.py\\\", line 61, in _runner\\n    result[0] = await coro\\n  File \\\"/Users/juliusbusecke/miniconda/envs/cmip6-leap-feedstock/lib/python3.9/site-packages/fsspec/implementations/http.py\\\", line 669, in async_fetch_range\\n    out = await r.read()\\n  File \\\"/Users/juliusbusecke/miniconda/envs/cmip6-leap-feedstock/lib/python3.9/site-packages/aiohttp/client_reqrep.py\\\", line 1037, in read\\n    self._body = await self.content.read()\\n  File \\\"/Users/juliusbusecke/miniconda/envs/cmip6-leap-feedstock/lib/python3.9/site-packages/aiohttp/streams.py\\\", line 375, in read\\n    block = await self.readany()\\n  File \\\"/Users/juliusbusecke/miniconda/envs/cmip6-leap-feedstock/lib/python3.9/site-packages/aiohttp/streams.py\\\", line 397, in readany\\n    await self._wait(\\\"readany\\\")\\n  File \\\"/Users/juliusbusecke/miniconda/envs/cmip6-leap-feedstock/lib/python3.9/site-packages/aiohttp/streams.py\\\", line 304, in _wait\\n    await waiter\\naiohttp.client_exceptions.ClientPayloadError: Response payload is not completed\\n\\nDuring handling of the above exception, another exception occurred:\\n\\nTraceback (most recent call last):\\n  File \\\"/Users/juliusbusecke/miniconda/envs/cmip6-leap-feedstock/lib/python3.9/site-packages/apache_beam/runners/worker/sdk_worker.py\\\", line 297, in _execute\\n    response = task()\\n  File \\\"/Users/juliusbusecke/miniconda/envs/cmip6-leap-feedstock/lib/python3.9/site-packages/apache_beam/runners/worker/sdk_worker.py\\\", line 372, in <lambda>\\n    lambda: self.create_worker().do_instruction(request), request)\\n  File \\\"/Users/juliusbusecke/miniconda/envs/cmip6-leap-feedstock/lib/python3.9/site-packages/apache_beam/runners/worker/sdk_worker.py\\\", line 625, in do_instruction\\n    return getattr(self, request_type)(\\n  File \\\"/Users/juliusbusecke/miniconda/envs/cmip6-leap-feedstock/lib/python3.9/site-packages/apache_beam/runners/worker/sdk_worker.py\\\", line 663, in process_bundle\\n    bundle_processor.process_bundle(instruction_id))\\n  File \\\"/Users/juliusbusecke/miniconda/envs/cmip6-leap-feedstock/lib/python3.9/site-packages/apache_beam/runners/worker/bundle_processor.py\\\", line 1040, in process_bundle\\n    input_op_by_transform_id[element.transform_id].process_encoded(\\n  File \\\"/Users/juliusbusecke/miniconda/envs/cmip6-leap-feedstock/lib/python3.9/site-packages/apache_beam/runners/worker/bundle_processor.py\\\", line 232, in process_encoded\\n    self.output(decoded_value)\\n  File \\\"/Users/juliusbusecke/miniconda/envs/cmip6-leap-feedstock/lib/python3.9/site-packages/apache_beam/runners/worker/operations.py\\\", line 570, in output\\n    _cast_to_receiver(self.receivers[output_index]).receive(windowed_value)\\n  File \\\"/Users/juliusbusecke/miniconda/envs/cmip6-leap-feedstock/lib/python3.9/site-packages/apache_beam/runners/worker/operations.py\\\", line 264, in receive\\n    self.consumer.process(windowed_value)\\n  File \\\"/Users/juliusbusecke/miniconda/envs/cmip6-leap-feedstock/lib/python3.9/site-packages/apache_beam/runners/worker/operations.py\\\", line 952, in process\\n    delayed_applications = self.dofn_runner.process(o)\\n  File \\\"/Users/juliusbusecke/miniconda/envs/cmip6-leap-feedstock/lib/python3.9/site-packages/apache_beam/runners/common.py\\\", line 1425, in process\\n    self._reraise_augmented(exn, windowed_value)\\n  File \\\"/Users/juliusbusecke/miniconda/envs/cmip6-leap-feedstock/lib/python3.9/site-packages/apache_beam/runners/common.py\\\", line 1513, in _reraise_augmented\\n    raise exn\\n  File \\\"/Users/juliusbusecke/miniconda/envs/cmip6-leap-feedstock/lib/python3.9/site-packages/apache_beam/runners/common.py\\\", line 1423, in process\\n    return self.do_fn_invoker.invoke_process(windowed_value)\\n  File \\\"/Users/juliusbusecke/miniconda/envs/cmip6-leap-feedstock/lib/python3.9/site-packages/apache_beam/runners/common.py\\\", line 625, in invoke_process\\n    self.output_handler.handle_process_outputs(\\n  File \\\"/Users/juliusbusecke/miniconda/envs/cmip6-leap-feedstock/lib/python3.9/site-packages/apache_beam/runners/common.py\\\", line 1607, in handle_process_outputs\\n    self._write_value_to_tag(tag, windowed_value, watermark_estimator)\\n  File \\\"/Users/juliusbusecke/miniconda/envs/cmip6-leap-feedstock/lib/python3.9/site-packages/apache_beam/runners/common.py\\\", line 1720, in _write_value_to_tag\\n    self.main_receivers.receive(windowed_value)\\n  File \\\"/Users/juliusbusecke/miniconda/envs/cmip6-leap-feedstock/lib/python3.9/site-packages/apache_beam/runners/worker/operations.py\\\", line 264, in receive\\n    self.consumer.process(windowed_value)\\n  File \\\"/Users/juliusbusecke/miniconda/envs/cmip6-leap-feedstock/lib/python3.9/site-packages/apache_beam/runners/worker/operations.py\\\", line 952, in process\\n    delayed_applications = self.dofn_runner.process(o)\\n  File \\\"/Users/juliusbusecke/miniconda/envs/cmip6-leap-feedstock/lib/python3.9/site-packages/apache_beam/runners/common.py\\\", line 1425, in process\\n    self._reraise_augmented(exn, windowed_value)\\n  File \\\"/Users/juliusbusecke/miniconda/envs/cmip6-leap-feedstock/lib/python3.9/site-packages/apache_beam/runners/common.py\\\", line 1513, in _reraise_augmented\\n    raise exn\\n  File \\\"/Users/juliusbusecke/miniconda/envs/cmip6-leap-feedstock/lib/python3.9/site-packages/apache_beam/runners/common.py\\\", line 1423, in process\\n    return self.do_fn_invoker.invoke_process(windowed_value)\\n  File \\\"/Users/juliusbusecke/miniconda/envs/cmip6-leap-feedstock/lib/python3.9/site-packages/apache_beam/runners/common.py\\\", line 625, in invoke_process\\n    self.output_handler.handle_process_outputs(\\n  File \\\"/Users/juliusbusecke/miniconda/envs/cmip6-leap-feedstock/lib/python3.9/site-packages/apache_beam/runners/common.py\\\", line 1607, in handle_process_outputs\\n    self._write_value_to_tag(tag, windowed_value, watermark_estimator)\\n  File \\\"/Users/juliusbusecke/miniconda/envs/cmip6-leap-feedstock/lib/python3.9/site-packages/apache_beam/runners/common.py\\\", line 1720, in _write_value_to_tag\\n    self.main_receivers.receive(windowed_value)\\n  File \\\"/Users/juliusbusecke/miniconda/envs/cmip6-leap-feedstock/lib/python3.9/site-packages/apache_beam/runners/worker/operations.py\\\", line 264, in receive\\n    self.consumer.process(windowed_value)\\n  File \\\"/Users/juliusbusecke/miniconda/envs/cmip6-leap-feedstock/lib/python3.9/site-packages/apache_beam/runners/worker/operations.py\\\", line 952, in process\\n    delayed_applications = self.dofn_runner.process(o)\\n  File \\\"/Users/juliusbusecke/miniconda/envs/cmip6-leap-feedstock/lib/python3.9/site-packages/apache_beam/runners/common.py\\\", line 1425, in process\\n    self._reraise_augmented(exn, windowed_value)\\n  File \\\"/Users/juliusbusecke/miniconda/envs/cmip6-leap-feedstock/lib/python3.9/site-packages/apache_beam/runners/common.py\\\", line 1513, in _reraise_augmented\\n    raise exn\\n  File \\\"/Users/juliusbusecke/miniconda/envs/cmip6-leap-feedstock/lib/python3.9/site-packages/apache_beam/runners/common.py\\\", line 1423, in process\\n    return self.do_fn_invoker.invoke_process(windowed_value)\\n  File \\\"/Users/juliusbusecke/miniconda/envs/cmip6-leap-feedstock/lib/python3.9/site-packages/apache_beam/runners/common.py\\\", line 625, in invoke_process\\n    self.output_handler.handle_process_outputs(\\n  File \\\"/Users/juliusbusecke/miniconda/envs/cmip6-leap-feedstock/lib/python3.9/site-packages/apache_beam/runners/common.py\\\", line 1607, in handle_process_outputs\\n    self._write_value_to_tag(tag, windowed_value, watermark_estimator)\\n  File \\\"/Users/juliusbusecke/miniconda/envs/cmip6-leap-feedstock/lib/python3.9/site-packages/apache_beam/runners/common.py\\\", line 1720, in _write_value_to_tag\\n    self.main_receivers.receive(windowed_value)\\n  File \\\"/Users/juliusbusecke/miniconda/envs/cmip6-leap-feedstock/lib/python3.9/site-packages/apache_beam/runners/worker/operations.py\\\", line 264, in receive\\n    self.consumer.process(windowed_value)\\n  File \\\"/Users/juliusbusecke/miniconda/envs/cmip6-leap-feedstock/lib/python3.9/site-packages/apache_beam/runners/worker/operations.py\\\", line 952, in process\\n    delayed_applications = self.dofn_runner.process(o)\\n  File \\\"/Users/juliusbusecke/miniconda/envs/cmip6-leap-feedstock/lib/python3.9/site-packages/apache_beam/runners/common.py\\\", line 1425, in process\\n    self._reraise_augmented(exn, windowed_value)\\n  File \\\"/Users/juliusbusecke/miniconda/envs/cmip6-leap-feedstock/lib/python3.9/site-packages/apache_beam/runners/common.py\\\", line 1533, in _reraise_augmented\\n    raise new_exn\\n  File \\\"/Users/juliusbusecke/miniconda/envs/cmip6-leap-feedstock/lib/python3.9/site-packages/apache_beam/runners/common.py\\\", line 1423, in process\\n    return self.do_fn_invoker.invoke_process(windowed_value)\\n  File \\\"/Users/juliusbusecke/miniconda/envs/cmip6-leap-feedstock/lib/python3.9/site-packages/apache_beam/runners/common.py\\\", line 839, in invoke_process\\n    self._invoke_process_per_window(\\n  File \\\"/Users/juliusbusecke/miniconda/envs/cmip6-leap-feedstock/lib/python3.9/site-packages/apache_beam/runners/common.py\\\", line 985, in _invoke_process_per_window\\n    self.process_method(*args_for_process, **kwargs_for_process),\\n  File \\\"/Users/juliusbusecke/miniconda/envs/cmip6-leap-feedstock/lib/python3.9/site-packages/apache_beam/transforms/core.py\\\", line 1961, in <lambda>\\n    wrapper = lambda x, *args, **kwargs: [fn(x, *args, **kwargs)]\\n  File \\\"/Users/juliusbusecke/miniconda/envs/cmip6-leap-feedstock/lib/python3.9/site-packages/pangeo_forge_recipes/transforms.py\\\", line 71, in wrapper\\n    result = func(item, **kwargs)\\n  File \\\"/Users/juliusbusecke/miniconda/envs/cmip6-leap-feedstock/lib/python3.9/site-packages/pangeo_forge_recipes/openers.py\\\", line 32, in open_url\\n    cache.cache_file(url, secrets, **kw)\\n  File \\\"/Users/juliusbusecke/miniconda/envs/cmip6-leap-feedstock/lib/python3.9/site-packages/pangeo_forge_recipes/storage.py\\\", line 188, in cache_file\\n    _copy_btw_filesystems(input_opener, target_opener)\\n  File \\\"/Users/juliusbusecke/miniconda/envs/cmip6-leap-feedstock/lib/python3.9/site-packages/pangeo_forge_recipes/storage.py\\\", line 38, in _copy_btw_filesystems\\n    data = source.read(BLOCK_SIZE)\\n  File \\\"/Users/juliusbusecke/miniconda/envs/cmip6-leap-feedstock/lib/python3.9/site-packages/fsspec/implementations/http.py\\\", line 600, in read\\n    return super().read(length)\\n  File \\\"/Users/juliusbusecke/miniconda/envs/cmip6-leap-feedstock/lib/python3.9/site-packages/fsspec/spec.py\\\", line 1790, in read\\n    out = self.cache._fetch(self.loc, self.loc + length)\\n  File \\\"/Users/juliusbusecke/miniconda/envs/cmip6-leap-feedstock/lib/python3.9/site-packages/fsspec/caching.py\\\", line 379, in _fetch\\n    self.cache = self.fetcher(start, bend)\\n  File \\\"/Users/juliusbusecke/miniconda/envs/cmip6-leap-feedstock/lib/python3.9/site-packages/fsspec/asyn.py\\\", line 121, in wrapper\\n    return sync(self.loop, func, *args, **kwargs)\\n  File \\\"/Users/juliusbusecke/miniconda/envs/cmip6-leap-feedstock/lib/python3.9/site-packages/fsspec/asyn.py\\\", line 106, in sync\\n    raise return_result\\n  File \\\"/Users/juliusbusecke/miniconda/envs/cmip6-leap-feedstock/lib/python3.9/site-packages/fsspec/asyn.py\\\", line 61, in _runner\\n    result[0] = await coro\\n  File \\\"/Users/juliusbusecke/miniconda/envs/cmip6-leap-feedstock/lib/python3.9/site-packages/fsspec/implementations/http.py\\\", line 669, in async_fetch_range\\n    out = await r.read()\\n  File \\\"/Users/juliusbusecke/miniconda/envs/cmip6-leap-feedstock/lib/python3.9/site-packages/aiohttp/client_reqrep.py\\\", line 1037, in read\\n    self._body = await self.content.read()\\n  File \\\"/Users/juliusbusecke/miniconda/envs/cmip6-leap-feedstock/lib/python3.9/site-packages/aiohttp/streams.py\\\", line 375, in read\\n    block = await self.readany()\\n  File \\\"/Users/juliusbusecke/miniconda/envs/cmip6-leap-feedstock/lib/python3.9/site-packages/aiohttp/streams.py\\\", line 397, in readany\\n    await self._wait(\\\"readany\\\")\\n  File \\\"/Users/juliusbusecke/miniconda/envs/cmip6-leap-feedstock/lib/python3.9/site-packages/aiohttp/streams.py\\\", line 304, in _wait\\n    await waiter\\naiohttp.client_exceptions.ClientPayloadError: Response payload is not completed [while running 'Create|OpenURLWithFSSpec|OpenWithXarray|KeepOnlyVariableId|StoreToZarr/OpenURLWithFSSpec/Open with fsspec']\\n\", \"exc_info\": \"Traceback (most recent call last):\\n  File \\\"/Users/juliusbusecke/miniconda/envs/cmip6-leap-feedstock/bin/pangeo-forge-runner\\\", line 8, in <module>\\n    sys.exit(main())\\n  File \\\"/Users/juliusbusecke/miniconda/envs/cmip6-leap-feedstock/lib/python3.9/site-packages/pangeo_forge_runner/cli.py\\\", line 28, in main\\n    app.start()\\n  File \\\"/Users/juliusbusecke/miniconda/envs/cmip6-leap-feedstock/lib/python3.9/site-packages/pangeo_forge_runner/cli.py\\\", line 23, in start\\n    super().start()\\n  File \\\"/Users/juliusbusecke/miniconda/envs/cmip6-leap-feedstock/lib/python3.9/site-packages/traitlets/config/application.py\\\", line 473, in start\\n    return self.subapp.start()\\n  File \\\"/Users/juliusbusecke/miniconda/envs/cmip6-leap-feedstock/lib/python3.9/site-packages/pangeo_forge_runner/commands/bake.py\\\", line 263, in start\\n    pipeline.run()\\n  File \\\"/Users/juliusbusecke/miniconda/envs/cmip6-leap-feedstock/lib/python3.9/site-packages/apache_beam/pipeline.py\\\", line 577, in run\\n    return self.runner.run_pipeline(self, self._options)\\n  File \\\"/Users/juliusbusecke/miniconda/envs/cmip6-leap-feedstock/lib/python3.9/site-packages/apache_beam/runners/direct/direct_runner.py\\\", line 129, in run_pipeline\\n    return runner.run_pipeline(pipeline, options)\\n  File \\\"/Users/juliusbusecke/miniconda/envs/cmip6-leap-feedstock/lib/python3.9/site-packages/apache_beam/runners/portability/fn_api_runner/fn_runner.py\\\", line 202, in run_pipeline\\n    self._latest_run_result = self.run_via_runner_api(\\n  File \\\"/Users/juliusbusecke/miniconda/envs/cmip6-leap-feedstock/lib/python3.9/site-packages/apache_beam/runners/portability/fn_api_runner/fn_runner.py\\\", line 224, in run_via_runner_api\\n    return self.run_stages(stage_context, stages)\\n  File \\\"/Users/juliusbusecke/miniconda/envs/cmip6-leap-feedstock/lib/python3.9/site-packages/apache_beam/runners/portability/fn_api_runner/fn_runner.py\\\", line 455, in run_stages\\n    bundle_results = self._execute_bundle(\\n  File \\\"/Users/juliusbusecke/miniconda/envs/cmip6-leap-feedstock/lib/python3.9/site-packages/apache_beam/runners/portability/fn_api_runner/fn_runner.py\\\", line 783, in _execute_bundle\\n    self._run_bundle(\\n  File \\\"/Users/juliusbusecke/miniconda/envs/cmip6-leap-feedstock/lib/python3.9/site-packages/apache_beam/runners/portability/fn_api_runner/fn_runner.py\\\", line 1012, in _run_bundle\\n    result, splits = bundle_manager.process_bundle(\\n  File \\\"/Users/juliusbusecke/miniconda/envs/cmip6-leap-feedstock/lib/python3.9/site-packages/apache_beam/runners/portability/fn_api_runner/fn_runner.py\\\", line 1387, in process_bundle\\n    raise RuntimeError(result.error)\\nRuntimeError: Traceback (most recent call last):\\n  File \\\"/Users/juliusbusecke/miniconda/envs/cmip6-leap-feedstock/lib/python3.9/site-packages/apache_beam/runners/common.py\\\", line 1423, in process\\n    return self.do_fn_invoker.invoke_process(windowed_value)\\n  File \\\"/Users/juliusbusecke/miniconda/envs/cmip6-leap-feedstock/lib/python3.9/site-packages/apache_beam/runners/common.py\\\", line 839, in invoke_process\\n    self._invoke_process_per_window(\\n  File \\\"/Users/juliusbusecke/miniconda/envs/cmip6-leap-feedstock/lib/python3.9/site-packages/apache_beam/runners/common.py\\\", line 985, in _invoke_process_per_window\\n    self.process_method(*args_for_process, **kwargs_for_process),\\n  File \\\"/Users/juliusbusecke/miniconda/envs/cmip6-leap-feedstock/lib/python3.9/site-packages/apache_beam/transforms/core.py\\\", line 1961, in <lambda>\\n    wrapper = lambda x, *args, **kwargs: [fn(x, *args, **kwargs)]\\n  File \\\"/Users/juliusbusecke/miniconda/envs/cmip6-leap-feedstock/lib/python3.9/site-packages/pangeo_forge_recipes/transforms.py\\\", line 71, in wrapper\\n    result = func(item, **kwargs)\\n  File \\\"/Users/juliusbusecke/miniconda/envs/cmip6-leap-feedstock/lib/python3.9/site-packages/pangeo_forge_recipes/openers.py\\\", line 32, in open_url\\n    cache.cache_file(url, secrets, **kw)\\n  File \\\"/Users/juliusbusecke/miniconda/envs/cmip6-leap-feedstock/lib/python3.9/site-packages/pangeo_forge_recipes/storage.py\\\", line 188, in cache_file\\n    _copy_btw_filesystems(input_opener, target_opener)\\n  File \\\"/Users/juliusbusecke/miniconda/envs/cmip6-leap-feedstock/lib/python3.9/site-packages/pangeo_forge_recipes/storage.py\\\", line 38, in _copy_btw_filesystems\\n    data = source.read(BLOCK_SIZE)\\n  File \\\"/Users/juliusbusecke/miniconda/envs/cmip6-leap-feedstock/lib/python3.9/site-packages/fsspec/implementations/http.py\\\", line 600, in read\\n    return super().read(length)\\n  File \\\"/Users/juliusbusecke/miniconda/envs/cmip6-leap-feedstock/lib/python3.9/site-packages/fsspec/spec.py\\\", line 1790, in read\\n    out = self.cache._fetch(self.loc, self.loc + length)\\n  File \\\"/Users/juliusbusecke/miniconda/envs/cmip6-leap-feedstock/lib/python3.9/site-packages/fsspec/caching.py\\\", line 379, in _fetch\\n    self.cache = self.fetcher(start, bend)\\n  File \\\"/Users/juliusbusecke/miniconda/envs/cmip6-leap-feedstock/lib/python3.9/site-packages/fsspec/asyn.py\\\", line 121, in wrapper\\n    return sync(self.loop, func, *args, **kwargs)\\n  File \\\"/Users/juliusbusecke/miniconda/envs/cmip6-leap-feedstock/lib/python3.9/site-packages/fsspec/asyn.py\\\", line 106, in sync\\n    raise return_result\\n  File \\\"/Users/juliusbusecke/miniconda/envs/cmip6-leap-feedstock/lib/python3.9/site-packages/fsspec/asyn.py\\\", line 61, in _runner\\n    result[0] = await coro\\n  File \\\"/Users/juliusbusecke/miniconda/envs/cmip6-leap-feedstock/lib/python3.9/site-packages/fsspec/implementations/http.py\\\", line 669, in async_fetch_range\\n    out = await r.read()\\n  File \\\"/Users/juliusbusecke/miniconda/envs/cmip6-leap-feedstock/lib/python3.9/site-packages/aiohttp/client_reqrep.py\\\", line 1037, in read\\n    self._body = await self.content.read()\\n  File \\\"/Users/juliusbusecke/miniconda/envs/cmip6-leap-feedstock/lib/python3.9/site-packages/aiohttp/streams.py\\\", line 375, in read\\n    block = await self.readany()\\n  File \\\"/Users/juliusbusecke/miniconda/envs/cmip6-leap-feedstock/lib/python3.9/site-packages/aiohttp/streams.py\\\", line 397, in readany\\n    await self._wait(\\\"readany\\\")\\n  File \\\"/Users/juliusbusecke/miniconda/envs/cmip6-leap-feedstock/lib/python3.9/site-packages/aiohttp/streams.py\\\", line 304, in _wait\\n    await waiter\\naiohttp.client_exceptions.ClientPayloadError: Response payload is not completed\\n\\nDuring handling of the above exception, another exception occurred:\\n\\nTraceback (most recent call last):\\n  File \\\"/Users/juliusbusecke/miniconda/envs/cmip6-leap-feedstock/lib/python3.9/site-packages/apache_beam/runners/worker/sdk_worker.py\\\", line 297, in _execute\\n    response = task()\\n  File \\\"/Users/juliusbusecke/miniconda/envs/cmip6-leap-feedstock/lib/python3.9/site-packages/apache_beam/runners/worker/sdk_worker.py\\\", line 372, in <lambda>\\n    lambda: self.create_worker().do_instruction(request), request)\\n  File \\\"/Users/juliusbusecke/miniconda/envs/cmip6-leap-feedstock/lib/python3.9/site-packages/apache_beam/runners/worker/sdk_worker.py\\\", line 625, in do_instruction\\n    return getattr(self, request_type)(\\n  File \\\"/Users/juliusbusecke/miniconda/envs/cmip6-leap-feedstock/lib/python3.9/site-packages/apache_beam/runners/worker/sdk_worker.py\\\", line 663, in process_bundle\\n    bundle_processor.process_bundle(instruction_id))\\n  File \\\"/Users/juliusbusecke/miniconda/envs/cmip6-leap-feedstock/lib/python3.9/site-packages/apache_beam/runners/worker/bundle_processor.py\\\", line 1040, in process_bundle\\n    input_op_by_transform_id[element.transform_id].process_encoded(\\n  File \\\"/Users/juliusbusecke/miniconda/envs/cmip6-leap-feedstock/lib/python3.9/site-packages/apache_beam/runners/worker/bundle_processor.py\\\", line 232, in process_encoded\\n    self.output(decoded_value)\\n  File \\\"/Users/juliusbusecke/miniconda/envs/cmip6-leap-feedstock/lib/python3.9/site-packages/apache_beam/runners/worker/operations.py\\\", line 570, in output\\n    _cast_to_receiver(self.receivers[output_index]).receive(windowed_value)\\n  File \\\"/Users/juliusbusecke/miniconda/envs/cmip6-leap-feedstock/lib/python3.9/site-packages/apache_beam/runners/worker/operations.py\\\", line 264, in receive\\n    self.consumer.process(windowed_value)\\n  File \\\"/Users/juliusbusecke/miniconda/envs/cmip6-leap-feedstock/lib/python3.9/site-packages/apache_beam/runners/worker/operations.py\\\", line 952, in process\\n    delayed_applications = self.dofn_runner.process(o)\\n  File \\\"/Users/juliusbusecke/miniconda/envs/cmip6-leap-feedstock/lib/python3.9/site-packages/apache_beam/runners/common.py\\\", line 1425, in process\\n    self._reraise_augmented(exn, windowed_value)\\n  File \\\"/Users/juliusbusecke/miniconda/envs/cmip6-leap-feedstock/lib/python3.9/site-packages/apache_beam/runners/common.py\\\", line 1513, in _reraise_augmented\\n    raise exn\\n  File \\\"/Users/juliusbusecke/miniconda/envs/cmip6-leap-feedstock/lib/python3.9/site-packages/apache_beam/runners/common.py\\\", line 1423, in process\\n    return self.do_fn_invoker.invoke_process(windowed_value)\\n  File \\\"/Users/juliusbusecke/miniconda/envs/cmip6-leap-feedstock/lib/python3.9/site-packages/apache_beam/runners/common.py\\\", line 625, in invoke_process\\n    self.output_handler.handle_process_outputs(\\n  File \\\"/Users/juliusbusecke/miniconda/envs/cmip6-leap-feedstock/lib/python3.9/site-packages/apache_beam/runners/common.py\\\", line 1607, in handle_process_outputs\\n    self._write_value_to_tag(tag, windowed_value, watermark_estimator)\\n  File \\\"/Users/juliusbusecke/miniconda/envs/cmip6-leap-feedstock/lib/python3.9/site-packages/apache_beam/runners/common.py\\\", line 1720, in _write_value_to_tag\\n    self.main_receivers.receive(windowed_value)\\n  File \\\"/Users/juliusbusecke/miniconda/envs/cmip6-leap-feedstock/lib/python3.9/site-packages/apache_beam/runners/worker/operations.py\\\", line 264, in receive\\n    self.consumer.process(windowed_value)\\n  File \\\"/Users/juliusbusecke/miniconda/envs/cmip6-leap-feedstock/lib/python3.9/site-packages/apache_beam/runners/worker/operations.py\\\", line 952, in process\\n    delayed_applications = self.dofn_runner.process(o)\\n  File \\\"/Users/juliusbusecke/miniconda/envs/cmip6-leap-feedstock/lib/python3.9/site-packages/apache_beam/runners/common.py\\\", line 1425, in process\\n    self._reraise_augmented(exn, windowed_value)\\n  File \\\"/Users/juliusbusecke/miniconda/envs/cmip6-leap-feedstock/lib/python3.9/site-packages/apache_beam/runners/common.py\\\", line 1513, in _reraise_augmented\\n    raise exn\\n  File \\\"/Users/juliusbusecke/miniconda/envs/cmip6-leap-feedstock/lib/python3.9/site-packages/apache_beam/runners/common.py\\\", line 1423, in process\\n    return self.do_fn_invoker.invoke_process(windowed_value)\\n  File \\\"/Users/juliusbusecke/miniconda/envs/cmip6-leap-feedstock/lib/python3.9/site-packages/apache_beam/runners/common.py\\\", line 625, in invoke_process\\n    self.output_handler.handle_process_outputs(\\n  File \\\"/Users/juliusbusecke/miniconda/envs/cmip6-leap-feedstock/lib/python3.9/site-packages/apache_beam/runners/common.py\\\", line 1607, in handle_process_outputs\\n    self._write_value_to_tag(tag, windowed_value, watermark_estimator)\\n  File \\\"/Users/juliusbusecke/miniconda/envs/cmip6-leap-feedstock/lib/python3.9/site-packages/apache_beam/runners/common.py\\\", line 1720, in _write_value_to_tag\\n    self.main_receivers.receive(windowed_value)\\n  File \\\"/Users/juliusbusecke/miniconda/envs/cmip6-leap-feedstock/lib/python3.9/site-packages/apache_beam/runners/worker/operations.py\\\", line 264, in receive\\n    self.consumer.process(windowed_value)\\n  File \\\"/Users/juliusbusecke/miniconda/envs/cmip6-leap-feedstock/lib/python3.9/site-packages/apache_beam/runners/worker/operations.py\\\", line 952, in process\\n    delayed_applications = self.dofn_runner.process(o)\\n  File \\\"/Users/juliusbusecke/miniconda/envs/cmip6-leap-feedstock/lib/python3.9/site-packages/apache_beam/runners/common.py\\\", line 1425, in process\\n    self._reraise_augmented(exn, windowed_value)\\n  File \\\"/Users/juliusbusecke/miniconda/envs/cmip6-leap-feedstock/lib/python3.9/site-packages/apache_beam/runners/common.py\\\", line 1513, in _reraise_augmented\\n    raise exn\\n  File \\\"/Users/juliusbusecke/miniconda/envs/cmip6-leap-feedstock/lib/python3.9/site-packages/apache_beam/runners/common.py\\\", line 1423, in process\\n    return self.do_fn_invoker.invoke_process(windowed_value)\\n  File \\\"/Users/juliusbusecke/miniconda/envs/cmip6-leap-feedstock/lib/python3.9/site-packages/apache_beam/runners/common.py\\\", line 625, in invoke_process\\n    self.output_handler.handle_process_outputs(\\n  File \\\"/Users/juliusbusecke/miniconda/envs/cmip6-leap-feedstock/lib/python3.9/site-packages/apache_beam/runners/common.py\\\", line 1607, in handle_process_outputs\\n    self._write_value_to_tag(tag, windowed_value, watermark_estimator)\\n  File \\\"/Users/juliusbusecke/miniconda/envs/cmip6-leap-feedstock/lib/python3.9/site-packages/apache_beam/runners/common.py\\\", line 1720, in _write_value_to_tag\\n    self.main_receivers.receive(windowed_value)\\n  File \\\"/Users/juliusbusecke/miniconda/envs/cmip6-leap-feedstock/lib/python3.9/site-packages/apache_beam/runners/worker/operations.py\\\", line 264, in receive\\n    self.consumer.process(windowed_value)\\n  File \\\"/Users/juliusbusecke/miniconda/envs/cmip6-leap-feedstock/lib/python3.9/site-packages/apache_beam/runners/worker/operations.py\\\", line 952, in process\\n    delayed_applications = self.dofn_runner.process(o)\\n  File \\\"/Users/juliusbusecke/miniconda/envs/cmip6-leap-feedstock/lib/python3.9/site-packages/apache_beam/runners/common.py\\\", line 1425, in process\\n    self._reraise_augmented(exn, windowed_value)\\n  File \\\"/Users/juliusbusecke/miniconda/envs/cmip6-leap-feedstock/lib/python3.9/site-packages/apache_beam/runners/common.py\\\", line 1533, in _reraise_augmented\\n    raise new_exn\\n  File \\\"/Users/juliusbusecke/miniconda/envs/cmip6-leap-feedstock/lib/python3.9/site-packages/apache_beam/runners/common.py\\\", line 1423, in process\\n    return self.do_fn_invoker.invoke_process(windowed_value)\\n  File \\\"/Users/juliusbusecke/miniconda/envs/cmip6-leap-feedstock/lib/python3.9/site-packages/apache_beam/runners/common.py\\\", line 839, in invoke_process\\n    self._invoke_process_per_window(\\n  File \\\"/Users/juliusbusecke/miniconda/envs/cmip6-leap-feedstock/lib/python3.9/site-packages/apache_beam/runners/common.py\\\", line 985, in _invoke_process_per_window\\n    self.process_method(*args_for_process, **kwargs_for_process),\\n  File \\\"/Users/juliusbusecke/miniconda/envs/cmip6-leap-feedstock/lib/python3.9/site-packages/apache_beam/transforms/core.py\\\", line 1961, in <lambda>\\n    wrapper = lambda x, *args, **kwargs: [fn(x, *args, **kwargs)]\\n  File \\\"/Users/juliusbusecke/miniconda/envs/cmip6-leap-feedstock/lib/python3.9/site-packages/pangeo_forge_recipes/transforms.py\\\", line 71, in wrapper\\n    result = func(item, **kwargs)\\n  File \\\"/Users/juliusbusecke/miniconda/envs/cmip6-leap-feedstock/lib/python3.9/site-packages/pangeo_forge_recipes/openers.py\\\", line 32, in open_url\\n    cache.cache_file(url, secrets, **kw)\\n  File \\\"/Users/juliusbusecke/miniconda/envs/cmip6-leap-feedstock/lib/python3.9/site-packages/pangeo_forge_recipes/storage.py\\\", line 188, in cache_file\\n    _copy_btw_filesystems(input_opener, target_opener)\\n  File \\\"/Users/juliusbusecke/miniconda/envs/cmip6-leap-feedstock/lib/python3.9/site-packages/pangeo_forge_recipes/storage.py\\\", line 38, in _copy_btw_filesystems\\n    data = source.read(BLOCK_SIZE)\\n  File \\\"/Users/juliusbusecke/miniconda/envs/cmip6-leap-feedstock/lib/python3.9/site-packages/fsspec/implementations/http.py\\\", line 600, in read\\n    return super().read(length)\\n  File \\\"/Users/juliusbusecke/miniconda/envs/cmip6-leap-feedstock/lib/python3.9/site-packages/fsspec/spec.py\\\", line 1790, in read\\n    out = self.cache._fetch(self.loc, self.loc + length)\\n  File \\\"/Users/juliusbusecke/miniconda/envs/cmip6-leap-feedstock/lib/python3.9/site-packages/fsspec/caching.py\\\", line 379, in _fetch\\n    self.cache = self.fetcher(start, bend)\\n  File \\\"/Users/juliusbusecke/miniconda/envs/cmip6-leap-feedstock/lib/python3.9/site-packages/fsspec/asyn.py\\\", line 121, in wrapper\\n    return sync(self.loop, func, *args, **kwargs)\\n  File \\\"/Users/juliusbusecke/miniconda/envs/cmip6-leap-feedstock/lib/python3.9/site-packages/fsspec/asyn.py\\\", line 106, in sync\\n    raise return_result\\n  File \\\"/Users/juliusbusecke/miniconda/envs/cmip6-leap-feedstock/lib/python3.9/site-packages/fsspec/asyn.py\\\", line 61, in _runner\\n    result[0] = await coro\\n  File \\\"/Users/juliusbusecke/miniconda/envs/cmip6-leap-feedstock/lib/python3.9/site-packages/fsspec/implementations/http.py\\\", line 669, in async_fetch_range\\n    out = await r.read()\\n  File \\\"/Users/juliusbusecke/miniconda/envs/cmip6-leap-feedstock/lib/python3.9/site-packages/aiohttp/client_reqrep.py\\\", line 1037, in read\\n    self._body = await self.content.read()\\n  File \\\"/Users/juliusbusecke/miniconda/envs/cmip6-leap-feedstock/lib/python3.9/site-packages/aiohttp/streams.py\\\", line 375, in read\\n    block = await self.readany()\\n  File \\\"/Users/juliusbusecke/miniconda/envs/cmip6-leap-feedstock/lib/python3.9/site-packages/aiohttp/streams.py\\\", line 397, in readany\\n    await self._wait(\\\"readany\\\")\\n  File \\\"/Users/juliusbusecke/miniconda/envs/cmip6-leap-feedstock/lib/python3.9/site-packages/aiohttp/streams.py\\\", line 304, in _wait\\n    await waiter\\naiohttp.client_exceptions.ClientPayloadError: Response payload is not completed [while running 'Create|OpenURLWithFSSpec|OpenWithXarray|KeepOnlyVariableId|StoreToZarr/OpenURLWithFSSpec/Open with fsspec']\\n'"
   ]
  },
  {
   "cell_type": "code",
   "execution_count": null,
   "id": "e50c72bc",
   "metadata": {},
   "outputs": [],
   "source": []
  }
 ],
 "metadata": {
  "kernelspec": {
   "display_name": "Python 3 (ipykernel)",
   "language": "python",
   "name": "python3"
  },
  "language_info": {
   "codemirror_mode": {
    "name": "ipython",
    "version": 3
   },
   "file_extension": ".py",
   "mimetype": "text/x-python",
   "name": "python",
   "nbconvert_exporter": "python",
   "pygments_lexer": "ipython3",
   "version": "3.9.16"
  }
 },
 "nbformat": 4,
 "nbformat_minor": 5
}
