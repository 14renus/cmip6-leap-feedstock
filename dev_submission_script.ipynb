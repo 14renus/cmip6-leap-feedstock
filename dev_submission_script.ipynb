{
 "cells": [
  {
   "cell_type": "code",
   "execution_count": 1,
   "id": "bad39384-c505-488e-80eb-118200e7f5a4",
   "metadata": {
    "tags": []
   },
   "outputs": [],
   "source": [
    "# make sure credentials are set\n",
    "# !export =\n",
    "#doing that later"
   ]
  },
  {
   "cell_type": "code",
   "execution_count": 2,
   "id": "c1289bf7-f6dc-46f3-a289-56c35582a82c",
   "metadata": {
    "tags": []
   },
   "outputs": [],
   "source": [
    "# # install particular dependencies (just for reference here)\n",
    "# !pip install git+https://github.com/pangeo-forge/pangeo-forge-runner.git #pangeo-forge-runner from main"
   ]
  },
  {
   "cell_type": "code",
   "execution_count": 3,
   "id": "11aa5ad1-46f1-4be8-95e2-a846221dffd8",
   "metadata": {
    "tags": []
   },
   "outputs": [],
   "source": [
    "# global input args\n",
    "repo = \"https://github.com/jbusecke/cmip6-leap-feedstock.git\"\n",
    "ref = \"beam-dataflow-testing\"\n",
    "f_name = \"config.json\"\n",
    "target_bucket = \"gs://leap-persistent/jbusecke/data/CMIP6/dataflow_test/target\""
   ]
  },
  {
   "cell_type": "code",
   "execution_count": 4,
   "id": "2aa26436-8131-4a3b-b1ad-a9e8c776d6bb",
   "metadata": {
    "tags": []
   },
   "outputs": [
    {
     "data": {
      "text/plain": [
       "'test'"
      ]
     },
     "execution_count": 4,
     "metadata": {},
     "output_type": "execute_result"
    }
   ],
   "source": [
    "s = 'Test'\n",
    "s.lower()"
   ]
  },
  {
   "cell_type": "code",
   "execution_count": 5,
   "id": "b67b1ebd-b94e-40cb-b745-4b77c31796df",
   "metadata": {
    "tags": []
   },
   "outputs": [],
   "source": [
    "def shorten_id(iid):\n",
    "    iid_stripped = ''.join(iid.lower().split('.')[3:])\n",
    "    assert len(iid_stripped)<66\n",
    "    return iid_stripped"
   ]
  },
  {
   "cell_type": "code",
   "execution_count": 8,
   "id": "5eaedba8-3d55-4ce7-94da-4e781dc1673b",
   "metadata": {
    "tags": []
   },
   "outputs": [
    {
     "name": "stdout",
     "output_type": "stream",
     "text": [
      "\n",
      "Submitting job...\n"
     ]
    },
    {
     "ename": "AssertionError",
     "evalue": "",
     "output_type": "error",
     "traceback": [
      "\u001b[0;31m---------------------------------------------------------------------------\u001b[0m",
      "\u001b[0;31mAssertionError\u001b[0m                            Traceback (most recent call last)",
      "Cell \u001b[0;32mIn[8], line 38\u001b[0m\n\u001b[1;32m     36\u001b[0m \u001b[38;5;28mprint\u001b[39m(\u001b[38;5;124m\"\u001b[39m\u001b[38;5;130;01m\\n\u001b[39;00m\u001b[38;5;124mSubmitting job...\u001b[39m\u001b[38;5;124m\"\u001b[39m)\n\u001b[1;32m     37\u001b[0m submit_proc \u001b[38;5;241m=\u001b[39m subprocess\u001b[38;5;241m.\u001b[39mrun(cmd, capture_output\u001b[38;5;241m=\u001b[39m\u001b[38;5;28;01mTrue\u001b[39;00m, env\u001b[38;5;241m=\u001b[39mmy_env)\n\u001b[0;32m---> 38\u001b[0m \u001b[38;5;28;01massert\u001b[39;00m submit_proc\u001b[38;5;241m.\u001b[39mreturncode \u001b[38;5;241m==\u001b[39m \u001b[38;5;241m0\u001b[39m\n\u001b[1;32m     39\u001b[0m lastline \u001b[38;5;241m=\u001b[39m json\u001b[38;5;241m.\u001b[39mloads(submit_proc\u001b[38;5;241m.\u001b[39mstdout\u001b[38;5;241m.\u001b[39mdecode()\u001b[38;5;241m.\u001b[39msplitlines()[\u001b[38;5;241m-\u001b[39m\u001b[38;5;241m1\u001b[39m])\n\u001b[1;32m     40\u001b[0m \u001b[38;5;28;01massert\u001b[39;00m lastline[\u001b[38;5;124m\"\u001b[39m\u001b[38;5;124mstatus\u001b[39m\u001b[38;5;124m\"\u001b[39m] \u001b[38;5;241m==\u001b[39m \u001b[38;5;124m\"\u001b[39m\u001b[38;5;124msubmitted\u001b[39m\u001b[38;5;124m\"\u001b[39m\n",
      "\u001b[0;31mAssertionError\u001b[0m: "
     ]
    }
   ],
   "source": [
    "# from the integration tests of pangeo-forge-runner\n",
    "#https://github.com/pangeo-forge/pangeo-forge-runner/blob/main/tests/integration/test_dataflow_integration.py\n",
    "\n",
    "import subprocess\n",
    "import os\n",
    "import time\n",
    "import xarray as xr\n",
    "\n",
    "my_env = os.environ.copy()\n",
    "my_env[\"GOOGLE_APPLICATION_CREDENTIALS\"] = \"/Users/juliusbusecke/Downloads/keys/leap-pangeo-dataflow_service_account.json\"\n",
    "\n",
    "iid = \"CMIP6.ScenarioMIP.EC-Earth-Consortium.EC-Earth3.ssp585.r107i1p1f1.day.psl.gr.v20200412\"\n",
    "jobname=shorten_id(iid)\n",
    "target_store = f\"{target_bucket}/{iid}.zarr\"\n",
    "machine_type = \"e2-highmem-8\"\n",
    "cmd = [\n",
    "    \"pangeo-forge-runner\",\n",
    "    \"bake\",\n",
    "    \"--repo\",\n",
    "    repo,\n",
    "    \"--ref\",\n",
    "    ref,\n",
    "    \"--json\",\n",
    "    \"-f\",\n",
    "    f_name,\n",
    "    \"--Bake.recipe_id\",\n",
    "    iid,\n",
    "    \"--Bake.job_name\",\n",
    "    jobname,\n",
    "    \"--TargetStorage.root_path\",\n",
    "    f\"{target_bucket}\",\n",
    "    \"--DataflowBakery.machine_type\",\n",
    "    machine_type,\n",
    "]\n",
    "\n",
    "print(\"\\nSubmitting job...\")\n",
    "submit_proc = subprocess.run(cmd, capture_output=True, env=my_env)\n",
    "assert submit_proc.returncode == 0\n",
    "lastline = json.loads(submit_proc.stdout.decode().splitlines()[-1])\n",
    "assert lastline[\"status\"] == \"submitted\"\n",
    "job_id = lastline[\"job_id\"]\n",
    "job_name = lastline[\"job_name\"]\n",
    "print(f\"Job submitted with {job_id = }\")"
   ]
  },
  {
   "cell_type": "code",
   "execution_count": 9,
   "id": "bbf920a8-5c10-45dc-a985-ea3be374631a",
   "metadata": {
    "tags": []
   },
   "outputs": [
    {
     "data": {
      "text/plain": [
       "CompletedProcess(args=['pangeo-forge-runner', 'bake', '--repo', 'https://github.com/jbusecke/cmip6-leap-feedstock.git', '--ref', 'beam-dataflow-testing', '--json', '-f', 'config.json', '--Bake.recipe_id', 'CMIP6.ScenarioMIP.EC-Earth-Consortium.EC-Earth3.ssp585.r107i1p1f1.day.psl.gr.v20200412', '--Bake.job_name', 'ec-earth3ssp585r107i1p1f1daypslgrv20200412', '--TargetStorage.root_path', 'gs://leap-persistent/jbusecke/data/CMIP6/dataflow_test/target', '--DataflowBakery.machine_type', 'e2-highmem-8'], returncode=1, stdout=b'{\"message\": \"Target Storage is FSSpecTarget(GCSFileSystem(, root_path=\\\\\"gs://leap-persistent/jbusecke/data/CMIP6/dataflow_test/target\\\\\")\\\\n\", \"status\": \"setup\"}\\n{\"message\": \"Input Cache Storage is CacheFSSpecTarget(GCSFileSystem(, root_path=\\\\\"gs://leap-scratch/jbusecke/data/CMIP6/dataflow_test/input-cache/\\\\\")\\\\n\", \"status\": \"setup\"}\\n{\"message\": \"Metadata Cache Storage is MetadataTarget(AbstractFileSystem(, root_path=\\\\\"\\\\\")\\\\n\", \"status\": \"setup\"}\\n{\"message\": \"Picked Git content provider.\\\\n\", \"status\": \"fetching\"}\\n{\"message\": \"Cloning into \\'/var/folders/_1/1k9jtjl51z333f21s7yht0340000gn/T/tmps4p6duhw\\'...\\\\n\", \"status\": \"fetching\"}\\n{\"message\": \"HEAD is now at fe2621c tried batch submission on leap\\\\n\", \"status\": \"fetching\"}\\n{\"message\": \"Parsing recipes...\", \"status\": \"running\"}\\n{\"message\": \"CMIP6.ScenarioMIP.MRI.MRI-ESM2-0.ssp585.r2i1p1f1.day.sfcWind.gn.v20210907: Found 3 hits\", \"status\": \"running\"}\\n{\"message\": \"\\\\n\", \"status\": \"running\"}\\n{\"message\": \"CMIP6.ScenarioMIP.MRI.MRI-ESM2-0.ssp585.r2i1p1f1.day.sfcWind.gn.v20210907-CMIP6.ScenarioMIP.MRI.MRI-ESM2-0.ssp585.r2i1p1f1.day.sfcWind.gn.v20210907|esgf-data2.diasjp.net: Extracting URLS\", \"status\": \"running\"}\\n{\"message\": \"\\\\n\", \"status\": \"running\"}\\n{\"message\": \"\\\\n-------------------------------------------------------------------------------\\\\nWarning - defaulting to search with facets=*\\\\n\\\\nThis behavior is kept for backward-compatibility, but ESGF indexes might not\\\\nsuccessfully perform a distributed search when this option is used, so some\\\\nresults may be missing.  For full results, it is recommended to pass a list of\\\\nfacets of interest when instantiating a context object.  For example,\\\\n\\\\n      ctx = conn.new_context(facets=\\'project,experiment_id\\')\\\\n\\\\nOnly the facets that you specify will be present in the facets_counts dictionary.\\\\n\\\\nThis warning is displayed when a distributed search is performed while using the\\\\nfacets=* default, a maximum of once per context object.  To suppress this warning,\\\\nset the environment variable ESGF_PYCLIENT_NO_FACETS_STAR_WARNING to any value\\\\nor explicitly use  conn.new_context(facets=\\'*\\')\\\\n\\\\n-------------------------------------------------------------------------------\\\\n\", \"status\": \"running\"}\\n{\"message\": \"CMIP6.ScenarioMIP.MRI.MRI-ESM2-0.ssp585.r2i1p1f1.day.sfcWind.gn.v20210907-CMIP6.ScenarioMIP.MRI.MRI-ESM2-0.ssp585.r2i1p1f1.day.sfcWind.gn.v20210907|esgf-data1.llnl.gov: Extracting URLS\", \"status\": \"running\"}\\n{\"message\": \"\\\\n\", \"status\": \"running\"}\\n{\"message\": \"\\\\n-------------------------------------------------------------------------------\\\\nWarning - defaulting to search with facets=*\\\\n\\\\nThis behavior is kept for backward-compatibility, but ESGF indexes might not\\\\nsuccessfully perform a distributed search when this option is used, so some\\\\nresults may be missing.  For full results, it is recommended to pass a list of\\\\nfacets of interest when instantiating a context object.  For example,\\\\n\\\\n      ctx = conn.new_context(facets=\\'project,experiment_id\\')\\\\n\\\\nOnly the facets that you specify will be present in the facets_counts dictionary.\\\\n\\\\nThis warning is displayed when a distributed search is performed while using the\\\\nfacets=* default, a maximum of once per context object.  To suppress this warning,\\\\nset the environment variable ESGF_PYCLIENT_NO_FACETS_STAR_WARNING to any value\\\\nor explicitly use  conn.new_context(facets=\\'*\\')\\\\n\\\\n-------------------------------------------------------------------------------\\\\n\", \"status\": \"running\"}\\n{\"message\": \"CMIP6.ScenarioMIP.MRI.MRI-ESM2-0.ssp585.r2i1p1f1.day.psl.gn.v20210907: Found 3 hits\", \"status\": \"running\"}\\n{\"message\": \"\\\\n\", \"status\": \"running\"}\\n{\"message\": \"CMIP6.ScenarioMIP.MRI.MRI-ESM2-0.ssp585.r2i1p1f1.day.psl.gn.v20210907-CMIP6.ScenarioMIP.MRI.MRI-ESM2-0.ssp585.r2i1p1f1.day.psl.gn.v20210907|esgf-data2.diasjp.net: Extracting URLS\", \"status\": \"running\"}\\n{\"message\": \"\\\\n\", \"status\": \"running\"}\\n{\"message\": \"\\\\n-------------------------------------------------------------------------------\\\\nWarning - defaulting to search with facets=*\\\\n\\\\nThis behavior is kept for backward-compatibility, but ESGF indexes might not\\\\nsuccessfully perform a distributed search when this option is used, so some\\\\nresults may be missing.  For full results, it is recommended to pass a list of\\\\nfacets of interest when instantiating a context object.  For example,\\\\n\\\\n      ctx = conn.new_context(facets=\\'project,experiment_id\\')\\\\n\\\\nOnly the facets that you specify will be present in the facets_counts dictionary.\\\\n\\\\nThis warning is displayed when a distributed search is performed while using the\\\\nfacets=* default, a maximum of once per context object.  To suppress this warning,\\\\nset the environment variable ESGF_PYCLIENT_NO_FACETS_STAR_WARNING to any value\\\\nor explicitly use  conn.new_context(facets=\\'*\\')\\\\n\\\\n-------------------------------------------------------------------------------\\\\n\", \"status\": \"running\"}\\n{\"message\": \"CMIP6.ScenarioMIP.MRI.MRI-ESM2-0.ssp585.r2i1p1f1.day.psl.gn.v20210907-CMIP6.ScenarioMIP.MRI.MRI-ESM2-0.ssp585.r2i1p1f1.day.psl.gn.v20210907|esgf-data1.llnl.gov: Extracting URLS\", \"status\": \"running\"}\\n{\"message\": \"\\\\n\", \"status\": \"running\"}\\n{\"message\": \"\\\\n-------------------------------------------------------------------------------\\\\nWarning - defaulting to search with facets=*\\\\n\\\\nThis behavior is kept for backward-compatibility, but ESGF indexes might not\\\\nsuccessfully perform a distributed search when this option is used, so some\\\\nresults may be missing.  For full results, it is recommended to pass a list of\\\\nfacets of interest when instantiating a context object.  For example,\\\\n\\\\n      ctx = conn.new_context(facets=\\'project,experiment_id\\')\\\\n\\\\nOnly the facets that you specify will be present in the facets_counts dictionary.\\\\n\\\\nThis warning is displayed when a distributed search is performed while using the\\\\nfacets=* default, a maximum of once per context object.  To suppress this warning,\\\\nset the environment variable ESGF_PYCLIENT_NO_FACETS_STAR_WARNING to any value\\\\nor explicitly use  conn.new_context(facets=\\'*\\')\\\\n\\\\n-------------------------------------------------------------------------------\\\\n\", \"status\": \"running\"}\\n{\"message\": \"CMIP6.ScenarioMIP.MIROC.MIROC6.ssp585.r4i1p1f1.day.psl.gn.v20200623: Found 4 hits\", \"status\": \"running\"}\\n{\"message\": \"\\\\n\", \"status\": \"running\"}\\n{\"message\": \"CMIP6.ScenarioMIP.MIROC.MIROC6.ssp585.r4i1p1f1.day.psl.gn.v20200623-CMIP6.ScenarioMIP.MIROC.MIROC6.ssp585.r4i1p1f1.day.psl.gn.v20200623|esgf-data1.llnl.gov: Extracting URLS\", \"status\": \"running\"}\\n{\"message\": \"\\\\n\", \"status\": \"running\"}\\n{\"message\": \"\\\\n-------------------------------------------------------------------------------\\\\nWarning - defaulting to search with facets=*\\\\n\\\\nThis behavior is kept for backward-compatibility, but ESGF indexes might not\\\\nsuccessfully perform a distributed search when this option is used, so some\\\\nresults may be missing.  For full results, it is recommended to pass a list of\\\\nfacets of interest when instantiating a context object.  For example,\\\\n\\\\n      ctx = conn.new_context(facets=\\'project,experiment_id\\')\\\\n\\\\nOnly the facets that you specify will be present in the facets_counts dictionary.\\\\n\\\\nThis warning is displayed when a distributed search is performed while using the\\\\nfacets=* default, a maximum of once per context object.  To suppress this warning,\\\\nset the environment variable ESGF_PYCLIENT_NO_FACETS_STAR_WARNING to any value\\\\nor explicitly use  conn.new_context(facets=\\'*\\')\\\\n\\\\n-------------------------------------------------------------------------------\\\\n\", \"status\": \"running\"}\\n{\"message\": \"CMIP6.ScenarioMIP.MOHC.HadGEM3-GC31-MM.ssp585.r2i1p1f3.day.psl.gn.v20200515: Found 3 hits\", \"status\": \"running\"}\\n{\"message\": \"\\\\n\", \"status\": \"running\"}\\n{\"message\": \"CMIP6.ScenarioMIP.MOHC.HadGEM3-GC31-MM.ssp585.r2i1p1f3.day.psl.gn.v20200515-CMIP6.ScenarioMIP.MOHC.HadGEM3-GC31-MM.ssp585.r2i1p1f3.day.psl.gn.v20200515|esgf-data1.llnl.gov: Extracting URLS\", \"status\": \"running\"}\\n{\"message\": \"\\\\n\", \"status\": \"running\"}\\n{\"message\": \"\\\\n-------------------------------------------------------------------------------\\\\nWarning - defaulting to search with facets=*\\\\n\\\\nThis behavior is kept for backward-compatibility, but ESGF indexes might not\\\\nsuccessfully perform a distributed search when this option is used, so some\\\\nresults may be missing.  For full results, it is recommended to pass a list of\\\\nfacets of interest when instantiating a context object.  For example,\\\\n\\\\n      ctx = conn.new_context(facets=\\'project,experiment_id\\')\\\\n\\\\nOnly the facets that you specify will be present in the facets_counts dictionary.\\\\n\\\\nThis warning is displayed when a distributed search is performed while using the\\\\nfacets=* default, a maximum of once per context object.  To suppress this warning,\\\\nset the environment variable ESGF_PYCLIENT_NO_FACETS_STAR_WARNING to any value\\\\nor explicitly use  conn.new_context(facets=\\'*\\')\\\\n\\\\n-------------------------------------------------------------------------------\\\\n\", \"status\": \"running\"}\\n{\"message\": \"CMIP6.CMIP.NOAA-GFDL.GFDL-CM4.historical.r1i1p1f1.Omon.thetao.gn.v20180701: Found 5 hits\", \"status\": \"running\"}\\n{\"message\": \"\\\\n\", \"status\": \"running\"}\\n{\"message\": \"CMIP6.CMIP.NOAA-GFDL.GFDL-CM4.historical.r1i1p1f1.Omon.thetao.gn.v20180701-CMIP6.CMIP.NOAA-GFDL.GFDL-CM4.historical.r1i1p1f1.Omon.thetao.gn.v20180701|aims3.llnl.gov: Extracting URLS\", \"status\": \"running\"}\\n{\"message\": \"\\\\n\", \"status\": \"running\"}\\n{\"message\": \"\\\\n-------------------------------------------------------------------------------\\\\nWarning - defaulting to search with facets=*\\\\n\\\\nThis behavior is kept for backward-compatibility, but ESGF indexes might not\\\\nsuccessfully perform a distributed search when this option is used, so some\\\\nresults may be missing.  For full results, it is recommended to pass a list of\\\\nfacets of interest when instantiating a context object.  For example,\\\\n\\\\n      ctx = conn.new_context(facets=\\'project,experiment_id\\')\\\\n\\\\nOnly the facets that you specify will be present in the facets_counts dictionary.\\\\n\\\\nThis warning is displayed when a distributed search is performed while using the\\\\nfacets=* default, a maximum of once per context object.  To suppress this warning,\\\\nset the environment variable ESGF_PYCLIENT_NO_FACETS_STAR_WARNING to any value\\\\nor explicitly use  conn.new_context(facets=\\'*\\')\\\\n\\\\n-------------------------------------------------------------------------------\\\\n\", \"status\": \"running\"}\\n{\"message\": \"CMIP6.CMIP.NCAR.CESM2.historical.r9i1p1f1.Omon.thetao.gn.v20190311: Found 4 hits\", \"status\": \"running\"}\\n{\"message\": \"\\\\n\", \"status\": \"running\"}\\n{\"message\": \"CMIP6.CMIP.NCAR.CESM2.historical.r9i1p1f1.Omon.thetao.gn.v20190311-CMIP6.CMIP.NCAR.CESM2.historical.r9i1p1f1.Omon.thetao.gn.v20190311|aims3.llnl.gov: Extracting URLS\", \"status\": \"running\"}\\n{\"message\": \"\\\\n\", \"status\": \"running\"}\\n{\"message\": \"\\\\n-------------------------------------------------------------------------------\\\\nWarning - defaulting to search with facets=*\\\\n\\\\nThis behavior is kept for backward-compatibility, but ESGF indexes might not\\\\nsuccessfully perform a distributed search when this option is used, so some\\\\nresults may be missing.  For full results, it is recommended to pass a list of\\\\nfacets of interest when instantiating a context object.  For example,\\\\n\\\\n      ctx = conn.new_context(facets=\\'project,experiment_id\\')\\\\n\\\\nOnly the facets that you specify will be present in the facets_counts dictionary.\\\\n\\\\nThis warning is displayed when a distributed search is performed while using the\\\\nfacets=* default, a maximum of once per context object.  To suppress this warning,\\\\nset the environment variable ESGF_PYCLIENT_NO_FACETS_STAR_WARNING to any value\\\\nor explicitly use  conn.new_context(facets=\\'*\\')\\\\n\\\\n-------------------------------------------------------------------------------\\\\n\", \"status\": \"running\"}\\n{\"message\": \"Error during running: self.recipe_id=\\'CMIP6.ScenarioMIP.EC-Earth-Consortium.EC-Earth3.ssp585.r107i1p1f1.day.psl.gr.v20200412\\' not in [\\'CMIP6.ScenarioMIP.MRI.MRI-ESM2-0.ssp585.r2i1p1f1.day.sfcWind.gn.v20210907\\', \\'CMIP6.ScenarioMIP.MRI.MRI-ESM2-0.ssp585.r2i1p1f1.day.psl.gn.v20210907\\', \\'CMIP6.ScenarioMIP.MIROC.MIROC6.ssp585.r4i1p1f1.day.psl.gn.v20200623\\', \\'CMIP6.ScenarioMIP.MOHC.HadGEM3-GC31-MM.ssp585.r2i1p1f3.day.psl.gn.v20200515\\', \\'CMIP6.CMIP.NOAA-GFDL.GFDL-CM4.historical.r1i1p1f1.Omon.thetao.gn.v20180701\\', \\'CMIP6.CMIP.NCAR.CESM2.historical.r9i1p1f1.Omon.thetao.gn.v20190311\\']\", \"exc_info\": \"Traceback (most recent call last):\\\\n  File \\\\\"/Users/juliusbusecke/miniconda/envs/cmip-maintenance/bin/pangeo-forge-runner\\\\\", line 8, in <module>\\\\n    sys.exit(main())\\\\n  File \\\\\"/Users/juliusbusecke/miniconda/envs/cmip-maintenance/lib/python3.9/site-packages/pangeo_forge_runner/cli.py\\\\\", line 28, in main\\\\n    app.start()\\\\n  File \\\\\"/Users/juliusbusecke/miniconda/envs/cmip-maintenance/lib/python3.9/site-packages/pangeo_forge_runner/cli.py\\\\\", line 23, in start\\\\n    super().start()\\\\n  File \\\\\"/Users/juliusbusecke/miniconda/envs/cmip-maintenance/lib/python3.9/site-packages/traitlets/config/application.py\\\\\", line 473, in start\\\\n    return self.subapp.start()\\\\n  File \\\\\"/Users/juliusbusecke/miniconda/envs/cmip-maintenance/lib/python3.9/site-packages/pangeo_forge_runner/commands/bake.py\\\\\", line 188, in start\\\\n    raise ValueError(f\\\\\"{self.recipe_id=} not in {list(recipes)}\\\\\")\\\\nValueError: self.recipe_id=\\'CMIP6.ScenarioMIP.EC-Earth-Consortium.EC-Earth3.ssp585.r107i1p1f1.day.psl.gr.v20200412\\' not in [\\'CMIP6.ScenarioMIP.MRI.MRI-ESM2-0.ssp585.r2i1p1f1.day.sfcWind.gn.v20210907\\', \\'CMIP6.ScenarioMIP.MRI.MRI-ESM2-0.ssp585.r2i1p1f1.day.psl.gn.v20210907\\', \\'CMIP6.ScenarioMIP.MIROC.MIROC6.ssp585.r4i1p1f1.day.psl.gn.v20200623\\', \\'CMIP6.ScenarioMIP.MOHC.HadGEM3-GC31-MM.ssp585.r2i1p1f3.day.psl.gn.v20200515\\', \\'CMIP6.CMIP.NOAA-GFDL.GFDL-CM4.historical.r1i1p1f1.Omon.thetao.gn.v20180701\\', \\'CMIP6.CMIP.NCAR.CESM2.historical.r9i1p1f1.Omon.thetao.gn.v20190311\\']\", \"status\": \"failed\"}\\n', stderr=b'')"
      ]
     },
     "execution_count": 9,
     "metadata": {},
     "output_type": "execute_result"
    }
   ],
   "source": [
    "submit_proc"
   ]
  },
  {
   "cell_type": "code",
   "execution_count": null,
   "id": "c89c5ee7-dea1-438e-8c8b-6e9c421e0e8d",
   "metadata": {},
   "outputs": [],
   "source": []
  }
 ],
 "metadata": {
  "kernelspec": {
   "display_name": "Python 3 (ipykernel)",
   "language": "python",
   "name": "python3"
  },
  "language_info": {
   "codemirror_mode": {
    "name": "ipython",
    "version": 3
   },
   "file_extension": ".py",
   "mimetype": "text/x-python",
   "name": "python",
   "nbconvert_exporter": "python",
   "pygments_lexer": "ipython3",
   "version": "3.9.16"
  }
 },
 "nbformat": 4,
 "nbformat_minor": 5
}
