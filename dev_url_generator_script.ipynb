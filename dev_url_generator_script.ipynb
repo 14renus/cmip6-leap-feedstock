{
 "cells": [
  {
   "cell_type": "markdown",
   "id": "332f617e-a8e7-4ba8-a2cd-a3a1ba014d99",
   "metadata": {},
   "source": [
    "# A script that generates urls for iids from the ESGF API (\n",
    "removing this from the runtime recipe generation should speed up submission by a lot!\n",
    "\n",
    "- Only overwrite when forced? Later"
   ]
  },
  {
   "cell_type": "code",
   "execution_count": 11,
   "id": "be852e09-b6b3-4167-b484-639bf0a1fbaa",
   "metadata": {
    "tags": []
   },
   "outputs": [],
   "source": [
    "# from transforms import StoreToZarrLegacyDynamic as StoreToZarr\n",
    "import json\n",
    "from pyesgf.search import SearchConnection\n",
    "\n",
    "iids = []\n",
    "with open('tim_iids.txt') as f:\n",
    "    for line in f:\n",
    "        if not '#' in line:\n",
    "            \n",
    "            # iids.append(str(line).replace(\" \", \"\").replace(\"',\\n\", \"\").replace(\"'\",\"\"))\n",
    "            iids.append(line.strip().replace('\\n', ''))\n",
    "list(iids)\n",
    "\n",
    "# try the MIROC ones that were not available again\n",
    "iids = []"
   ]
  },
  {
   "cell_type": "code",
   "execution_count": 12,
   "id": "542f7280-3945-4347-8c93-40aae4d77773",
   "metadata": {
    "tags": []
   },
   "outputs": [],
   "source": [
    "# iids = {}"
   ]
  },
  {
   "cell_type": "code",
   "execution_count": 13,
   "id": "f0a29c89-cbd9-4d76-9fc9-eb40ebe5c085",
   "metadata": {
    "tags": []
   },
   "outputs": [
    {
     "name": "stdout",
     "output_type": "stream",
     "text": [
      "CMIP6.ScenarioMIP.MIROC.MIROC6.ssp245.r10i1p1f1.day.sfcWind.gn.v20200623: Found 2 hits\n",
      "CMIP6.ScenarioMIP.MIROC.MIROC6.ssp245.r10i1p1f1.day.sfcWind.gn.v20200623-CMIP6.ScenarioMIP.MIROC.MIROC6.ssp245.r10i1p1f1.day.sfcWind.gn.v20200623|esgf-data2.diasjp.net: Extracting URLS\n"
     ]
    },
    {
     "name": "stderr",
     "output_type": "stream",
     "text": [
      "\n",
      "-------------------------------------------------------------------------------\n",
      "Warning - defaulting to search with facets=*\n",
      "\n",
      "This behavior is kept for backward-compatibility, but ESGF indexes might not\n",
      "successfully perform a distributed search when this option is used, so some\n",
      "results may be missing.  For full results, it is recommended to pass a list of\n",
      "facets of interest when instantiating a context object.  For example,\n",
      "\n",
      "      ctx = conn.new_context(facets='project,experiment_id')\n",
      "\n",
      "Only the facets that you specify will be present in the facets_counts dictionary.\n",
      "\n",
      "This warning is displayed when a distributed search is performed while using the\n",
      "facets=* default, a maximum of once per context object.  To suppress this warning,\n",
      "set the environment variable ESGF_PYCLIENT_NO_FACETS_STAR_WARNING to any value\n",
      "or explicitly use  conn.new_context(facets='*')\n",
      "\n",
      "-------------------------------------------------------------------------------\n"
     ]
    },
    {
     "name": "stdout",
     "output_type": "stream",
     "text": [
      "CMIP6.ScenarioMIP.MIROC.MIROC6.ssp245.r10i1p1f1.day.sfcWind.gn.v20200623-CMIP6.ScenarioMIP.MIROC.MIROC6.ssp245.r10i1p1f1.day.sfcWind.gn.v20200623|esgf-data1.llnl.gov: Extracting URLS\n"
     ]
    },
    {
     "name": "stderr",
     "output_type": "stream",
     "text": [
      "\n",
      "-------------------------------------------------------------------------------\n",
      "Warning - defaulting to search with facets=*\n",
      "\n",
      "This behavior is kept for backward-compatibility, but ESGF indexes might not\n",
      "successfully perform a distributed search when this option is used, so some\n",
      "results may be missing.  For full results, it is recommended to pass a list of\n",
      "facets of interest when instantiating a context object.  For example,\n",
      "\n",
      "      ctx = conn.new_context(facets='project,experiment_id')\n",
      "\n",
      "Only the facets that you specify will be present in the facets_counts dictionary.\n",
      "\n",
      "This warning is displayed when a distributed search is performed while using the\n",
      "facets=* default, a maximum of once per context object.  To suppress this warning,\n",
      "set the environment variable ESGF_PYCLIENT_NO_FACETS_STAR_WARNING to any value\n",
      "or explicitly use  conn.new_context(facets='*')\n",
      "\n",
      "-------------------------------------------------------------------------------\n"
     ]
    },
    {
     "name": "stdout",
     "output_type": "stream",
     "text": [
      "CMIP6.ScenarioMIP.MIROC.MIROC6.ssp245.r11i1p1f1.day.sfcWind.gn.v20200623: Found 2 hits\n",
      "CMIP6.ScenarioMIP.MIROC.MIROC6.ssp245.r11i1p1f1.day.sfcWind.gn.v20200623-CMIP6.ScenarioMIP.MIROC.MIROC6.ssp245.r11i1p1f1.day.sfcWind.gn.v20200623|esgf-data1.llnl.gov: Extracting URLS\n"
     ]
    },
    {
     "name": "stderr",
     "output_type": "stream",
     "text": [
      "\n",
      "-------------------------------------------------------------------------------\n",
      "Warning - defaulting to search with facets=*\n",
      "\n",
      "This behavior is kept for backward-compatibility, but ESGF indexes might not\n",
      "successfully perform a distributed search when this option is used, so some\n",
      "results may be missing.  For full results, it is recommended to pass a list of\n",
      "facets of interest when instantiating a context object.  For example,\n",
      "\n",
      "      ctx = conn.new_context(facets='project,experiment_id')\n",
      "\n",
      "Only the facets that you specify will be present in the facets_counts dictionary.\n",
      "\n",
      "This warning is displayed when a distributed search is performed while using the\n",
      "facets=* default, a maximum of once per context object.  To suppress this warning,\n",
      "set the environment variable ESGF_PYCLIENT_NO_FACETS_STAR_WARNING to any value\n",
      "or explicitly use  conn.new_context(facets='*')\n",
      "\n",
      "-------------------------------------------------------------------------------\n"
     ]
    },
    {
     "name": "stdout",
     "output_type": "stream",
     "text": [
      "CMIP6.ScenarioMIP.MIROC.MIROC6.ssp245.r11i1p1f1.day.sfcWind.gn.v20200623-CMIP6.ScenarioMIP.MIROC.MIROC6.ssp245.r11i1p1f1.day.sfcWind.gn.v20200623|esgf-data2.diasjp.net: Extracting URLS\n"
     ]
    },
    {
     "name": "stderr",
     "output_type": "stream",
     "text": [
      "\n",
      "-------------------------------------------------------------------------------\n",
      "Warning - defaulting to search with facets=*\n",
      "\n",
      "This behavior is kept for backward-compatibility, but ESGF indexes might not\n",
      "successfully perform a distributed search when this option is used, so some\n",
      "results may be missing.  For full results, it is recommended to pass a list of\n",
      "facets of interest when instantiating a context object.  For example,\n",
      "\n",
      "      ctx = conn.new_context(facets='project,experiment_id')\n",
      "\n",
      "Only the facets that you specify will be present in the facets_counts dictionary.\n",
      "\n",
      "This warning is displayed when a distributed search is performed while using the\n",
      "facets=* default, a maximum of once per context object.  To suppress this warning,\n",
      "set the environment variable ESGF_PYCLIENT_NO_FACETS_STAR_WARNING to any value\n",
      "or explicitly use  conn.new_context(facets='*')\n",
      "\n",
      "-------------------------------------------------------------------------------\n"
     ]
    },
    {
     "name": "stdout",
     "output_type": "stream",
     "text": [
      "CMIP6.ScenarioMIP.MIROC.MIROC6.ssp245.r12i1p1f1.day.sfcWind.gn.v20200623: Found 2 hits\n",
      "CMIP6.ScenarioMIP.MIROC.MIROC6.ssp245.r12i1p1f1.day.sfcWind.gn.v20200623-CMIP6.ScenarioMIP.MIROC.MIROC6.ssp245.r12i1p1f1.day.sfcWind.gn.v20200623|esgf-data2.diasjp.net: Extracting URLS\n"
     ]
    },
    {
     "name": "stderr",
     "output_type": "stream",
     "text": [
      "\n",
      "-------------------------------------------------------------------------------\n",
      "Warning - defaulting to search with facets=*\n",
      "\n",
      "This behavior is kept for backward-compatibility, but ESGF indexes might not\n",
      "successfully perform a distributed search when this option is used, so some\n",
      "results may be missing.  For full results, it is recommended to pass a list of\n",
      "facets of interest when instantiating a context object.  For example,\n",
      "\n",
      "      ctx = conn.new_context(facets='project,experiment_id')\n",
      "\n",
      "Only the facets that you specify will be present in the facets_counts dictionary.\n",
      "\n",
      "This warning is displayed when a distributed search is performed while using the\n",
      "facets=* default, a maximum of once per context object.  To suppress this warning,\n",
      "set the environment variable ESGF_PYCLIENT_NO_FACETS_STAR_WARNING to any value\n",
      "or explicitly use  conn.new_context(facets='*')\n",
      "\n",
      "-------------------------------------------------------------------------------\n"
     ]
    },
    {
     "name": "stdout",
     "output_type": "stream",
     "text": [
      "CMIP6.ScenarioMIP.MIROC.MIROC6.ssp245.r12i1p1f1.day.sfcWind.gn.v20200623-CMIP6.ScenarioMIP.MIROC.MIROC6.ssp245.r12i1p1f1.day.sfcWind.gn.v20200623|esgf-data1.llnl.gov: Extracting URLS\n"
     ]
    },
    {
     "name": "stderr",
     "output_type": "stream",
     "text": [
      "\n",
      "-------------------------------------------------------------------------------\n",
      "Warning - defaulting to search with facets=*\n",
      "\n",
      "This behavior is kept for backward-compatibility, but ESGF indexes might not\n",
      "successfully perform a distributed search when this option is used, so some\n",
      "results may be missing.  For full results, it is recommended to pass a list of\n",
      "facets of interest when instantiating a context object.  For example,\n",
      "\n",
      "      ctx = conn.new_context(facets='project,experiment_id')\n",
      "\n",
      "Only the facets that you specify will be present in the facets_counts dictionary.\n",
      "\n",
      "This warning is displayed when a distributed search is performed while using the\n",
      "facets=* default, a maximum of once per context object.  To suppress this warning,\n",
      "set the environment variable ESGF_PYCLIENT_NO_FACETS_STAR_WARNING to any value\n",
      "or explicitly use  conn.new_context(facets='*')\n",
      "\n",
      "-------------------------------------------------------------------------------\n"
     ]
    },
    {
     "name": "stdout",
     "output_type": "stream",
     "text": [
      "CMIP6.ScenarioMIP.MIROC.MIROC6.ssp245.r13i1p1f1.day.sfcWind.gn.v20200623: Found 2 hits\n",
      "CMIP6.ScenarioMIP.MIROC.MIROC6.ssp245.r13i1p1f1.day.sfcWind.gn.v20200623-CMIP6.ScenarioMIP.MIROC.MIROC6.ssp245.r13i1p1f1.day.sfcWind.gn.v20200623|esgf-data2.diasjp.net: Extracting URLS\n"
     ]
    },
    {
     "name": "stderr",
     "output_type": "stream",
     "text": [
      "\n",
      "-------------------------------------------------------------------------------\n",
      "Warning - defaulting to search with facets=*\n",
      "\n",
      "This behavior is kept for backward-compatibility, but ESGF indexes might not\n",
      "successfully perform a distributed search when this option is used, so some\n",
      "results may be missing.  For full results, it is recommended to pass a list of\n",
      "facets of interest when instantiating a context object.  For example,\n",
      "\n",
      "      ctx = conn.new_context(facets='project,experiment_id')\n",
      "\n",
      "Only the facets that you specify will be present in the facets_counts dictionary.\n",
      "\n",
      "This warning is displayed when a distributed search is performed while using the\n",
      "facets=* default, a maximum of once per context object.  To suppress this warning,\n",
      "set the environment variable ESGF_PYCLIENT_NO_FACETS_STAR_WARNING to any value\n",
      "or explicitly use  conn.new_context(facets='*')\n",
      "\n",
      "-------------------------------------------------------------------------------\n"
     ]
    },
    {
     "name": "stdout",
     "output_type": "stream",
     "text": [
      "CMIP6.ScenarioMIP.MIROC.MIROC6.ssp245.r13i1p1f1.day.sfcWind.gn.v20200623-CMIP6.ScenarioMIP.MIROC.MIROC6.ssp245.r13i1p1f1.day.sfcWind.gn.v20200623|esgf-data1.llnl.gov: Extracting URLS\n"
     ]
    },
    {
     "name": "stderr",
     "output_type": "stream",
     "text": [
      "\n",
      "-------------------------------------------------------------------------------\n",
      "Warning - defaulting to search with facets=*\n",
      "\n",
      "This behavior is kept for backward-compatibility, but ESGF indexes might not\n",
      "successfully perform a distributed search when this option is used, so some\n",
      "results may be missing.  For full results, it is recommended to pass a list of\n",
      "facets of interest when instantiating a context object.  For example,\n",
      "\n",
      "      ctx = conn.new_context(facets='project,experiment_id')\n",
      "\n",
      "Only the facets that you specify will be present in the facets_counts dictionary.\n",
      "\n",
      "This warning is displayed when a distributed search is performed while using the\n",
      "facets=* default, a maximum of once per context object.  To suppress this warning,\n",
      "set the environment variable ESGF_PYCLIENT_NO_FACETS_STAR_WARNING to any value\n",
      "or explicitly use  conn.new_context(facets='*')\n",
      "\n",
      "-------------------------------------------------------------------------------\n"
     ]
    },
    {
     "name": "stdout",
     "output_type": "stream",
     "text": [
      "CMIP6.ScenarioMIP.MIROC.MIROC6.ssp245.r14i1p1f1.day.sfcWind.gn.v20200623: Found 2 hits\n",
      "CMIP6.ScenarioMIP.MIROC.MIROC6.ssp245.r14i1p1f1.day.sfcWind.gn.v20200623-CMIP6.ScenarioMIP.MIROC.MIROC6.ssp245.r14i1p1f1.day.sfcWind.gn.v20200623|esgf-data1.llnl.gov: Extracting URLS\n"
     ]
    },
    {
     "name": "stderr",
     "output_type": "stream",
     "text": [
      "\n",
      "-------------------------------------------------------------------------------\n",
      "Warning - defaulting to search with facets=*\n",
      "\n",
      "This behavior is kept for backward-compatibility, but ESGF indexes might not\n",
      "successfully perform a distributed search when this option is used, so some\n",
      "results may be missing.  For full results, it is recommended to pass a list of\n",
      "facets of interest when instantiating a context object.  For example,\n",
      "\n",
      "      ctx = conn.new_context(facets='project,experiment_id')\n",
      "\n",
      "Only the facets that you specify will be present in the facets_counts dictionary.\n",
      "\n",
      "This warning is displayed when a distributed search is performed while using the\n",
      "facets=* default, a maximum of once per context object.  To suppress this warning,\n",
      "set the environment variable ESGF_PYCLIENT_NO_FACETS_STAR_WARNING to any value\n",
      "or explicitly use  conn.new_context(facets='*')\n",
      "\n",
      "-------------------------------------------------------------------------------\n"
     ]
    },
    {
     "name": "stdout",
     "output_type": "stream",
     "text": [
      "CMIP6.ScenarioMIP.MIROC.MIROC6.ssp245.r14i1p1f1.day.sfcWind.gn.v20200623-CMIP6.ScenarioMIP.MIROC.MIROC6.ssp245.r14i1p1f1.day.sfcWind.gn.v20200623|esgf-data2.diasjp.net: Extracting URLS\n"
     ]
    },
    {
     "name": "stderr",
     "output_type": "stream",
     "text": [
      "\n",
      "-------------------------------------------------------------------------------\n",
      "Warning - defaulting to search with facets=*\n",
      "\n",
      "This behavior is kept for backward-compatibility, but ESGF indexes might not\n",
      "successfully perform a distributed search when this option is used, so some\n",
      "results may be missing.  For full results, it is recommended to pass a list of\n",
      "facets of interest when instantiating a context object.  For example,\n",
      "\n",
      "      ctx = conn.new_context(facets='project,experiment_id')\n",
      "\n",
      "Only the facets that you specify will be present in the facets_counts dictionary.\n",
      "\n",
      "This warning is displayed when a distributed search is performed while using the\n",
      "facets=* default, a maximum of once per context object.  To suppress this warning,\n",
      "set the environment variable ESGF_PYCLIENT_NO_FACETS_STAR_WARNING to any value\n",
      "or explicitly use  conn.new_context(facets='*')\n",
      "\n",
      "-------------------------------------------------------------------------------\n"
     ]
    },
    {
     "name": "stdout",
     "output_type": "stream",
     "text": [
      "CMIP6.ScenarioMIP.MIROC.MIROC6.ssp245.r15i1p1f1.day.sfcWind.gn.v20200623: Found 2 hits\n",
      "CMIP6.ScenarioMIP.MIROC.MIROC6.ssp245.r15i1p1f1.day.sfcWind.gn.v20200623-CMIP6.ScenarioMIP.MIROC.MIROC6.ssp245.r15i1p1f1.day.sfcWind.gn.v20200623|esgf-data1.llnl.gov: Extracting URLS\n"
     ]
    },
    {
     "name": "stderr",
     "output_type": "stream",
     "text": [
      "\n",
      "-------------------------------------------------------------------------------\n",
      "Warning - defaulting to search with facets=*\n",
      "\n",
      "This behavior is kept for backward-compatibility, but ESGF indexes might not\n",
      "successfully perform a distributed search when this option is used, so some\n",
      "results may be missing.  For full results, it is recommended to pass a list of\n",
      "facets of interest when instantiating a context object.  For example,\n",
      "\n",
      "      ctx = conn.new_context(facets='project,experiment_id')\n",
      "\n",
      "Only the facets that you specify will be present in the facets_counts dictionary.\n",
      "\n",
      "This warning is displayed when a distributed search is performed while using the\n",
      "facets=* default, a maximum of once per context object.  To suppress this warning,\n",
      "set the environment variable ESGF_PYCLIENT_NO_FACETS_STAR_WARNING to any value\n",
      "or explicitly use  conn.new_context(facets='*')\n",
      "\n",
      "-------------------------------------------------------------------------------\n"
     ]
    },
    {
     "name": "stdout",
     "output_type": "stream",
     "text": [
      "CMIP6.ScenarioMIP.MIROC.MIROC6.ssp245.r15i1p1f1.day.sfcWind.gn.v20200623-CMIP6.ScenarioMIP.MIROC.MIROC6.ssp245.r15i1p1f1.day.sfcWind.gn.v20200623|esgf-data2.diasjp.net: Extracting URLS\n"
     ]
    },
    {
     "name": "stderr",
     "output_type": "stream",
     "text": [
      "\n",
      "-------------------------------------------------------------------------------\n",
      "Warning - defaulting to search with facets=*\n",
      "\n",
      "This behavior is kept for backward-compatibility, but ESGF indexes might not\n",
      "successfully perform a distributed search when this option is used, so some\n",
      "results may be missing.  For full results, it is recommended to pass a list of\n",
      "facets of interest when instantiating a context object.  For example,\n",
      "\n",
      "      ctx = conn.new_context(facets='project,experiment_id')\n",
      "\n",
      "Only the facets that you specify will be present in the facets_counts dictionary.\n",
      "\n",
      "This warning is displayed when a distributed search is performed while using the\n",
      "facets=* default, a maximum of once per context object.  To suppress this warning,\n",
      "set the environment variable ESGF_PYCLIENT_NO_FACETS_STAR_WARNING to any value\n",
      "or explicitly use  conn.new_context(facets='*')\n",
      "\n",
      "-------------------------------------------------------------------------------\n"
     ]
    },
    {
     "name": "stdout",
     "output_type": "stream",
     "text": [
      "CMIP6.ScenarioMIP.MIROC.MIROC6.ssp245.r16i1p1f1.day.sfcWind.gn.v20200623: Found 2 hits\n",
      "CMIP6.ScenarioMIP.MIROC.MIROC6.ssp245.r16i1p1f1.day.sfcWind.gn.v20200623-CMIP6.ScenarioMIP.MIROC.MIROC6.ssp245.r16i1p1f1.day.sfcWind.gn.v20200623|esgf-data2.diasjp.net: Extracting URLS\n"
     ]
    },
    {
     "name": "stderr",
     "output_type": "stream",
     "text": [
      "\n",
      "-------------------------------------------------------------------------------\n",
      "Warning - defaulting to search with facets=*\n",
      "\n",
      "This behavior is kept for backward-compatibility, but ESGF indexes might not\n",
      "successfully perform a distributed search when this option is used, so some\n",
      "results may be missing.  For full results, it is recommended to pass a list of\n",
      "facets of interest when instantiating a context object.  For example,\n",
      "\n",
      "      ctx = conn.new_context(facets='project,experiment_id')\n",
      "\n",
      "Only the facets that you specify will be present in the facets_counts dictionary.\n",
      "\n",
      "This warning is displayed when a distributed search is performed while using the\n",
      "facets=* default, a maximum of once per context object.  To suppress this warning,\n",
      "set the environment variable ESGF_PYCLIENT_NO_FACETS_STAR_WARNING to any value\n",
      "or explicitly use  conn.new_context(facets='*')\n",
      "\n",
      "-------------------------------------------------------------------------------\n"
     ]
    },
    {
     "name": "stdout",
     "output_type": "stream",
     "text": [
      "CMIP6.ScenarioMIP.MIROC.MIROC6.ssp245.r16i1p1f1.day.sfcWind.gn.v20200623-CMIP6.ScenarioMIP.MIROC.MIROC6.ssp245.r16i1p1f1.day.sfcWind.gn.v20200623|esgf-data1.llnl.gov: Extracting URLS\n"
     ]
    },
    {
     "name": "stderr",
     "output_type": "stream",
     "text": [
      "\n",
      "-------------------------------------------------------------------------------\n",
      "Warning - defaulting to search with facets=*\n",
      "\n",
      "This behavior is kept for backward-compatibility, but ESGF indexes might not\n",
      "successfully perform a distributed search when this option is used, so some\n",
      "results may be missing.  For full results, it is recommended to pass a list of\n",
      "facets of interest when instantiating a context object.  For example,\n",
      "\n",
      "      ctx = conn.new_context(facets='project,experiment_id')\n",
      "\n",
      "Only the facets that you specify will be present in the facets_counts dictionary.\n",
      "\n",
      "This warning is displayed when a distributed search is performed while using the\n",
      "facets=* default, a maximum of once per context object.  To suppress this warning,\n",
      "set the environment variable ESGF_PYCLIENT_NO_FACETS_STAR_WARNING to any value\n",
      "or explicitly use  conn.new_context(facets='*')\n",
      "\n",
      "-------------------------------------------------------------------------------\n"
     ]
    },
    {
     "name": "stdout",
     "output_type": "stream",
     "text": [
      "CMIP6.ScenarioMIP.MIROC.MIROC6.ssp245.r17i1p1f1.day.sfcWind.gn.v20200623: Found 2 hits\n",
      "CMIP6.ScenarioMIP.MIROC.MIROC6.ssp245.r17i1p1f1.day.sfcWind.gn.v20200623-CMIP6.ScenarioMIP.MIROC.MIROC6.ssp245.r17i1p1f1.day.sfcWind.gn.v20200623|esgf-data1.llnl.gov: Extracting URLS\n"
     ]
    },
    {
     "name": "stderr",
     "output_type": "stream",
     "text": [
      "\n",
      "-------------------------------------------------------------------------------\n",
      "Warning - defaulting to search with facets=*\n",
      "\n",
      "This behavior is kept for backward-compatibility, but ESGF indexes might not\n",
      "successfully perform a distributed search when this option is used, so some\n",
      "results may be missing.  For full results, it is recommended to pass a list of\n",
      "facets of interest when instantiating a context object.  For example,\n",
      "\n",
      "      ctx = conn.new_context(facets='project,experiment_id')\n",
      "\n",
      "Only the facets that you specify will be present in the facets_counts dictionary.\n",
      "\n",
      "This warning is displayed when a distributed search is performed while using the\n",
      "facets=* default, a maximum of once per context object.  To suppress this warning,\n",
      "set the environment variable ESGF_PYCLIENT_NO_FACETS_STAR_WARNING to any value\n",
      "or explicitly use  conn.new_context(facets='*')\n",
      "\n",
      "-------------------------------------------------------------------------------\n"
     ]
    },
    {
     "name": "stdout",
     "output_type": "stream",
     "text": [
      "CMIP6.ScenarioMIP.MIROC.MIROC6.ssp245.r17i1p1f1.day.sfcWind.gn.v20200623-CMIP6.ScenarioMIP.MIROC.MIROC6.ssp245.r17i1p1f1.day.sfcWind.gn.v20200623|esgf-data2.diasjp.net: Extracting URLS\n"
     ]
    },
    {
     "name": "stderr",
     "output_type": "stream",
     "text": [
      "\n",
      "-------------------------------------------------------------------------------\n",
      "Warning - defaulting to search with facets=*\n",
      "\n",
      "This behavior is kept for backward-compatibility, but ESGF indexes might not\n",
      "successfully perform a distributed search when this option is used, so some\n",
      "results may be missing.  For full results, it is recommended to pass a list of\n",
      "facets of interest when instantiating a context object.  For example,\n",
      "\n",
      "      ctx = conn.new_context(facets='project,experiment_id')\n",
      "\n",
      "Only the facets that you specify will be present in the facets_counts dictionary.\n",
      "\n",
      "This warning is displayed when a distributed search is performed while using the\n",
      "facets=* default, a maximum of once per context object.  To suppress this warning,\n",
      "set the environment variable ESGF_PYCLIENT_NO_FACETS_STAR_WARNING to any value\n",
      "or explicitly use  conn.new_context(facets='*')\n",
      "\n",
      "-------------------------------------------------------------------------------\n"
     ]
    },
    {
     "name": "stdout",
     "output_type": "stream",
     "text": [
      "CMIP6.ScenarioMIP.MIROC.MIROC6.ssp245.r18i1p1f1.day.sfcWind.gn.v20200623: Found 2 hits\n",
      "CMIP6.ScenarioMIP.MIROC.MIROC6.ssp245.r18i1p1f1.day.sfcWind.gn.v20200623-CMIP6.ScenarioMIP.MIROC.MIROC6.ssp245.r18i1p1f1.day.sfcWind.gn.v20200623|esgf-data2.diasjp.net: Extracting URLS\n"
     ]
    },
    {
     "name": "stderr",
     "output_type": "stream",
     "text": [
      "\n",
      "-------------------------------------------------------------------------------\n",
      "Warning - defaulting to search with facets=*\n",
      "\n",
      "This behavior is kept for backward-compatibility, but ESGF indexes might not\n",
      "successfully perform a distributed search when this option is used, so some\n",
      "results may be missing.  For full results, it is recommended to pass a list of\n",
      "facets of interest when instantiating a context object.  For example,\n",
      "\n",
      "      ctx = conn.new_context(facets='project,experiment_id')\n",
      "\n",
      "Only the facets that you specify will be present in the facets_counts dictionary.\n",
      "\n",
      "This warning is displayed when a distributed search is performed while using the\n",
      "facets=* default, a maximum of once per context object.  To suppress this warning,\n",
      "set the environment variable ESGF_PYCLIENT_NO_FACETS_STAR_WARNING to any value\n",
      "or explicitly use  conn.new_context(facets='*')\n",
      "\n",
      "-------------------------------------------------------------------------------\n"
     ]
    },
    {
     "name": "stdout",
     "output_type": "stream",
     "text": [
      "CMIP6.ScenarioMIP.MIROC.MIROC6.ssp245.r18i1p1f1.day.sfcWind.gn.v20200623-CMIP6.ScenarioMIP.MIROC.MIROC6.ssp245.r18i1p1f1.day.sfcWind.gn.v20200623|esgf-data1.llnl.gov: Extracting URLS\n"
     ]
    },
    {
     "name": "stderr",
     "output_type": "stream",
     "text": [
      "\n",
      "-------------------------------------------------------------------------------\n",
      "Warning - defaulting to search with facets=*\n",
      "\n",
      "This behavior is kept for backward-compatibility, but ESGF indexes might not\n",
      "successfully perform a distributed search when this option is used, so some\n",
      "results may be missing.  For full results, it is recommended to pass a list of\n",
      "facets of interest when instantiating a context object.  For example,\n",
      "\n",
      "      ctx = conn.new_context(facets='project,experiment_id')\n",
      "\n",
      "Only the facets that you specify will be present in the facets_counts dictionary.\n",
      "\n",
      "This warning is displayed when a distributed search is performed while using the\n",
      "facets=* default, a maximum of once per context object.  To suppress this warning,\n",
      "set the environment variable ESGF_PYCLIENT_NO_FACETS_STAR_WARNING to any value\n",
      "or explicitly use  conn.new_context(facets='*')\n",
      "\n",
      "-------------------------------------------------------------------------------\n"
     ]
    },
    {
     "name": "stdout",
     "output_type": "stream",
     "text": [
      "CMIP6.ScenarioMIP.MIROC.MIROC6.ssp245.r19i1p1f1.day.sfcWind.gn.v20200623: Found 2 hits\n",
      "CMIP6.ScenarioMIP.MIROC.MIROC6.ssp245.r19i1p1f1.day.sfcWind.gn.v20200623-CMIP6.ScenarioMIP.MIROC.MIROC6.ssp245.r19i1p1f1.day.sfcWind.gn.v20200623|esgf-data1.llnl.gov: Extracting URLS\n"
     ]
    },
    {
     "name": "stderr",
     "output_type": "stream",
     "text": [
      "\n",
      "-------------------------------------------------------------------------------\n",
      "Warning - defaulting to search with facets=*\n",
      "\n",
      "This behavior is kept for backward-compatibility, but ESGF indexes might not\n",
      "successfully perform a distributed search when this option is used, so some\n",
      "results may be missing.  For full results, it is recommended to pass a list of\n",
      "facets of interest when instantiating a context object.  For example,\n",
      "\n",
      "      ctx = conn.new_context(facets='project,experiment_id')\n",
      "\n",
      "Only the facets that you specify will be present in the facets_counts dictionary.\n",
      "\n",
      "This warning is displayed when a distributed search is performed while using the\n",
      "facets=* default, a maximum of once per context object.  To suppress this warning,\n",
      "set the environment variable ESGF_PYCLIENT_NO_FACETS_STAR_WARNING to any value\n",
      "or explicitly use  conn.new_context(facets='*')\n",
      "\n",
      "-------------------------------------------------------------------------------\n"
     ]
    },
    {
     "name": "stdout",
     "output_type": "stream",
     "text": [
      "CMIP6.ScenarioMIP.MIROC.MIROC6.ssp245.r19i1p1f1.day.sfcWind.gn.v20200623-CMIP6.ScenarioMIP.MIROC.MIROC6.ssp245.r19i1p1f1.day.sfcWind.gn.v20200623|esgf-data2.diasjp.net: Extracting URLS\n"
     ]
    },
    {
     "name": "stderr",
     "output_type": "stream",
     "text": [
      "\n",
      "-------------------------------------------------------------------------------\n",
      "Warning - defaulting to search with facets=*\n",
      "\n",
      "This behavior is kept for backward-compatibility, but ESGF indexes might not\n",
      "successfully perform a distributed search when this option is used, so some\n",
      "results may be missing.  For full results, it is recommended to pass a list of\n",
      "facets of interest when instantiating a context object.  For example,\n",
      "\n",
      "      ctx = conn.new_context(facets='project,experiment_id')\n",
      "\n",
      "Only the facets that you specify will be present in the facets_counts dictionary.\n",
      "\n",
      "This warning is displayed when a distributed search is performed while using the\n",
      "facets=* default, a maximum of once per context object.  To suppress this warning,\n",
      "set the environment variable ESGF_PYCLIENT_NO_FACETS_STAR_WARNING to any value\n",
      "or explicitly use  conn.new_context(facets='*')\n",
      "\n",
      "-------------------------------------------------------------------------------\n"
     ]
    },
    {
     "name": "stdout",
     "output_type": "stream",
     "text": [
      "CMIP6.ScenarioMIP.MIROC.MIROC6.ssp245.r20i1p1f1.day.sfcWind.gn.v20200623: Found 2 hits\n",
      "CMIP6.ScenarioMIP.MIROC.MIROC6.ssp245.r20i1p1f1.day.sfcWind.gn.v20200623-CMIP6.ScenarioMIP.MIROC.MIROC6.ssp245.r20i1p1f1.day.sfcWind.gn.v20200623|esgf-data1.llnl.gov: Extracting URLS\n"
     ]
    },
    {
     "name": "stderr",
     "output_type": "stream",
     "text": [
      "\n",
      "-------------------------------------------------------------------------------\n",
      "Warning - defaulting to search with facets=*\n",
      "\n",
      "This behavior is kept for backward-compatibility, but ESGF indexes might not\n",
      "successfully perform a distributed search when this option is used, so some\n",
      "results may be missing.  For full results, it is recommended to pass a list of\n",
      "facets of interest when instantiating a context object.  For example,\n",
      "\n",
      "      ctx = conn.new_context(facets='project,experiment_id')\n",
      "\n",
      "Only the facets that you specify will be present in the facets_counts dictionary.\n",
      "\n",
      "This warning is displayed when a distributed search is performed while using the\n",
      "facets=* default, a maximum of once per context object.  To suppress this warning,\n",
      "set the environment variable ESGF_PYCLIENT_NO_FACETS_STAR_WARNING to any value\n",
      "or explicitly use  conn.new_context(facets='*')\n",
      "\n",
      "-------------------------------------------------------------------------------\n"
     ]
    },
    {
     "name": "stdout",
     "output_type": "stream",
     "text": [
      "CMIP6.ScenarioMIP.MIROC.MIROC6.ssp245.r20i1p1f1.day.sfcWind.gn.v20200623-CMIP6.ScenarioMIP.MIROC.MIROC6.ssp245.r20i1p1f1.day.sfcWind.gn.v20200623|esgf-data2.diasjp.net: Extracting URLS\n"
     ]
    },
    {
     "name": "stderr",
     "output_type": "stream",
     "text": [
      "\n",
      "-------------------------------------------------------------------------------\n",
      "Warning - defaulting to search with facets=*\n",
      "\n",
      "This behavior is kept for backward-compatibility, but ESGF indexes might not\n",
      "successfully perform a distributed search when this option is used, so some\n",
      "results may be missing.  For full results, it is recommended to pass a list of\n",
      "facets of interest when instantiating a context object.  For example,\n",
      "\n",
      "      ctx = conn.new_context(facets='project,experiment_id')\n",
      "\n",
      "Only the facets that you specify will be present in the facets_counts dictionary.\n",
      "\n",
      "This warning is displayed when a distributed search is performed while using the\n",
      "facets=* default, a maximum of once per context object.  To suppress this warning,\n",
      "set the environment variable ESGF_PYCLIENT_NO_FACETS_STAR_WARNING to any value\n",
      "or explicitly use  conn.new_context(facets='*')\n",
      "\n",
      "-------------------------------------------------------------------------------\n"
     ]
    },
    {
     "name": "stdout",
     "output_type": "stream",
     "text": [
      "CMIP6.ScenarioMIP.MIROC.MIROC6.ssp245.r4i1p1f1.day.sfcWind.gn.v20200623: Found 2 hits\n",
      "CMIP6.ScenarioMIP.MIROC.MIROC6.ssp245.r4i1p1f1.day.sfcWind.gn.v20200623-CMIP6.ScenarioMIP.MIROC.MIROC6.ssp245.r4i1p1f1.day.sfcWind.gn.v20200623|esgf-data1.llnl.gov: Extracting URLS\n"
     ]
    },
    {
     "name": "stderr",
     "output_type": "stream",
     "text": [
      "\n",
      "-------------------------------------------------------------------------------\n",
      "Warning - defaulting to search with facets=*\n",
      "\n",
      "This behavior is kept for backward-compatibility, but ESGF indexes might not\n",
      "successfully perform a distributed search when this option is used, so some\n",
      "results may be missing.  For full results, it is recommended to pass a list of\n",
      "facets of interest when instantiating a context object.  For example,\n",
      "\n",
      "      ctx = conn.new_context(facets='project,experiment_id')\n",
      "\n",
      "Only the facets that you specify will be present in the facets_counts dictionary.\n",
      "\n",
      "This warning is displayed when a distributed search is performed while using the\n",
      "facets=* default, a maximum of once per context object.  To suppress this warning,\n",
      "set the environment variable ESGF_PYCLIENT_NO_FACETS_STAR_WARNING to any value\n",
      "or explicitly use  conn.new_context(facets='*')\n",
      "\n",
      "-------------------------------------------------------------------------------\n"
     ]
    },
    {
     "name": "stdout",
     "output_type": "stream",
     "text": [
      "CMIP6.ScenarioMIP.MIROC.MIROC6.ssp245.r4i1p1f1.day.sfcWind.gn.v20200623-CMIP6.ScenarioMIP.MIROC.MIROC6.ssp245.r4i1p1f1.day.sfcWind.gn.v20200623|esgf-data2.diasjp.net: Extracting URLS\n"
     ]
    },
    {
     "name": "stderr",
     "output_type": "stream",
     "text": [
      "\n",
      "-------------------------------------------------------------------------------\n",
      "Warning - defaulting to search with facets=*\n",
      "\n",
      "This behavior is kept for backward-compatibility, but ESGF indexes might not\n",
      "successfully perform a distributed search when this option is used, so some\n",
      "results may be missing.  For full results, it is recommended to pass a list of\n",
      "facets of interest when instantiating a context object.  For example,\n",
      "\n",
      "      ctx = conn.new_context(facets='project,experiment_id')\n",
      "\n",
      "Only the facets that you specify will be present in the facets_counts dictionary.\n",
      "\n",
      "This warning is displayed when a distributed search is performed while using the\n",
      "facets=* default, a maximum of once per context object.  To suppress this warning,\n",
      "set the environment variable ESGF_PYCLIENT_NO_FACETS_STAR_WARNING to any value\n",
      "or explicitly use  conn.new_context(facets='*')\n",
      "\n",
      "-------------------------------------------------------------------------------\n"
     ]
    },
    {
     "name": "stdout",
     "output_type": "stream",
     "text": [
      "CMIP6.ScenarioMIP.MIROC.MIROC6.ssp245.r5i1p1f1.day.sfcWind.gn.v20200623: Found 2 hits\n",
      "CMIP6.ScenarioMIP.MIROC.MIROC6.ssp245.r5i1p1f1.day.sfcWind.gn.v20200623-CMIP6.ScenarioMIP.MIROC.MIROC6.ssp245.r5i1p1f1.day.sfcWind.gn.v20200623|esgf-data1.llnl.gov: Extracting URLS\n"
     ]
    },
    {
     "name": "stderr",
     "output_type": "stream",
     "text": [
      "\n",
      "-------------------------------------------------------------------------------\n",
      "Warning - defaulting to search with facets=*\n",
      "\n",
      "This behavior is kept for backward-compatibility, but ESGF indexes might not\n",
      "successfully perform a distributed search when this option is used, so some\n",
      "results may be missing.  For full results, it is recommended to pass a list of\n",
      "facets of interest when instantiating a context object.  For example,\n",
      "\n",
      "      ctx = conn.new_context(facets='project,experiment_id')\n",
      "\n",
      "Only the facets that you specify will be present in the facets_counts dictionary.\n",
      "\n",
      "This warning is displayed when a distributed search is performed while using the\n",
      "facets=* default, a maximum of once per context object.  To suppress this warning,\n",
      "set the environment variable ESGF_PYCLIENT_NO_FACETS_STAR_WARNING to any value\n",
      "or explicitly use  conn.new_context(facets='*')\n",
      "\n",
      "-------------------------------------------------------------------------------\n"
     ]
    },
    {
     "name": "stdout",
     "output_type": "stream",
     "text": [
      "CMIP6.ScenarioMIP.MIROC.MIROC6.ssp245.r5i1p1f1.day.sfcWind.gn.v20200623-CMIP6.ScenarioMIP.MIROC.MIROC6.ssp245.r5i1p1f1.day.sfcWind.gn.v20200623|esgf-data2.diasjp.net: Extracting URLS\n"
     ]
    },
    {
     "name": "stderr",
     "output_type": "stream",
     "text": [
      "\n",
      "-------------------------------------------------------------------------------\n",
      "Warning - defaulting to search with facets=*\n",
      "\n",
      "This behavior is kept for backward-compatibility, but ESGF indexes might not\n",
      "successfully perform a distributed search when this option is used, so some\n",
      "results may be missing.  For full results, it is recommended to pass a list of\n",
      "facets of interest when instantiating a context object.  For example,\n",
      "\n",
      "      ctx = conn.new_context(facets='project,experiment_id')\n",
      "\n",
      "Only the facets that you specify will be present in the facets_counts dictionary.\n",
      "\n",
      "This warning is displayed when a distributed search is performed while using the\n",
      "facets=* default, a maximum of once per context object.  To suppress this warning,\n",
      "set the environment variable ESGF_PYCLIENT_NO_FACETS_STAR_WARNING to any value\n",
      "or explicitly use  conn.new_context(facets='*')\n",
      "\n",
      "-------------------------------------------------------------------------------\n"
     ]
    },
    {
     "name": "stdout",
     "output_type": "stream",
     "text": [
      "CMIP6.ScenarioMIP.MIROC.MIROC6.ssp245.r6i1p1f1.day.sfcWind.gn.v20200623: Found 2 hits\n",
      "CMIP6.ScenarioMIP.MIROC.MIROC6.ssp245.r6i1p1f1.day.sfcWind.gn.v20200623-CMIP6.ScenarioMIP.MIROC.MIROC6.ssp245.r6i1p1f1.day.sfcWind.gn.v20200623|esgf-data1.llnl.gov: Extracting URLS\n"
     ]
    },
    {
     "name": "stderr",
     "output_type": "stream",
     "text": [
      "\n",
      "-------------------------------------------------------------------------------\n",
      "Warning - defaulting to search with facets=*\n",
      "\n",
      "This behavior is kept for backward-compatibility, but ESGF indexes might not\n",
      "successfully perform a distributed search when this option is used, so some\n",
      "results may be missing.  For full results, it is recommended to pass a list of\n",
      "facets of interest when instantiating a context object.  For example,\n",
      "\n",
      "      ctx = conn.new_context(facets='project,experiment_id')\n",
      "\n",
      "Only the facets that you specify will be present in the facets_counts dictionary.\n",
      "\n",
      "This warning is displayed when a distributed search is performed while using the\n",
      "facets=* default, a maximum of once per context object.  To suppress this warning,\n",
      "set the environment variable ESGF_PYCLIENT_NO_FACETS_STAR_WARNING to any value\n",
      "or explicitly use  conn.new_context(facets='*')\n",
      "\n",
      "-------------------------------------------------------------------------------\n"
     ]
    },
    {
     "name": "stdout",
     "output_type": "stream",
     "text": [
      "CMIP6.ScenarioMIP.MIROC.MIROC6.ssp245.r6i1p1f1.day.sfcWind.gn.v20200623-CMIP6.ScenarioMIP.MIROC.MIROC6.ssp245.r6i1p1f1.day.sfcWind.gn.v20200623|esgf-data2.diasjp.net: Extracting URLS\n"
     ]
    },
    {
     "name": "stderr",
     "output_type": "stream",
     "text": [
      "\n",
      "-------------------------------------------------------------------------------\n",
      "Warning - defaulting to search with facets=*\n",
      "\n",
      "This behavior is kept for backward-compatibility, but ESGF indexes might not\n",
      "successfully perform a distributed search when this option is used, so some\n",
      "results may be missing.  For full results, it is recommended to pass a list of\n",
      "facets of interest when instantiating a context object.  For example,\n",
      "\n",
      "      ctx = conn.new_context(facets='project,experiment_id')\n",
      "\n",
      "Only the facets that you specify will be present in the facets_counts dictionary.\n",
      "\n",
      "This warning is displayed when a distributed search is performed while using the\n",
      "facets=* default, a maximum of once per context object.  To suppress this warning,\n",
      "set the environment variable ESGF_PYCLIENT_NO_FACETS_STAR_WARNING to any value\n",
      "or explicitly use  conn.new_context(facets='*')\n",
      "\n",
      "-------------------------------------------------------------------------------\n"
     ]
    },
    {
     "name": "stdout",
     "output_type": "stream",
     "text": [
      "CMIP6.ScenarioMIP.MIROC.MIROC6.ssp245.r7i1p1f1.day.sfcWind.gn.v20200623: Found 2 hits\n",
      "CMIP6.ScenarioMIP.MIROC.MIROC6.ssp245.r7i1p1f1.day.sfcWind.gn.v20200623-CMIP6.ScenarioMIP.MIROC.MIROC6.ssp245.r7i1p1f1.day.sfcWind.gn.v20200623|esgf-data2.diasjp.net: Extracting URLS\n"
     ]
    },
    {
     "name": "stderr",
     "output_type": "stream",
     "text": [
      "\n",
      "-------------------------------------------------------------------------------\n",
      "Warning - defaulting to search with facets=*\n",
      "\n",
      "This behavior is kept for backward-compatibility, but ESGF indexes might not\n",
      "successfully perform a distributed search when this option is used, so some\n",
      "results may be missing.  For full results, it is recommended to pass a list of\n",
      "facets of interest when instantiating a context object.  For example,\n",
      "\n",
      "      ctx = conn.new_context(facets='project,experiment_id')\n",
      "\n",
      "Only the facets that you specify will be present in the facets_counts dictionary.\n",
      "\n",
      "This warning is displayed when a distributed search is performed while using the\n",
      "facets=* default, a maximum of once per context object.  To suppress this warning,\n",
      "set the environment variable ESGF_PYCLIENT_NO_FACETS_STAR_WARNING to any value\n",
      "or explicitly use  conn.new_context(facets='*')\n",
      "\n",
      "-------------------------------------------------------------------------------\n"
     ]
    },
    {
     "name": "stdout",
     "output_type": "stream",
     "text": [
      "CMIP6.ScenarioMIP.MIROC.MIROC6.ssp245.r7i1p1f1.day.sfcWind.gn.v20200623-CMIP6.ScenarioMIP.MIROC.MIROC6.ssp245.r7i1p1f1.day.sfcWind.gn.v20200623|esgf-data1.llnl.gov: Extracting URLS\n"
     ]
    },
    {
     "name": "stderr",
     "output_type": "stream",
     "text": [
      "\n",
      "-------------------------------------------------------------------------------\n",
      "Warning - defaulting to search with facets=*\n",
      "\n",
      "This behavior is kept for backward-compatibility, but ESGF indexes might not\n",
      "successfully perform a distributed search when this option is used, so some\n",
      "results may be missing.  For full results, it is recommended to pass a list of\n",
      "facets of interest when instantiating a context object.  For example,\n",
      "\n",
      "      ctx = conn.new_context(facets='project,experiment_id')\n",
      "\n",
      "Only the facets that you specify will be present in the facets_counts dictionary.\n",
      "\n",
      "This warning is displayed when a distributed search is performed while using the\n",
      "facets=* default, a maximum of once per context object.  To suppress this warning,\n",
      "set the environment variable ESGF_PYCLIENT_NO_FACETS_STAR_WARNING to any value\n",
      "or explicitly use  conn.new_context(facets='*')\n",
      "\n",
      "-------------------------------------------------------------------------------\n"
     ]
    },
    {
     "name": "stdout",
     "output_type": "stream",
     "text": [
      "CMIP6.ScenarioMIP.MIROC.MIROC6.ssp245.r8i1p1f1.day.sfcWind.gn.v20200623: Found 2 hits\n",
      "CMIP6.ScenarioMIP.MIROC.MIROC6.ssp245.r8i1p1f1.day.sfcWind.gn.v20200623-CMIP6.ScenarioMIP.MIROC.MIROC6.ssp245.r8i1p1f1.day.sfcWind.gn.v20200623|esgf-data2.diasjp.net: Extracting URLS\n"
     ]
    },
    {
     "name": "stderr",
     "output_type": "stream",
     "text": [
      "\n",
      "-------------------------------------------------------------------------------\n",
      "Warning - defaulting to search with facets=*\n",
      "\n",
      "This behavior is kept for backward-compatibility, but ESGF indexes might not\n",
      "successfully perform a distributed search when this option is used, so some\n",
      "results may be missing.  For full results, it is recommended to pass a list of\n",
      "facets of interest when instantiating a context object.  For example,\n",
      "\n",
      "      ctx = conn.new_context(facets='project,experiment_id')\n",
      "\n",
      "Only the facets that you specify will be present in the facets_counts dictionary.\n",
      "\n",
      "This warning is displayed when a distributed search is performed while using the\n",
      "facets=* default, a maximum of once per context object.  To suppress this warning,\n",
      "set the environment variable ESGF_PYCLIENT_NO_FACETS_STAR_WARNING to any value\n",
      "or explicitly use  conn.new_context(facets='*')\n",
      "\n",
      "-------------------------------------------------------------------------------\n"
     ]
    },
    {
     "name": "stdout",
     "output_type": "stream",
     "text": [
      "CMIP6.ScenarioMIP.MIROC.MIROC6.ssp245.r8i1p1f1.day.sfcWind.gn.v20200623-CMIP6.ScenarioMIP.MIROC.MIROC6.ssp245.r8i1p1f1.day.sfcWind.gn.v20200623|esgf-data1.llnl.gov: Extracting URLS\n"
     ]
    },
    {
     "name": "stderr",
     "output_type": "stream",
     "text": [
      "\n",
      "-------------------------------------------------------------------------------\n",
      "Warning - defaulting to search with facets=*\n",
      "\n",
      "This behavior is kept for backward-compatibility, but ESGF indexes might not\n",
      "successfully perform a distributed search when this option is used, so some\n",
      "results may be missing.  For full results, it is recommended to pass a list of\n",
      "facets of interest when instantiating a context object.  For example,\n",
      "\n",
      "      ctx = conn.new_context(facets='project,experiment_id')\n",
      "\n",
      "Only the facets that you specify will be present in the facets_counts dictionary.\n",
      "\n",
      "This warning is displayed when a distributed search is performed while using the\n",
      "facets=* default, a maximum of once per context object.  To suppress this warning,\n",
      "set the environment variable ESGF_PYCLIENT_NO_FACETS_STAR_WARNING to any value\n",
      "or explicitly use  conn.new_context(facets='*')\n",
      "\n",
      "-------------------------------------------------------------------------------\n"
     ]
    },
    {
     "name": "stdout",
     "output_type": "stream",
     "text": [
      "CMIP6.ScenarioMIP.MIROC.MIROC6.ssp245.r9i1p1f1.day.sfcWind.gn.v20200623: Found 2 hits\n",
      "CMIP6.ScenarioMIP.MIROC.MIROC6.ssp245.r9i1p1f1.day.sfcWind.gn.v20200623-CMIP6.ScenarioMIP.MIROC.MIROC6.ssp245.r9i1p1f1.day.sfcWind.gn.v20200623|esgf-data2.diasjp.net: Extracting URLS\n"
     ]
    },
    {
     "name": "stderr",
     "output_type": "stream",
     "text": [
      "\n",
      "-------------------------------------------------------------------------------\n",
      "Warning - defaulting to search with facets=*\n",
      "\n",
      "This behavior is kept for backward-compatibility, but ESGF indexes might not\n",
      "successfully perform a distributed search when this option is used, so some\n",
      "results may be missing.  For full results, it is recommended to pass a list of\n",
      "facets of interest when instantiating a context object.  For example,\n",
      "\n",
      "      ctx = conn.new_context(facets='project,experiment_id')\n",
      "\n",
      "Only the facets that you specify will be present in the facets_counts dictionary.\n",
      "\n",
      "This warning is displayed when a distributed search is performed while using the\n",
      "facets=* default, a maximum of once per context object.  To suppress this warning,\n",
      "set the environment variable ESGF_PYCLIENT_NO_FACETS_STAR_WARNING to any value\n",
      "or explicitly use  conn.new_context(facets='*')\n",
      "\n",
      "-------------------------------------------------------------------------------\n"
     ]
    },
    {
     "name": "stdout",
     "output_type": "stream",
     "text": [
      "CMIP6.ScenarioMIP.MIROC.MIROC6.ssp245.r9i1p1f1.day.sfcWind.gn.v20200623-CMIP6.ScenarioMIP.MIROC.MIROC6.ssp245.r9i1p1f1.day.sfcWind.gn.v20200623|esgf-data1.llnl.gov: Extracting URLS\n"
     ]
    },
    {
     "name": "stderr",
     "output_type": "stream",
     "text": [
      "\n",
      "-------------------------------------------------------------------------------\n",
      "Warning - defaulting to search with facets=*\n",
      "\n",
      "This behavior is kept for backward-compatibility, but ESGF indexes might not\n",
      "successfully perform a distributed search when this option is used, so some\n",
      "results may be missing.  For full results, it is recommended to pass a list of\n",
      "facets of interest when instantiating a context object.  For example,\n",
      "\n",
      "      ctx = conn.new_context(facets='project,experiment_id')\n",
      "\n",
      "Only the facets that you specify will be present in the facets_counts dictionary.\n",
      "\n",
      "This warning is displayed when a distributed search is performed while using the\n",
      "facets=* default, a maximum of once per context object.  To suppress this warning,\n",
      "set the environment variable ESGF_PYCLIENT_NO_FACETS_STAR_WARNING to any value\n",
      "or explicitly use  conn.new_context(facets='*')\n",
      "\n",
      "-------------------------------------------------------------------------------\n"
     ]
    }
   ],
   "source": [
    "## Query ESGF for the urls\n",
    "iid_schema = 'mip_era.activity_id.institution_id.source_id.experiment_id.member_id.table_id.variable_id.grid_label.version'\n",
    "\n",
    "conn = SearchConnection(\n",
    "    \"https://esgf-node.llnl.gov/esg-search\",\n",
    "    distrib=True\n",
    ")\n",
    "recipe_input_dict = {}\n",
    "for iid in iids:\n",
    "    try:\n",
    "        context_kwargs = {'replica':None,'facets':['doi']} # this assumes that I can use replicas just as master records. I think that is fine\n",
    "        for label, value in zip(iid_schema.split('.'), iid.split('.')):\n",
    "            context_kwargs[label] = value\n",
    "\n",
    "        # is this a problem with the `v...` in version?\n",
    "        context_kwargs['version'] = context_kwargs['version'].replace('v','')\n",
    "\n",
    "        # testing\n",
    "        # del context_kwargs['version']\n",
    "        ctx = conn.new_context(**context_kwargs)\n",
    "        print(f\"{iid}: Found {ctx.hit_count} hits\")\n",
    "\n",
    "        results = ctx.search() # these might include several data nodes (curiously even if I set replica to false?)\n",
    "\n",
    "        if len(results)<1:\n",
    "            print(f'Nothing found for {iid}. Skipping.')\n",
    "        else:\n",
    "            # for now take the first one that has any urls at all\n",
    "            for ri,result in enumerate(results):\n",
    "                print(f\"{iid}-{result.dataset_id}: Extracting URLS\")\n",
    "                urls = [f.download_url for f in result.file_context().search()] # this raises an annoying warning each time. FIXME\n",
    "                if len(urls)>0:\n",
    "                    recipe_input_dict[iid] = {}\n",
    "                    recipe_input_dict[iid]['urls'] = urls\n",
    "                    # populate this to pass to the database later\n",
    "                    recipe_input_dict[iid]['instance_id'],recipe_input_dict[iid]['data_node'] = result.dataset_id.split('|')\n",
    "                    break\n",
    "    except:\n",
    "        print('failed')"
   ]
  },
  {
   "cell_type": "code",
   "execution_count": 14,
   "id": "5aa61b73-b1e5-4a77-8b58-867c8880a6f2",
   "metadata": {
    "tags": []
   },
   "outputs": [],
   "source": [
    "# result.json"
   ]
  },
  {
   "cell_type": "code",
   "execution_count": 15,
   "id": "130cfee4-a8ad-46b1-9afb-cee015be96ca",
   "metadata": {
    "tags": []
   },
   "outputs": [],
   "source": [
    "import gcsfs\n",
    "import json\n",
    "with open('/Users/juliusbusecke/Downloads/keys/leap-pangeo-dataflow_service_account.json') as f:\n",
    "    token = json.load(f)\n",
    "fs = gcsfs.GCSFileSystem(token=token) # auth here...\n",
    "\n",
    "for k,v in recipe_input_dict.items():\n",
    "    with open(f\"{k}.json\", 'w') as file:\n",
    "        json.dump(v, file)\n",
    "    fs.put(f\"{k}.json\", f\"gs://leap-persistent/jbusecke/cmip6urls/{k}.json\")"
   ]
  },
  {
   "cell_type": "code",
   "execution_count": 16,
   "id": "fefb6fea-f8b0-47e2-bc06-182d8b3a63f0",
   "metadata": {},
   "outputs": [
    {
     "data": {
      "text/plain": [
       "{'CMIP6.ScenarioMIP.MIROC.MIROC6.ssp245.r10i1p1f1.day.sfcWind.gn.v20200623',\n",
       " 'CMIP6.ScenarioMIP.MIROC.MIROC6.ssp245.r11i1p1f1.day.sfcWind.gn.v20200623',\n",
       " 'CMIP6.ScenarioMIP.MIROC.MIROC6.ssp245.r12i1p1f1.day.sfcWind.gn.v20200623',\n",
       " 'CMIP6.ScenarioMIP.MIROC.MIROC6.ssp245.r13i1p1f1.day.sfcWind.gn.v20200623',\n",
       " 'CMIP6.ScenarioMIP.MIROC.MIROC6.ssp245.r14i1p1f1.day.sfcWind.gn.v20200623',\n",
       " 'CMIP6.ScenarioMIP.MIROC.MIROC6.ssp245.r15i1p1f1.day.sfcWind.gn.v20200623',\n",
       " 'CMIP6.ScenarioMIP.MIROC.MIROC6.ssp245.r16i1p1f1.day.sfcWind.gn.v20200623',\n",
       " 'CMIP6.ScenarioMIP.MIROC.MIROC6.ssp245.r17i1p1f1.day.sfcWind.gn.v20200623',\n",
       " 'CMIP6.ScenarioMIP.MIROC.MIROC6.ssp245.r18i1p1f1.day.sfcWind.gn.v20200623',\n",
       " 'CMIP6.ScenarioMIP.MIROC.MIROC6.ssp245.r19i1p1f1.day.sfcWind.gn.v20200623',\n",
       " 'CMIP6.ScenarioMIP.MIROC.MIROC6.ssp245.r20i1p1f1.day.sfcWind.gn.v20200623',\n",
       " 'CMIP6.ScenarioMIP.MIROC.MIROC6.ssp245.r4i1p1f1.day.sfcWind.gn.v20200623',\n",
       " 'CMIP6.ScenarioMIP.MIROC.MIROC6.ssp245.r5i1p1f1.day.sfcWind.gn.v20200623',\n",
       " 'CMIP6.ScenarioMIP.MIROC.MIROC6.ssp245.r6i1p1f1.day.sfcWind.gn.v20200623',\n",
       " 'CMIP6.ScenarioMIP.MIROC.MIROC6.ssp245.r7i1p1f1.day.sfcWind.gn.v20200623',\n",
       " 'CMIP6.ScenarioMIP.MIROC.MIROC6.ssp245.r8i1p1f1.day.sfcWind.gn.v20200623',\n",
       " 'CMIP6.ScenarioMIP.MIROC.MIROC6.ssp245.r9i1p1f1.day.sfcWind.gn.v20200623'}"
      ]
     },
     "execution_count": 16,
     "metadata": {},
     "output_type": "execute_result"
    }
   ],
   "source": [
    "set(iids) - set(recipe_input_dict.keys())"
   ]
  },
  {
   "cell_type": "code",
   "execution_count": 17,
   "id": "14430bed-fc52-4a77-a0dc-7482e798b9e0",
   "metadata": {
    "tags": []
   },
   "outputs": [],
   "source": [
    "# list(recipe_input_dict.keys())"
   ]
  },
  {
   "cell_type": "code",
   "execution_count": null,
   "id": "d30f20a5-de02-43c8-b6d4-7f0c16657ce6",
   "metadata": {},
   "outputs": [],
   "source": []
  }
 ],
 "metadata": {
  "kernelspec": {
   "display_name": "Python 3 (ipykernel)",
   "language": "python",
   "name": "python3"
  },
  "language_info": {
   "codemirror_mode": {
    "name": "ipython",
    "version": 3
   },
   "file_extension": ".py",
   "mimetype": "text/x-python",
   "name": "python",
   "nbconvert_exporter": "python",
   "pygments_lexer": "ipython3",
   "version": "3.9.16"
  }
 },
 "nbformat": 4,
 "nbformat_minor": 5
}
